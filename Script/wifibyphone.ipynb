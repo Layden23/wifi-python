{
  "nbformat": 4,
  "nbformat_minor": 0,
  "metadata": {
    "kernelspec": {
      "display_name": "Python 3",
      "language": "python",
      "name": "python3"
    },
    "language_info": {
      "codemirror_mode": {
        "name": "ipython",
        "version": 3
      },
      "file_extension": ".py",
      "mimetype": "text/x-python",
      "name": "python",
      "nbconvert_exporter": "python",
      "pygments_lexer": "ipython3",
      "version": "3.7.3"
    },
    "colab": {
      "name": "wifi.ipynb",
      "provenance": []
    }
  },
  "cells": [
    {
      "cell_type": "markdown",
      "metadata": {
        "id": "eqQPmk8t6Jbb",
        "colab_type": "text"
      },
      "source": [
        "# Import libraries "
      ]
    },
    {
      "cell_type": "code",
      "metadata": {
        "id": "gUlqZ5y86Jbd",
        "colab_type": "code",
        "colab": {}
      },
      "source": [
        "#imports\n",
        "import scipy\n",
        "import math as mt\n",
        "import numpy as np\n",
        "import pandas as pd\n",
        "import plotly.express as px\n",
        "import matplotlib.pyplot as plt\n",
        "import sklearn \n",
        "from sklearn.preprocessing import StandardScaler\n",
        "from sklearn.preprocessing import Normalizer\n",
        "from sklearn.preprocessing import MinMaxScaler\n",
        "from sklearn.decomposition import PCA\n",
        "\n",
        "#estimators\n",
        "from sklearn.ensemble import RandomForestRegressor\n",
        "from sklearn.ensemble import RandomForestClassifier\n",
        "from sklearn.svm import SVR\n",
        "from sklearn import linear_model\n",
        "from sklearn.neighbors import KNeighborsClassifier\n",
        "from sklearn.neighbors import KNeighborsRegressor\n",
        "from xgboost import XGBClassifier\n",
        "from xgboost import XGBRegressor\n",
        "from sklearn.preprocessing import scale\n",
        "#model metrics\n",
        "from sklearn.metrics import mean_squared_error\n",
        "from sklearn.metrics import r2_score\n",
        "from sklearn.metrics import mean_absolute_error\n",
        "from sklearn.model_selection import cross_val_score\n",
        "from sklearn.metrics import cohen_kappa_score\n",
        "from sklearn.metrics import accuracy_score\n",
        "from sklearn.metrics import confusion_matrix\n",
        "\n",
        "#cross validation\n",
        "from sklearn.model_selection import train_test_split\n",
        "from math import sqrt\n",
        "import random "
      ],
      "execution_count": 0,
      "outputs": []
    },
    {
      "cell_type": "markdown",
      "metadata": {
        "id": "PzVR9p_C6Jbg",
        "colab_type": "text"
      },
      "source": [
        "## Table Of Content:\n",
        "\n",
        "* [1. Import Dataset](#Import)   \n",
        "* [2. Feature engineering](#Feature)   \n",
        "* [3. Cascading](#Cascading)   \n",
        "    *  [3.1 Building](##Building)   \n",
        "    *  [3.2 Latitude](##Latitude) \n",
        "    *  [3.3 Longitude](##Longitude) \n",
        "    *  [3.4 Floor](##Floor) "
      ]
    },
    {
      "cell_type": "markdown",
      "metadata": {
        "id": "hhaFR8_E6Jbh",
        "colab_type": "text"
      },
      "source": [
        "# <a class=\"anchor\" id=\"Import\"> 1. Import dataset </a>"
      ]
    },
    {
      "cell_type": "code",
      "metadata": {
        "id": "DnFL38zQ6Jbi",
        "colab_type": "code",
        "colab": {}
      },
      "source": [
        "random.seed(203)\n",
        "\n",
        "#Importing dataset\n",
        "wifi = pd.read_csv(\"https://raw.githubusercontent.com/Layden23/wifi-python/master/Datasets/trainingData.csv\", header = 0)\n",
        "wifi[\"type\"] = \"train\"\n",
        "validate = pd.read_csv(\"https://raw.githubusercontent.com/Layden23/wifi-python/master/Datasets/validationData.csv\", header = 0)\n",
        "validate[\"type\"] = \"test\"\n",
        "twifi = wifi.append(validate)"
      ],
      "execution_count": 0,
      "outputs": []
    },
    {
      "cell_type": "code",
      "metadata": {
        "id": "DJ8d63GmJrZF",
        "colab_type": "code",
        "colab": {}
      },
      "source": [
        "wifi = wifi.iloc[:,0:520].drop_duplicates(subset=None, keep='first')\n",
        "validate = validate.iloc[:,0:520].drop_duplicates(subset=None, keep=\"first\")"
      ],
      "execution_count": 0,
      "outputs": []
    },
    {
      "cell_type": "code",
      "metadata": {
        "id": "3Q8Ch0Pb6Jbk",
        "colab_type": "code",
        "colab": {}
      },
      "source": [
        "twifi.iloc[:, 0:520] = np.where(twifi.iloc[:, 0:520] <= 0,\n",
        "         twifi.iloc[:, 0:520] + 105,\n",
        "         twifi.iloc[:, 0:520] - 100)"
      ],
      "execution_count": 0,
      "outputs": []
    },
    {
      "cell_type": "code",
      "metadata": {
        "id": "IDn4JCWb6Jbm",
        "colab_type": "code",
        "colab": {}
      },
      "source": [
        "twifi.iloc[:,0:520] = twifi.iloc[:,0:520].replace([1,2,3,4,5,6,7,8,9,10,11,12,13,14,15,16],17)\n",
        "twifi.iloc[:,0:520] = twifi.iloc[:,0:520] - 16 \n",
        "twifi.iloc[:,0:520] = twifi.iloc[:,0:520].replace(-16,0)"
      ],
      "execution_count": 0,
      "outputs": []
    },
    {
      "cell_type": "code",
      "metadata": {
        "id": "qL_dVveC6Jbp",
        "colab_type": "code",
        "colab": {}
      },
      "source": [
        "norm = Normalizer(norm=\"max\").fit(twifi.iloc[:,0:520])\n",
        "twifi.iloc[:,0:520] = norm.transform(twifi.iloc[:,0:520])\n",
        "stand = MinMaxScaler().fit(twifi.iloc[:,0:520])\n",
        "twifi.iloc[:,0:520] = stand.transform(twifi.iloc[:,0:520])"
      ],
      "execution_count": 0,
      "outputs": []
    },
    {
      "cell_type": "code",
      "metadata": {
        "id": "Lp6CuxMF6Jbr",
        "colab_type": "code",
        "colab": {}
      },
      "source": [
        "validate = twifi[twifi[\"type\"] == \"test\"]\n",
        "wifi = twifi[twifi[\"type\"] == \"train\"]\n"
      ],
      "execution_count": 0,
      "outputs": []
    },
    {
      "cell_type": "code",
      "metadata": {
        "id": "FeYBKbKm6Jbt",
        "colab_type": "code",
        "colab": {
          "base_uri": "https://localhost:8080/",
          "height": 289
        },
        "outputId": "e99b4f8b-9442-4bb1-ffff-9b2707ff382c"
      },
      "source": [
        "wifi[\"LONGITUDE\"] = - wifi[\"LONGITUDE\"]\n",
        "validate[\"LONGITUDE\"]= - validate[\"LONGITUDE\"]"
      ],
      "execution_count": 7,
      "outputs": [
        {
          "output_type": "stream",
          "text": [
            "/usr/local/lib/python3.6/dist-packages/ipykernel_launcher.py:1: SettingWithCopyWarning:\n",
            "\n",
            "\n",
            "A value is trying to be set on a copy of a slice from a DataFrame.\n",
            "Try using .loc[row_indexer,col_indexer] = value instead\n",
            "\n",
            "See the caveats in the documentation: http://pandas.pydata.org/pandas-docs/stable/indexing.html#indexing-view-versus-copy\n",
            "\n",
            "/usr/local/lib/python3.6/dist-packages/ipykernel_launcher.py:2: SettingWithCopyWarning:\n",
            "\n",
            "\n",
            "A value is trying to be set on a copy of a slice from a DataFrame.\n",
            "Try using .loc[row_indexer,col_indexer] = value instead\n",
            "\n",
            "See the caveats in the documentation: http://pandas.pydata.org/pandas-docs/stable/indexing.html#indexing-view-versus-copy\n",
            "\n"
          ],
          "name": "stderr"
        }
      ]
    },
    {
      "cell_type": "markdown",
      "metadata": {
        "id": "EjZ39pIP6Jbx",
        "colab_type": "text"
      },
      "source": [
        "# <a class=\"anchor\" id=\"Feature\"> 2. Feature engineering </a>"
      ]
    },
    {
      "cell_type": "code",
      "metadata": {
        "id": "pSW6s07M6Jbx",
        "colab_type": "code",
        "colab": {
          "base_uri": "https://localhost:8080/",
          "height": 548
        },
        "outputId": "f45ce00f-5cdc-4fce-af1f-cfdbd8b076ac"
      },
      "source": [
        "angle =np.arctan(wifi[\"LATITUDE\"][0]/wifi[\"LONGITUDE\"][0])\n",
        "angle = angle/mt.pi\n",
        "LONGITUDE = wifi[\"LONGITUDE\"]*np.cos(angle) + wifi[\"LATITUDE\"]*np.sin(angle)\n",
        "LATITUDE = wifi[\"LATITUDE\"]*np.cos(angle) - wifi[\"LONGITUDE\"]*np.sin(angle)\n",
        "plt.scatter(LONGITUDE,LATITUDE)\n",
        "wifi[\"LONGITUDE\"] = LONGITUDE\n",
        "wifi[\"LATITUDE\"] = LATITUDE\n",
        "plt.show()"
      ],
      "execution_count": 8,
      "outputs": [
        {
          "output_type": "stream",
          "text": [
            "/usr/local/lib/python3.6/dist-packages/ipykernel_launcher.py:6: SettingWithCopyWarning:\n",
            "\n",
            "\n",
            "A value is trying to be set on a copy of a slice from a DataFrame.\n",
            "Try using .loc[row_indexer,col_indexer] = value instead\n",
            "\n",
            "See the caveats in the documentation: http://pandas.pydata.org/pandas-docs/stable/indexing.html#indexing-view-versus-copy\n",
            "\n",
            "/usr/local/lib/python3.6/dist-packages/ipykernel_launcher.py:7: SettingWithCopyWarning:\n",
            "\n",
            "\n",
            "A value is trying to be set on a copy of a slice from a DataFrame.\n",
            "Try using .loc[row_indexer,col_indexer] = value instead\n",
            "\n",
            "See the caveats in the documentation: http://pandas.pydata.org/pandas-docs/stable/indexing.html#indexing-view-versus-copy\n",
            "\n"
          ],
          "name": "stderr"
        },
        {
          "output_type": "display_data",
          "data": {
            "image/png": "[encoded data removed]",
            "text/plain": [
              "<Figure size 432x288 with 1 Axes>"
            ]
          },
          "metadata": {
            "tags": []
          }
        }
      ]
    },
    {
      "cell_type": "code",
      "metadata": {
        "id": "YJp-zL_F6Jb1",
        "colab_type": "code",
        "colab": {
          "base_uri": "https://localhost:8080/",
          "height": 565
        },
        "outputId": "424bd2d7-6628-4492-82d2-52b3e89a7e35"
      },
      "source": [
        "vlong = validate[\"LONGITUDE\"]*np.cos(angle) +validate[\"LATITUDE\"]*np.sin(angle)\n",
        "vlat = validate[\"LATITUDE\"]*np.cos(angle) - validate[\"LONGITUDE\"]*np.sin(angle)\n",
        "validate[\"LONGITUDE\"] = vlong\n",
        "validate[\"LATITUDE\"] = vlat\n",
        "plt.scatter(vlong,vlat)"
      ],
      "execution_count": 9,
      "outputs": [
        {
          "output_type": "stream",
          "text": [
            "/usr/local/lib/python3.6/dist-packages/ipykernel_launcher.py:3: SettingWithCopyWarning:\n",
            "\n",
            "\n",
            "A value is trying to be set on a copy of a slice from a DataFrame.\n",
            "Try using .loc[row_indexer,col_indexer] = value instead\n",
            "\n",
            "See the caveats in the documentation: http://pandas.pydata.org/pandas-docs/stable/indexing.html#indexing-view-versus-copy\n",
            "\n",
            "/usr/local/lib/python3.6/dist-packages/ipykernel_launcher.py:4: SettingWithCopyWarning:\n",
            "\n",
            "\n",
            "A value is trying to be set on a copy of a slice from a DataFrame.\n",
            "Try using .loc[row_indexer,col_indexer] = value instead\n",
            "\n",
            "See the caveats in the documentation: http://pandas.pydata.org/pandas-docs/stable/indexing.html#indexing-view-versus-copy\n",
            "\n"
          ],
          "name": "stderr"
        },
        {
          "output_type": "execute_result",
          "data": {
            "text/plain": [
              "<matplotlib.collections.PathCollection at 0x7f32067524a8>"
            ]
          },
          "metadata": {
            "tags": []
          },
          "execution_count": 9
        },
        {
          "output_type": "display_data",
          "data": {
            "image/png": "[encoded data removed]",
            "text/plain": [
              "<Figure size 432x288 with 1 Axes>"
            ]
          },
          "metadata": {
            "tags": []
          }
        }
      ]
    },
    {
      "cell_type": "code",
      "metadata": {
        "id": "MW1fZpWy6Jb3",
        "colab_type": "code",
        "colab": {}
      },
      "source": [
        "swifi = []\n",
        "for i in wifi.iloc[:,0:520]:\n",
        "    swifi.append(sum(wifi[i]))\n",
        "svalidate = []\n",
        "for i in validate.iloc[:,0:520]:\n",
        "    svalidate.append(sum(validate[i]))\n",
        "sumwifi = pd.DataFrame({'col1': [i for i in wifi.iloc[:,0:520]] , 'col2': swifi})\n",
        "sumvalidate = pd.DataFrame({'col1': [i for i in validate.iloc[:,0:520]] , 'col2': svalidate})\n",
        "\n",
        "nosignal = np.where(sumwifi['col2']==0)\n",
        "vnosignal = np.where(sumvalidate[\"col2\"]==0)\n",
        "badwaps = sumwifi.iloc[nosignal[0],:]\n",
        "vadwaps = sumvalidate.iloc[vnosignal[0],:]  "
      ],
      "execution_count": 0,
      "outputs": []
    },
    {
      "cell_type": "code",
      "metadata": {
        "id": "hFy3IvFD6Jb6",
        "colab_type": "code",
        "colab": {}
      },
      "source": [
        "wifi = wifi.drop(vadwaps[\"col1\"], axis=1)\n",
        "validate = validate.drop(vadwaps[\"col1\"], axis = 1)\n",
        "n = 520 - len(vadwaps)"
      ],
      "execution_count": 0,
      "outputs": []
    },
    {
      "cell_type": "markdown",
      "metadata": {
        "id": "Lw6fEJuj6Jb9",
        "colab_type": "text"
      },
      "source": [
        "# <a class=\"anchor\" id=\"Cascading\"> 3. Cascading </a>"
      ]
    },
    {
      "cell_type": "markdown",
      "metadata": {
        "id": "qQKVtzLd6Jb-",
        "colab_type": "text"
      },
      "source": [
        "## <a class=\"anchor\" id=\"Building\"> 3.1 Building </a>"
      ]
    },
    {
      "cell_type": "code",
      "metadata": {
        "id": "Mr6cfD2m6Jb-",
        "colab_type": "code",
        "colab": {}
      },
      "source": [
        "#features\n",
        "X = wifi.iloc[:,0:n]\n",
        "pca = PCA(0.999)\n",
        "pca.fit(twifi.iloc[:,0:n])\n",
        "pcX = pd.DataFrame(pca.transform(X))\n",
        "y = wifi[\"BUILDINGID\"]\n",
        "vx = validate.iloc[:,0:n] \n",
        "pcvx = pd.DataFrame(pca.transform(vx))\n",
        "vy = validate[\"BUILDINGID\"]"
      ],
      "execution_count": 0,
      "outputs": []
    },
    {
      "cell_type": "code",
      "metadata": {
        "scrolled": true,
        "id": "TikWXhVa6JcB",
        "colab_type": "code",
        "colab": {
          "base_uri": "https://localhost:8080/",
          "height": 68
        },
        "outputId": "57207439-31fd-4bf9-fff9-ad5642500c80"
      },
      "source": [
        "#Models\n",
        "knn = KNeighborsClassifier(n_neighbors= 5, metric = \"euclidean\", weights=\"distance\")\n",
        "knnm = KNeighborsClassifier(n_neighbors= 5, metric = \"manhattan\", weights=\"distance\")\n",
        "knn.fit(pcX, y)\n",
        "knnm.fit(pcX, y)\n"
      ],
      "execution_count": 13,
      "outputs": [
        {
          "output_type": "execute_result",
          "data": {
            "text/plain": [
              "KNeighborsClassifier(algorithm='auto', leaf_size=30, metric='manhattan',\n",
              "                     metric_params=None, n_jobs=None, n_neighbors=5, p=2,\n",
              "                     weights='distance')"
            ]
          },
          "metadata": {
            "tags": []
          },
          "execution_count": 13
        }
      ]
    },
    {
      "cell_type": "code",
      "metadata": {
        "id": "PGmapVPn6JcE",
        "colab_type": "code",
        "colab": {
          "base_uri": "https://localhost:8080/",
          "height": 136
        },
        "outputId": "3d7c4d2e-b8ea-4bdb-80d1-16c76853f8f6"
      },
      "source": [
        "rf = RandomForestClassifier(n_estimators = 200)\n",
        "rf.fit(pcX, y)"
      ],
      "execution_count": 14,
      "outputs": [
        {
          "output_type": "execute_result",
          "data": {
            "text/plain": [
              "RandomForestClassifier(bootstrap=True, class_weight=None, criterion='gini',\n",
              "                       max_depth=None, max_features='auto', max_leaf_nodes=None,\n",
              "                       min_impurity_decrease=0.0, min_impurity_split=None,\n",
              "                       min_samples_leaf=1, min_samples_split=2,\n",
              "                       min_weight_fraction_leaf=0.0, n_estimators=200,\n",
              "                       n_jobs=None, oob_score=False, random_state=None,\n",
              "                       verbose=0, warm_start=False)"
            ]
          },
          "metadata": {
            "tags": []
          },
          "execution_count": 14
        }
      ]
    },
    {
      "cell_type": "code",
      "metadata": {
        "id": "42jEMhuJ6JcG",
        "colab_type": "code",
        "colab": {}
      },
      "source": [
        "fpreds = rf.predict(pcvx)\n",
        "knnpreds = knn.predict(pcvx)\n",
        "knnmpreds = knnm.predict(pcvx)\n"
      ],
      "execution_count": 0,
      "outputs": []
    },
    {
      "cell_type": "code",
      "metadata": {
        "id": "Sr3mn97q6JcJ",
        "colab_type": "code",
        "colab": {
          "base_uri": "https://localhost:8080/",
          "height": 142
        },
        "outputId": "248f4ca0-aa93-457b-a859-86760d4d04e3"
      },
      "source": [
        "# initialize list of lists \n",
        "performance = [['rf', accuracy_score(vy, fpreds), cohen_kappa_score(vy, fpreds)],\n",
        "               ['kNN', accuracy_score(vy, knnpreds), cohen_kappa_score(vy, knnpreds)],\n",
        "               ['kNNm', accuracy_score(vy, knnmpreds), cohen_kappa_score(vy, knnmpreds)]] \n",
        "  \n",
        "# Create the pandas DataFrame \n",
        "df_perf = pd.DataFrame(performance, columns = ['Model', 'Accuracy','Kappa'])\n",
        "df_perf"
      ],
      "execution_count": 16,
      "outputs": [
        {
          "output_type": "execute_result",
          "data": {
            "text/html": [
              "<div>\n",
              "<style scoped>\n",
              "    .dataframe tbody tr th:only-of-type {\n",
              "        vertical-align: middle;\n",
              "    }\n",
              "\n",
              "    .dataframe tbody tr th {\n",
              "        vertical-align: top;\n",
              "    }\n",
              "\n",
              "    .dataframe thead th {\n",
              "        text-align: right;\n",
              "    }\n",
              "</style>\n",
              "<table border=\"1\" class=\"dataframe\">\n",
              "  <thead>\n",
              "    <tr style=\"text-align: right;\">\n",
              "      <th></th>\n",
              "      <th>Model</th>\n",
              "      <th>Accuracy</th>\n",
              "      <th>Kappa</th>\n",
              "    </tr>\n",
              "  </thead>\n",
              "  <tbody>\n",
              "    <tr>\n",
              "      <th>0</th>\n",
              "      <td>rf</td>\n",
              "      <td>1.0000</td>\n",
              "      <td>1.000000</td>\n",
              "    </tr>\n",
              "    <tr>\n",
              "      <th>1</th>\n",
              "      <td>kNN</td>\n",
              "      <td>0.9973</td>\n",
              "      <td>0.995735</td>\n",
              "    </tr>\n",
              "    <tr>\n",
              "      <th>2</th>\n",
              "      <td>kNNm</td>\n",
              "      <td>0.9973</td>\n",
              "      <td>0.995735</td>\n",
              "    </tr>\n",
              "  </tbody>\n",
              "</table>\n",
              "</div>"
            ],
            "text/plain": [
              "  Model  Accuracy     Kappa\n",
              "0    rf    1.0000  1.000000\n",
              "1   kNN    0.9973  0.995735\n",
              "2  kNNm    0.9973  0.995735"
            ]
          },
          "metadata": {
            "tags": []
          },
          "execution_count": 16
        }
      ]
    },
    {
      "cell_type": "code",
      "metadata": {
        "id": "xNr4sc3r6JcM",
        "colab_type": "code",
        "colab": {
          "base_uri": "https://localhost:8080/",
          "height": 68
        },
        "outputId": "a278d01d-d43a-4099-c56d-ed37e5317240"
      },
      "source": [
        "confusion_matrix(vy, knnpreds, labels=None, sample_weight=None)"
      ],
      "execution_count": 17,
      "outputs": [
        {
          "output_type": "execute_result",
          "data": {
            "text/plain": [
              "array([[534,   0,   2],\n",
              "       [  0, 306,   1],\n",
              "       [  0,   0, 268]])"
            ]
          },
          "metadata": {
            "tags": []
          },
          "execution_count": 17
        }
      ]
    },
    {
      "cell_type": "code",
      "metadata": {
        "id": "J-fKCgoM6JcO",
        "colab_type": "code",
        "colab": {
          "base_uri": "https://localhost:8080/",
          "height": 68
        },
        "outputId": "c2db9bd2-b320-4005-fc07-6e9aa1ac2a64"
      },
      "source": [
        "confusion_matrix(vy, fpreds, labels=None, sample_weight=None)"
      ],
      "execution_count": 18,
      "outputs": [
        {
          "output_type": "execute_result",
          "data": {
            "text/plain": [
              "array([[536,   0,   0],\n",
              "       [  0, 307,   0],\n",
              "       [  0,   0, 268]])"
            ]
          },
          "metadata": {
            "tags": []
          },
          "execution_count": 18
        }
      ]
    },
    {
      "cell_type": "markdown",
      "metadata": {
        "id": "lg0dp-6C6JcR",
        "colab_type": "text"
      },
      "source": [
        "## <a class=\"anchor\" id=\"Longitude\"> 3.2 Longitude </a>"
      ]
    },
    {
      "cell_type": "code",
      "metadata": {
        "id": "lgK3SHxj6JcW",
        "colab_type": "code",
        "colab": {}
      },
      "source": [
        "X1 = X.copy()\n",
        "X1[\"BUILDINGID\"] = wifi[\"BUILDINGID\"]\n",
        "y1 = wifi[\"LONGITUDE\"]\n",
        "vx1 = vx.copy()\n",
        "vx1[\"BUILDINGID\"] = rf.predict(pcvx)\n",
        "vy1 = validate[\"LONGITUDE\"]"
      ],
      "execution_count": 0,
      "outputs": []
    },
    {
      "cell_type": "code",
      "metadata": {
        "id": "4APgp7mj6Jcb",
        "colab_type": "code",
        "colab": {
          "base_uri": "https://localhost:8080/",
          "height": 68
        },
        "outputId": "972991ed-88b9-4ef6-f3d8-64bdfa2b4b94"
      },
      "source": [
        "knn1 = KNeighborsRegressor(n_neighbors= 10, metric = \"euclidean\", weights=\"distance\")\n",
        "knnm1 = KNeighborsRegressor(n_neighbors= 10, metric = \"manhattan\", weights=\"distance\")\n",
        "knn1.fit(X1, y1)\n",
        "knnm1.fit(X1, y1)\n"
      ],
      "execution_count": 20,
      "outputs": [
        {
          "output_type": "execute_result",
          "data": {
            "text/plain": [
              "KNeighborsRegressor(algorithm='auto', leaf_size=30, metric='manhattan',\n",
              "                    metric_params=None, n_jobs=None, n_neighbors=10, p=2,\n",
              "                    weights='distance')"
            ]
          },
          "metadata": {
            "tags": []
          },
          "execution_count": 20
        }
      ]
    },
    {
      "cell_type": "code",
      "metadata": {
        "id": "E5aTZeTv6Jce",
        "colab_type": "code",
        "colab": {
          "base_uri": "https://localhost:8080/",
          "height": 136
        },
        "outputId": "7bd7f17f-1962-4cb9-82c1-16dafb54cb49"
      },
      "source": [
        "rf1 = RandomForestRegressor(n_estimators = 100)\n",
        "rf1.fit(X1, y1)"
      ],
      "execution_count": 21,
      "outputs": [
        {
          "output_type": "execute_result",
          "data": {
            "text/plain": [
              "RandomForestRegressor(bootstrap=True, criterion='mse', max_depth=None,\n",
              "                      max_features='auto', max_leaf_nodes=None,\n",
              "                      min_impurity_decrease=0.0, min_impurity_split=None,\n",
              "                      min_samples_leaf=1, min_samples_split=2,\n",
              "                      min_weight_fraction_leaf=0.0, n_estimators=100,\n",
              "                      n_jobs=None, oob_score=False, random_state=None,\n",
              "                      verbose=0, warm_start=False)"
            ]
          },
          "metadata": {
            "tags": []
          },
          "execution_count": 21
        }
      ]
    },
    {
      "cell_type": "code",
      "metadata": {
        "id": "P7d9RUBu6Jch",
        "colab_type": "code",
        "colab": {}
      },
      "source": [
        "rfpreds1 = rf1.predict(vx1)\n",
        "knnpreds1 = knn1.predict(vx1)\n",
        "knnmpreds1 = knnm1.predict(vx1)\n"
      ],
      "execution_count": 0,
      "outputs": []
    },
    {
      "cell_type": "code",
      "metadata": {
        "id": "1gXFk6Fs6Jcj",
        "colab_type": "code",
        "colab": {
          "base_uri": "https://localhost:8080/",
          "height": 142
        },
        "outputId": "82c3bf38-4b54-431d-d0e0-82b7eaf0ce3f"
      },
      "source": [
        "# initialize list of lists \n",
        "performance1 = [['Forest', sqrt(mean_squared_error(vy1, rfpreds1)), r2_score(vy1, rfpreds1),mean_absolute_error(vy1, rfpreds1)],\n",
        "               ['kNN', sqrt(mean_squared_error(vy1, knnpreds1)), r2_score(vy1, knnpreds1),mean_absolute_error(vy1, knnpreds1)],\n",
        "                ['kNNm', sqrt(mean_squared_error(vy1, knnmpreds1)), r2_score(vy1, knnmpreds1),mean_absolute_error(vy1, knnmpreds1)]]\n",
        "  \n",
        "# Create the pandas DataFrame \n",
        "df_perf1 = pd.DataFrame(performance1, columns = ['Model', \"RMSE\",\"r2\",\"MAE\"])\n",
        "df_perf1"
      ],
      "execution_count": 23,
      "outputs": [
        {
          "output_type": "execute_result",
          "data": {
            "text/html": [
              "<div>\n",
              "<style scoped>\n",
              "    .dataframe tbody tr th:only-of-type {\n",
              "        vertical-align: middle;\n",
              "    }\n",
              "\n",
              "    .dataframe tbody tr th {\n",
              "        vertical-align: top;\n",
              "    }\n",
              "\n",
              "    .dataframe thead th {\n",
              "        text-align: right;\n",
              "    }\n",
              "</style>\n",
              "<table border=\"1\" class=\"dataframe\">\n",
              "  <thead>\n",
              "    <tr style=\"text-align: right;\">\n",
              "      <th></th>\n",
              "      <th>Model</th>\n",
              "      <th>RMSE</th>\n",
              "      <th>r2</th>\n",
              "      <th>MAE</th>\n",
              "    </tr>\n",
              "  </thead>\n",
              "  <tbody>\n",
              "    <tr>\n",
              "      <th>0</th>\n",
              "      <td>Forest</td>\n",
              "      <td>9.761704</td>\n",
              "      <td>0.994792</td>\n",
              "      <td>6.142442</td>\n",
              "    </tr>\n",
              "    <tr>\n",
              "      <th>1</th>\n",
              "      <td>kNN</td>\n",
              "      <td>7.940597</td>\n",
              "      <td>0.996554</td>\n",
              "      <td>4.576782</td>\n",
              "    </tr>\n",
              "    <tr>\n",
              "      <th>2</th>\n",
              "      <td>kNNm</td>\n",
              "      <td>10.377524</td>\n",
              "      <td>0.994115</td>\n",
              "      <td>5.427416</td>\n",
              "    </tr>\n",
              "  </tbody>\n",
              "</table>\n",
              "</div>"
            ],
            "text/plain": [
              "    Model       RMSE        r2       MAE\n",
              "0  Forest   9.761704  0.994792  6.142442\n",
              "1     kNN   7.940597  0.996554  4.576782\n",
              "2    kNNm  10.377524  0.994115  5.427416"
            ]
          },
          "metadata": {
            "tags": []
          },
          "execution_count": 23
        }
      ]
    },
    {
      "cell_type": "markdown",
      "metadata": {
        "id": "9PTVBKqh6Jcm",
        "colab_type": "text"
      },
      "source": [
        "## <a class=\"anchor\" id=\"Latitude\"> 3.3 Latitude </a>"
      ]
    },
    {
      "cell_type": "code",
      "metadata": {
        "id": "Gx0DYGfN6Jcm",
        "colab_type": "code",
        "colab": {}
      },
      "source": [
        "X2 = X.copy()\n",
        "X2[\"BUILDINGID\"] = wifi[\"BUILDINGID\"]\n",
        "y2 = wifi[\"LATITUDE\"]\n",
        "vx2 = vx.copy()\n",
        "vx2[\"BUILDINGID\"] = rf.predict(pcvx)\n",
        "vy2 = validate[\"LATITUDE\"]"
      ],
      "execution_count": 0,
      "outputs": []
    },
    {
      "cell_type": "code",
      "metadata": {
        "id": "rfw25cSJ6Jcr",
        "colab_type": "code",
        "colab": {
          "base_uri": "https://localhost:8080/",
          "height": 68
        },
        "outputId": "c121270a-c689-45fd-a08c-81f994f667bd"
      },
      "source": [
        "knn2 = KNeighborsRegressor(n_neighbors= 9, metric = \"euclidean\", weights=\"distance\")\n",
        "knn2.fit(X2, y2)\n",
        "knnm2 = KNeighborsRegressor(n_neighbors= 9, metric = \"manhattan\", weights=\"distance\")\n",
        "knnm2.fit(X2, y2)"
      ],
      "execution_count": 25,
      "outputs": [
        {
          "output_type": "execute_result",
          "data": {
            "text/plain": [
              "KNeighborsRegressor(algorithm='auto', leaf_size=30, metric='manhattan',\n",
              "                    metric_params=None, n_jobs=None, n_neighbors=9, p=2,\n",
              "                    weights='distance')"
            ]
          },
          "metadata": {
            "tags": []
          },
          "execution_count": 25
        }
      ]
    },
    {
      "cell_type": "code",
      "metadata": {
        "id": "wGP7uQ_M6Jcv",
        "colab_type": "code",
        "colab": {
          "base_uri": "https://localhost:8080/",
          "height": 136
        },
        "outputId": "a8a2dd78-3606-4820-d0da-1f23f6b42cd6"
      },
      "source": [
        "rf2 = RandomForestRegressor(n_estimators = 100)\n",
        "rf2.fit(X2, y2)"
      ],
      "execution_count": 26,
      "outputs": [
        {
          "output_type": "execute_result",
          "data": {
            "text/plain": [
              "RandomForestRegressor(bootstrap=True, criterion='mse', max_depth=None,\n",
              "                      max_features='auto', max_leaf_nodes=None,\n",
              "                      min_impurity_decrease=0.0, min_impurity_split=None,\n",
              "                      min_samples_leaf=1, min_samples_split=2,\n",
              "                      min_weight_fraction_leaf=0.0, n_estimators=100,\n",
              "                      n_jobs=None, oob_score=False, random_state=None,\n",
              "                      verbose=0, warm_start=False)"
            ]
          },
          "metadata": {
            "tags": []
          },
          "execution_count": 26
        }
      ]
    },
    {
      "cell_type": "code",
      "metadata": {
        "id": "VAkH-_BR6Jcx",
        "colab_type": "code",
        "colab": {}
      },
      "source": [
        "rfpreds2 = rf2.predict(vx2)\n",
        "knnpreds2 = knn2.predict(vx2)\n",
        "knnmpreds2 = knnm2.predict(vx2)\n"
      ],
      "execution_count": 0,
      "outputs": []
    },
    {
      "cell_type": "code",
      "metadata": {
        "id": "K0ANfDVx6Jcy",
        "colab_type": "code",
        "colab": {
          "base_uri": "https://localhost:8080/",
          "height": 159
        },
        "outputId": "5b152938-2e9a-4b4a-932b-bd78162c2791"
      },
      "source": [
        "# initialize list of lists \n",
        "performance2 = [['Forest', sqrt(mean_squared_error(vy2, rfpreds2)), r2_score(vy2, rfpreds2),mean_absolute_error(vy2, rfpreds2)],\n",
        "               ['kNN', sqrt(mean_squared_error(vy2, knnpreds2)), r2_score(vy2, knnpreds2),mean_absolute_error(vy2, knnpreds2)],\n",
        "                ['kNNm', sqrt(mean_squared_error(vy2, knnmpreds2)), r2_score(vy2, knnpreds2),mean_absolute_error(vy2, knnmpreds2)]]\n",
        "  \n",
        "# Create the pandas DataFrame \n",
        "print(\"LATITUDE\")\n",
        "df_perf2 = pd.DataFrame(performance2, columns = ['Model', 'RMSE',\"r2\",\"MAE\"])\n",
        "df_perf2"
      ],
      "execution_count": 28,
      "outputs": [
        {
          "output_type": "stream",
          "text": [
            "LATITUDE\n"
          ],
          "name": "stdout"
        },
        {
          "output_type": "execute_result",
          "data": {
            "text/html": [
              "<div>\n",
              "<style scoped>\n",
              "    .dataframe tbody tr th:only-of-type {\n",
              "        vertical-align: middle;\n",
              "    }\n",
              "\n",
              "    .dataframe tbody tr th {\n",
              "        vertical-align: top;\n",
              "    }\n",
              "\n",
              "    .dataframe thead th {\n",
              "        text-align: right;\n",
              "    }\n",
              "</style>\n",
              "<table border=\"1\" class=\"dataframe\">\n",
              "  <thead>\n",
              "    <tr style=\"text-align: right;\">\n",
              "      <th></th>\n",
              "      <th>Model</th>\n",
              "      <th>RMSE</th>\n",
              "      <th>r2</th>\n",
              "      <th>MAE</th>\n",
              "    </tr>\n",
              "  </thead>\n",
              "  <tbody>\n",
              "    <tr>\n",
              "      <th>0</th>\n",
              "      <td>Forest</td>\n",
              "      <td>9.379052</td>\n",
              "      <td>0.918015</td>\n",
              "      <td>5.805612</td>\n",
              "    </tr>\n",
              "    <tr>\n",
              "      <th>1</th>\n",
              "      <td>kNN</td>\n",
              "      <td>7.176084</td>\n",
              "      <td>0.952005</td>\n",
              "      <td>4.190281</td>\n",
              "    </tr>\n",
              "    <tr>\n",
              "      <th>2</th>\n",
              "      <td>kNNm</td>\n",
              "      <td>7.863625</td>\n",
              "      <td>0.952005</td>\n",
              "      <td>4.502792</td>\n",
              "    </tr>\n",
              "  </tbody>\n",
              "</table>\n",
              "</div>"
            ],
            "text/plain": [
              "    Model      RMSE        r2       MAE\n",
              "0  Forest  9.379052  0.918015  5.805612\n",
              "1     kNN  7.176084  0.952005  4.190281\n",
              "2    kNNm  7.863625  0.952005  4.502792"
            ]
          },
          "metadata": {
            "tags": []
          },
          "execution_count": 28
        }
      ]
    },
    {
      "cell_type": "markdown",
      "metadata": {
        "id": "Y1x-mp6f6Jc2",
        "colab_type": "text"
      },
      "source": [
        "## <a class=\"anchor\" id=\"FLOOR\"> 3.4 Floor </a>"
      ]
    },
    {
      "cell_type": "code",
      "metadata": {
        "id": "Tuj6rtw16Jc3",
        "colab_type": "code",
        "colab": {}
      },
      "source": [
        "X3 = X.copy()\n",
        "X3[\"BUILDINGID\"] = wifi[\"BUILDINGID\"]\n",
        "y3 = wifi[\"FLOOR\"]\n",
        "vx3 = vx.copy()\n",
        "vx3[\"BUILDINGID\"] = rf.predict(pcvx)\n",
        "vy3 = validate[\"FLOOR\"]"
      ],
      "execution_count": 0,
      "outputs": []
    },
    {
      "cell_type": "code",
      "metadata": {
        "id": "FdjI-RyC6Jc6",
        "colab_type": "code",
        "colab": {
          "base_uri": "https://localhost:8080/",
          "height": 68
        },
        "outputId": "6cb9b719-75fe-4303-ca35-1e361bae27ab"
      },
      "source": [
        "knn3 = KNeighborsClassifier(n_neighbors= 9, metric = \"euclidean\", weights=\"distance\")\n",
        "knn3.fit(X3, y3)\n",
        "knnm3 = KNeighborsClassifier(n_neighbors= 9, metric = \"manhattan\", weights=\"distance\")\n",
        "knnm3.fit(X3, y3)"
      ],
      "execution_count": 30,
      "outputs": [
        {
          "output_type": "execute_result",
          "data": {
            "text/plain": [
              "KNeighborsClassifier(algorithm='auto', leaf_size=30, metric='manhattan',\n",
              "                     metric_params=None, n_jobs=None, n_neighbors=9, p=2,\n",
              "                     weights='distance')"
            ]
          },
          "metadata": {
            "tags": []
          },
          "execution_count": 30
        }
      ]
    },
    {
      "cell_type": "code",
      "metadata": {
        "id": "wakhPDmZ6Jc8",
        "colab_type": "code",
        "colab": {
          "base_uri": "https://localhost:8080/",
          "height": 136
        },
        "outputId": "061e6185-18ea-4193-a019-0e8ffc690bd8"
      },
      "source": [
        "rf3 = RandomForestClassifier(n_estimators = 100)\n",
        "rf3.fit(X3, y3)"
      ],
      "execution_count": 31,
      "outputs": [
        {
          "output_type": "execute_result",
          "data": {
            "text/plain": [
              "RandomForestClassifier(bootstrap=True, class_weight=None, criterion='gini',\n",
              "                       max_depth=None, max_features='auto', max_leaf_nodes=None,\n",
              "                       min_impurity_decrease=0.0, min_impurity_split=None,\n",
              "                       min_samples_leaf=1, min_samples_split=2,\n",
              "                       min_weight_fraction_leaf=0.0, n_estimators=100,\n",
              "                       n_jobs=None, oob_score=False, random_state=None,\n",
              "                       verbose=0, warm_start=False)"
            ]
          },
          "metadata": {
            "tags": []
          },
          "execution_count": 31
        }
      ]
    },
    {
      "cell_type": "code",
      "metadata": {
        "id": "eix-frNv6Jc-",
        "colab_type": "code",
        "colab": {}
      },
      "source": [
        "rfpreds3 = rf3.predict(vx3)\n",
        "knnpreds3 = knn3.predict(vx3)\n",
        "knnmpreds3 = knnm3.predict(vx3)"
      ],
      "execution_count": 0,
      "outputs": []
    },
    {
      "cell_type": "code",
      "metadata": {
        "id": "fZcB1s3N6JdA",
        "colab_type": "code",
        "colab": {
          "base_uri": "https://localhost:8080/",
          "height": 142
        },
        "outputId": "f54ae889-ee3c-4c65-cf4f-87c29e1e0caa"
      },
      "source": [
        "# initialize list of lists \n",
        "performance3 = [['rf', accuracy_score(vy3, rfpreds3), cohen_kappa_score(vy3, rfpreds3)],\n",
        "               ['kNN', accuracy_score(vy3, knnpreds3), cohen_kappa_score(vy3, knnpreds3)],\n",
        "                ['kNNm', accuracy_score(vy3, knnmpreds3), cohen_kappa_score(vy3, knnmpreds3)]] \n",
        "# Create the pandas DataFrame \n",
        "df_perf3 = pd.DataFrame(performance3, columns = ['Model', \"Accuracy\",\"Kappa\"])\n",
        "df_perf3"
      ],
      "execution_count": 33,
      "outputs": [
        {
          "output_type": "execute_result",
          "data": {
            "text/html": [
              "<div>\n",
              "<style scoped>\n",
              "    .dataframe tbody tr th:only-of-type {\n",
              "        vertical-align: middle;\n",
              "    }\n",
              "\n",
              "    .dataframe tbody tr th {\n",
              "        vertical-align: top;\n",
              "    }\n",
              "\n",
              "    .dataframe thead th {\n",
              "        text-align: right;\n",
              "    }\n",
              "</style>\n",
              "<table border=\"1\" class=\"dataframe\">\n",
              "  <thead>\n",
              "    <tr style=\"text-align: right;\">\n",
              "      <th></th>\n",
              "      <th>Model</th>\n",
              "      <th>Accuracy</th>\n",
              "      <th>Kappa</th>\n",
              "    </tr>\n",
              "  </thead>\n",
              "  <tbody>\n",
              "    <tr>\n",
              "      <th>0</th>\n",
              "      <td>rf</td>\n",
              "      <td>0.932493</td>\n",
              "      <td>0.905589</td>\n",
              "    </tr>\n",
              "    <tr>\n",
              "      <th>1</th>\n",
              "      <td>kNN</td>\n",
              "      <td>0.958596</td>\n",
              "      <td>0.941968</td>\n",
              "    </tr>\n",
              "    <tr>\n",
              "      <th>2</th>\n",
              "      <td>kNNm</td>\n",
              "      <td>0.920792</td>\n",
              "      <td>0.889741</td>\n",
              "    </tr>\n",
              "  </tbody>\n",
              "</table>\n",
              "</div>"
            ],
            "text/plain": [
              "  Model  Accuracy     Kappa\n",
              "0    rf  0.932493  0.905589\n",
              "1   kNN  0.958596  0.941968\n",
              "2  kNNm  0.920792  0.889741"
            ]
          },
          "metadata": {
            "tags": []
          },
          "execution_count": 33
        }
      ]
    },
    {
      "cell_type": "code",
      "metadata": {
        "id": "6fzAqH2t6JdC",
        "colab_type": "code",
        "colab": {}
      },
      "source": [
        "floor_matrix = confusion_matrix(vy3, knnpreds3, labels = None, sample_weight=None)"
      ],
      "execution_count": 0,
      "outputs": []
    },
    {
      "cell_type": "code",
      "metadata": {
        "id": "cgAgwcXe6JdF",
        "colab_type": "code",
        "colab": {
          "base_uri": "https://localhost:8080/",
          "height": 102
        },
        "outputId": "93a774ab-6a03-4ee2-9a16-c2fbbd6d9a2b"
      },
      "source": [
        "floor_matrix"
      ],
      "execution_count": 35,
      "outputs": [
        {
          "output_type": "execute_result",
          "data": {
            "text/plain": [
              "array([[125,   6,   1,   0,   0],\n",
              "       [  6, 439,  13,   4,   0],\n",
              "       [  0,   6, 297,   2,   1],\n",
              "       [  0,   0,   3, 168,   1],\n",
              "       [  0,   0,   0,   3,  36]])"
            ]
          },
          "metadata": {
            "tags": []
          },
          "execution_count": 35
        }
      ]
    },
    {
      "cell_type": "markdown",
      "metadata": {
        "id": "W3C-Ew7Z6JdI",
        "colab_type": "text"
      },
      "source": [
        "## Plots"
      ]
    },
    {
      "cell_type": "code",
      "metadata": {
        "id": "ycPGFKId6JdL",
        "colab_type": "code",
        "colab": {}
      },
      "source": [
        "results = pd.DataFrame()\n",
        "results[\"BUILDINGID\"] = fpreds\n",
        "results[\"LATITUDE\"]  = knnpreds1\n",
        "results[\"LONGITUDE\"] = knnpreds2\n",
        "results[\"FLOOR\"] = knnpreds3\n",
        "results[\"type\"] = \"pred\"\n",
        "res = pd.DataFrame()\n",
        "res[\"BUILDINGID\"] = vy\n",
        "res[\"LATITUDE\"]  = vy1\n",
        "res[\"LONGITUDE\"] = vy2\n",
        "res[\"FLOOR\"] = vy3\n",
        "res[\"type\"] = \"real\"\n",
        "####\n",
        "fresults = results.append(res)\n",
        "####\n",
        "results[\"AE_Lat\"] = abs(knnpreds1 - vy1)\n",
        "results[\"RE_Lat\"] = (abs(knnpreds1 - vy1))/vy1\n",
        "results[\"AE_Long\"] = abs(knnpreds2 -vy2)\n",
        "results[\"RE_Long\"] = abs((knnpreds2 - vy2))/vy2"
      ],
      "execution_count": 0,
      "outputs": []
    },
    {
      "cell_type": "code",
      "metadata": {
        "id": "ZthH0Fvg6JdM",
        "colab_type": "code",
        "colab": {
          "base_uri": "https://localhost:8080/",
          "height": 51
        },
        "outputId": "adae9ce5-9374-42d6-ea97-2c5f5d702daf"
      },
      "source": [
        "print(\"MRE Lat:\",np.mean(results[\"RE_Lat\"]))\n",
        "print(\"MRE Long:\",np.mean(results[\"RE_Long\"]))"
      ],
      "execution_count": 37,
      "outputs": [
        {
          "output_type": "stream",
          "text": [
            "MRE Lat: 1.958542697331384e-06\n",
            "MRE Long: 9.820448869667857e-07\n"
          ],
          "name": "stdout"
        }
      ]
    },
    {
      "cell_type": "code",
      "metadata": {
        "id": "reoxony96JdO",
        "colab_type": "code",
        "colab": {
          "base_uri": "https://localhost:8080/",
          "height": 617
        },
        "outputId": "148546bc-d565-4371-c167-8f6e00b184b9"
      },
      "source": [
        "fig = px.histogram(results, x=\"AE_Lat\")\n",
        "fig.show()"
      ],
      "execution_count": 38,
      "outputs": [
        {
          "output_type": "display_data",
          "data": {
            "text/html": [
              "<html>\n",
              "<head><meta charset=\"utf-8\" /></head>\n",
              "<body>\n",
              "    <div>\n",
              "            <script src=\"https://cdnjs.cloudflare.com/ajax/libs/mathjax/2.7.5/MathJax.js?config=TeX-AMS-MML_SVG\"></script><script type=\"text/javascript\">if (window.MathJax) {MathJax.Hub.Config({SVG: {font: \"STIX-Web\"}});}</script>\n",
              "                <script type=\"text/javascript\">window.PlotlyConfig = {MathJaxConfig: 'local'};</script>\n",
              "        <script src=\"https://cdn.plot.ly/plotly-latest.min.js\"></script>    \n",
              "            <div id=\"4f86959d-787c-4e3c-a2cd-76cf9eb31ab3\" class=\"plotly-graph-div\" style=\"height:600px; width:100%;\"></div>\n",
              "            <script type=\"text/javascript\">\n",
              "                \n",
              "                    window.PLOTLYENV=window.PLOTLYENV || {};\n",
              "                    \n",
              "                if (document.getElementById(\"4f86959d-787c-4e3c-a2cd-76cf9eb31ab3\")) {\n",
              "                    Plotly.newPlot(\n",
              "                        '4f86959d-787c-4e3c-a2cd-76cf9eb31ab3',\n",
              "                        [{\"alignmentgroup\": \"True\", \"bingroup\": \"x\", \"hoverlabel\": {\"namelength\": 0}, \"hovertemplate\": \"AE_Lat=%{x}<br>count=%{y}\", \"legendgroup\": \"\", \"marker\": {\"color\": \"#636efa\"}, \"name\": \"\", \"offsetgroup\": \"\", \"orientation\": \"v\", \"showlegend\": false, \"type\": \"histogram\", \"x\": [28.78481881832704, 3.1723519689403474, 2.9487810460850596, 0.25423114048317075, 3.7900469466112554, 13.460037493612617, 11.998975609894842, 3.2528586629778147, 0.7995058875530958, 7.189855356235057, 7.813089867588133, 2.8592157759703696, 1.9502981388941407, 3.35571649344638, 1.112871550489217, 30.657465337309986, 0.5470836707390845, 0.7669854275882244, 0.7516691843047738, 11.41744906641543, 5.553603421431035, 0.6897079343907535, 0.3285582051612437, 1.3825828009285033, 10.332890645135194, 0.9016131674870849, 1.2843894786201417, 1.6843023961409926, 2.25998424179852, 9.93691262183711, 3.391916056163609, 6.3845359440892935, 4.909151259344071, 2.9705251432023942, 0.833814509678632, 6.60900805843994, 1.6675111074000597, 2.2725285282358527, 0.4101485866121948, 8.845006386283785, 2.08468877710402, 2.7239941405132413, 4.769297779072076, 2.9987328513525426, 4.4192589512094855, 6.299681822303683, 2.998192039784044, 0.42197291972115636, 15.10137945227325, 1.9097593720071018, 1.3111149314790964, 0.7203380758874118, 0.16658197157084942, 1.359857744537294, 0.8139958931133151, 3.462276835460216, 1.657602911349386, 3.0264399368315935, 3.291016923263669, 0.4446700531989336, 1.907855483237654, 1.798046960029751, 3.489472984801978, 2.6864095362834632, 1.0380457895807922, 0.550334055442363, 2.753729488234967, 0.7336471751332283, 10.373416910413653, 1.882344426587224, 2.584030411671847, 0.1987584219314158, 0.1308703743852675, 1.2596475868485868, 0.08665905985981226, 4.395485029555857, 4.874256447888911, 1.0552350380457938, 5.321749227121472, 1.9455218156799674, 1.8881159890443087, 3.148625689558685, 2.9127005082555115, 2.764390533324331, 2.1545783360488713, 18.13177249347791, 3.3211073805578053, 1.6277487436309457, 2.4439701652154326, 2.097644257824868, 1.9259918667376041, 3.476704925764352, 2.2556470269337296, 0.058574508875608444, 0.8359385821968317, 6.076929381582886, 3.232128086965531, 4.392698772717267, 4.9120136895217, 0.4751503453589976, 1.275350948330015, 3.196115765720606, 3.157431185245514, 4.6053228052333, 2.138958445750177, 0.39317653700709343, 0.14952053502202034, 1.7655881401151419, 1.2020298824645579, 2.525968072935939, 0.911187743768096, 1.5703613949008286, 1.166735242586583, 1.151458043139428, 1.0080207190476358, 0.10910497279837728, 9.635263936128467, 1.087737028952688, 0.32790228771045804, 1.3082945537753403, 1.3059294959530234, 1.72832259722054, 0.6836110353469849, 0.6834772499278188, 3.376474539283663, 0.20379809336736798, 0.48256478225812316, 2.1605810141190886, 3.279680553358048, 3.027050010394305, 1.1361020696349442, 2.814396585803479, 2.637780847027898, 9.443207721225917, 1.1943381847813725, 2.639310024678707, 1.2406014408916235, 0.3483296665363014, 2.336686783004552, 1.1148353582248092, 0.3080941792577505, 0.5981911611743271, 2.5054859463125467, 0.3391000982373953, 2.1755700912326574, 0.19923753896728158, 4.861143956892192, 2.2264368240721524, 1.1867841989733279, 0.44536362728103995, 0.46078787185251713, 4.120366519317031, 2.0608081906102598, 2.5481000831350684, 6.4164696196094155, 1.451702724210918, 0.17828662041574717, 5.660939410794526, 5.367379187606275, 0.4913556519895792, 1.3935693530365825, 18.31432154448703, 19.310675756074488, 2.094812387600541, 0.3020865465514362, 5.624343676492572, 1.2247832622379065, 5.328271059319377, 9.890962139703333, 3.4084493783302605, 2.5546698537655175, 3.5242567802779377, 8.511090277228504, 1.730167297180742, 0.1915422729216516, 0.31733020581305027, 2.1418653214350343, 2.510290202219039, 0.3057335093617439, 3.0719889793545008, 1.7631575223058462, 0.7056371797807515, 0.6373488926328719, 3.643349377438426, 1.737228647340089, 1.762310704216361, 3.5433454220183194, 0.004094390198588371, 3.3539401427842677, 0.4838758874684572, 2.031846845522523, 1.3845763020217419, 7.891719537321478, 7.034081625752151, 14.386716456152499, 10.396212340798229, 5.028754601255059, 1.9719149605371058, 1.0035506063140929, 0.10153752332553267, 0.6978741409257054, 0.9631991861388087, 2.6058010663837194, 0.5459010228514671, 1.5397261250764132, 3.2629262288101017, 10.90438002999872, 2.5028440235182643, 1.4307960621081293, 2.470628533978015, 0.4494522432796657, 1.255343924742192, 14.072671960573643, 8.256458210293204, 2.517734559252858, 5.260376716963947, 2.1773575418628752, 5.630628151353449, 1.6775951483286917, 1.7657399610616267, 1.3638506666757166, 1.2232618355192244, 0.891098156105727, 2.4654194796457887, 4.470818783622235, 4.778456497937441, 1.2297682603821158, 0.6055353730916977, 1.7360968948341906, 2.358048659749329, 2.648581634275615, 1.0186755997128785, 1.491631776560098, 0.26234150025993586, 5.624888547230512, 0.5575702991336584, 0.479804091155529, 9.63917344249785, 7.969714800827205, 6.473668266553432, 2.2822566055692732, 0.0, 3.7722852206788957, 1.5088518871925771, 0.22109784092754126, 2.7668335093185306, 0.1859749616123736, 0.5786291914992034, 1.6143798525445163, 0.2781549277715385, 1.1494986861944199, 6.511184781324118, 2.788568199146539, 0.15389945870265365, 1.154276268556714, 3.0099000106565654, 2.994617223739624, 1.3850005785934627, 0.042124717961996794, 3.009239341598004, 9.424588246736676, 0.6586649212986231, 1.9645484080538154, 5.172530679963529, 5.180408198852092, 2.203855804167688, 1.1883640815503895, 2.58227462740615, 1.4692243807949126, 0.29130925610661507, 1.725797957740724, 1.3994098016992211, 1.4364356216974556, 11.177545537706465, 4.230689509306103, 11.8729067761451, 3.810866814572364, 1.2570154159329832, 0.6223958125337958, 5.998058438301086, 0.6601246548816562, 1.3247143705375493, 0.1011625905521214, 7.3446570872329175, 0.9818423115648329, 1.2870249319821596, 1.5333290318958461, 1.467248264234513, 0.5346237146295607, 3.547784018330276, 1.4009600169956684, 1.1722962949424982, 1.3613202315755188, 2.571907072328031, 0.6355428555980325, 7.5507681225426495, 5.677723617292941, 0.1318423324264586, 1.3263084003701806, 3.259629011154175e-09, 2.7939677238464355e-09, 5.122274160385132e-09, 6.103643811773509, 8.779725069180131, 0.4336968339048326, 3.6884928485378623, 5.357298688497394, 0.8220472666434944, 9.605200220830739, 6.042237817775458, 7.22892586234957, 5.620183436200023, 7.101183365564793, 5.24012390896678, 0.619637792930007, 0.7770325089804828, 2.415759002789855, 0.6125485971570015, 0.18312959093600512, 0.30163470888510346, 3.0305808037519455, 2.53526564873755, 2.6335442466661334, 2.7377270837314427, 0.9066087147220969, 0.5648249113000929, 4.435072469525039, 4.518774359952658, 2.613902810495347, 4.201662035658956, 0.6555704772472382, 1.9562155082821846, 24.595248233061284, 5.4239847576245666, 3.3464271556586027, 7.508348633535206, 19.56851329980418, 0.6176771181635559, 3.8780622142367065, 0.06817969726398587, 2.9215165497735143, 4.710176262073219, 10.653625834267586, 7.7150733806192875, 0.43692360119894147, 2.9244275325909257, 4.81448974320665, 3.5414743735454977, 0.013388853520154953, 2.5366680030710995, 0.7640999248251319, 1.8800957668572664, 1.0242569679394364, 2.0622697644867003, 1.8397585917264223, 0.8216389953158796, 4.633008715230972, 2.2574575701728463, 17.09132209420204, 15.436552820261568, 19.595816404558718, 4.089283625595272, 4.18765212316066, 3.062566891312599, 1.1425890484824777, 0.8303721914999187, 5.483220409601927, 4.312344878911972, 1.4664002084173262, 4.878982866648585, 3.6297043710947037, 0.27407102240249515, 5.178728020749986, 3.3196172867901623, 4.889840419404209, 2.5439766473136842, 3.696069609373808, 1.5031110383570194, 4.231064683757722, 1.1646531084552407, 0.9820573967881501, 0.2778538903221488, 1.2084456351585686, 0.08519608899950981, 0.6505881659686565, 8.397124718409032, 0.4715952458791435, 0.5259632547385991, 1.0413039522245526, 8.310793572571129, 0.224317638669163, 4.379427771549672, 11.93093199050054, 8.753289746120572, 0.056577535811811686, 0.8384388680569828, 3.44542753463611, 1.9129939982667565, 6.95733071025461, 5.193417022936046, 5.090788608882576, 4.253828371874988, 0.37450461369007826, 2.7743909154087305, 0.2357623651623726, 4.321065128780901, 10.004957202356309, 3.974637111183256, 8.954991780687124, 3.0771144600585103, 1.4753961567766964, 5.251499213743955, 5.274104501120746, 7.009821655694395, 1.7384114861488342, 0.625544112175703, 17.464559180196375, 3.3971233842894435, 8.120622265152633, 2.255402225535363, 5.914112905506045, 0.4479839135892689, 10.694638901390135, 1.2366645685397089, 2.9294036640785635, 7.817400075495243, 1.3603347656317055, 5.648748638574034, 3.1001692479476333, 2.3674592836759984, 6.694129866547883, 5.790780450683087, 10.132563478779048, 1.9137791958637536, 1.3020254569128156, 1.9340289011597633, 3.893383381422609, 3.7076203115284443, 11.549097209703177, 7.634172774385661, 4.131792195606977, 1.0941966585814953, 6.2864492745138705, 2.1565909502096474, 7.159269162919372, 3.919505471829325, 2.4149600262753665, 0.3656224710866809, 8.455780823715031, 2.25401310948655, 2.030358641874045, 6.94057748047635, 0.42831051303073764, 5.278494648635387, 4.829212315380573, 3.974672478623688, 1.5217095403932035, 3.6790757635608315, 11.103702378924936, 5.175487592350692, 1.296253894455731, 1.0592804066836834, 6.275348861236125, 2.6788307251408696, 2.8447940833866596, 2.308743394445628, 25.655152824241668, 7.471232731826603, 9.0380741013214, 2.461929260287434, 5.2352300067432225, 4.1154480231925845, 0.12428116798400879, 9.180154961999506, 13.796539716422558, 2.6636322643607855, 4.8145743063651025, 2.388516516890377, 7.550172416958958, 1.8851929032243788, 1.1504117278382182, 8.783445599954575, 13.602006015367806, 5.493705298751593, 6.6887841881252825, 6.400013474281877, 7.83498201193288, 35.71762446546927, 16.13711399724707, 14.235805586911738, 0.03564790729433298, 6.575623724609613, 0.3898390019312501, 2.1908403714187443, 0.6476797293871641, 1.462024309206754, 0.9820952690206468, 11.523281975649297, 35.32250452507287, 1.957853958941996, 5.76659682393074, 2.419282415881753, 9.214958780445158, 2.0083118211477995, 4.320693963672966, 3.2490370171144605, 2.2073861714452505, 14.974097706843168, 3.383930820506066, 6.316034760326147, 4.623954598791897, 1.8756705611012876, 3.171747215092182, 0.4367187083698809, 8.263168560341, 7.435069507453591, 6.244506453163922, 1.623766295146197, 4.5012237429618835, 0.09635956166312099, 3.0226342687383294, 0.08130543120205402, 2.855578568764031, 16.68045773403719, 1.3069617981091142, 2.023111006245017, 0.6394867422059178, 0.9374818466603756, 16.569936763960868, 1.0083476048894227, 7.828768116887659, 1.4254755307920277, 2.115910083055496, 5.326407622080296, 0.9818038195371628, 1.1682570045813918, 1.324894663412124, 3.210870334878564, 8.855247952509671, 1.3337845434434712, 13.351089464966208, 2.6157576222904027, 1.688573228660971, 1.4646724332123995, 1.8143897983245552, 9.383980644866824, 4.52750292327255, 0.9735423112288117, 0.929506407584995, 0.6064862487837672, 1.8943872274830937, 4.021285048685968, 1.7780681774020195, 5.725892891176045, 0.4489482664503157, 18.781368983443826, 1.3546267808414996, 2.231565411668271, 2.7448408966884017, 4.25462387688458, 2.023093383293599, 1.4003823972307146, 2.1058789216913283, 1.8629277274012566, 1.0169043927453458, 0.456334070302546, 12.582693617790937, 10.010339048225433, 0.04431187640875578, 3.287618920672685, 1.7201914032921195, 3.250459961593151, 2.8063549008220434, 6.278257165569812, 3.196322111878544, 8.090079298242927, 6.286058136262, 1.9383072648197412, 0.6634125392884016, 3.7025595721788704, 4.252268106210977, 0.2639937186613679, 1.778207584284246, 1.3223382136784494, 0.9427808267064393, 2.8754149796441197, 8.97644387697801, 5.276237448211759, 8.798135703895241, 9.907253155019134, 8.294247374869883, 4.601420275866985, 2.168631506152451, 1.593903356231749, 4.769883808679879, 2.2220857213251293, 3.3048363188281655, 2.158392651937902, 7.964569242205471, 1.2234680522233248, 2.079317159950733, 4.279945909045637, 5.029771653935313, 0.31342710042372346, 1.379512295126915, 5.650099246762693, 1.0775163820944726, 8.79894724721089, 8.89493810525164, 86.80894901929423, 0.6244793571531773, 1.0464872107841074, 7.094341932795942, 8.774065295234323, 0.3981713252142072, 9.592005125712603, 2.6052956860512495, 0.27686763321980834, 6.9431113274767995, 3.5916775288060308, 9.510550109203905, 5.570339683443308, 16.361040399875492, 1.6573288501240313, 11.085235592909157, 8.817383767105639, 6.264727594796568, 5.359861856792122, 2.943169197998941, 7.32575515890494, 2.708472636062652, 1.4129118472337723, 10.555904598906636, 4.129858143161982, 0.6213334389030933, 1.5359769389033318, 3.5302287116646767, 8.218524328898638, 4.216430263128132, 13.579204586334527, 3.2832425190135837, 86.90918285772204, 8.516829772852361, 6.558067176025361, 1.9025774630717933, 1.4826657925732434, 1.235979923978448, 4.505014842376113, 6.123521373607218, 2.8305273931473494, 1.33496132818982, 4.472629127558321, 1.0947527419775724, 1.7497460362501442, 1.7143577043898404, 1.793436388950795, 0.31494661374017596, 0.44493831833824515, 17.386992130428553, 1.0971602858044207, 11.299510162323713, 0.08396234083920717, 0.09726274013519287, 5.816353492438793, 0.04928625421598554, 5.001319533679634, 4.306373992934823, 2.9162644767202437, 2.5160663169808686, 1.7716886419802904, 3.528605761937797, 3.03515848191455, 1.7317280448041856, 2.533274659886956, 3.850565157365054, 8.25286721996963, 0.5775263113901019, 1.9621957992203534, 7.699738044291735, 0.5587493535131216, 1.6754485093988478, 9.464362100232393, 2.8834570138715208, 0.6758728050626814, 3.676652383990586, 0.5489327884279191, 3.568195221014321, 13.944208429660648, 1.3304404551163316, 0.46710178768262267, 2.5542236138135195, 4.849831358063966, 3.8047562767751515, 7.059219552669674, 0.95235028071329, 8.166887490078807, 1.290941824670881, 0.25337845692411065, 8.696083075832576, 0.23602820467203856, 1.1003787033259869, 3.239912563934922, 0.191067467443645, 3.9269421603530645, 1.1336940717883408, 8.938024079427123, 3.5502972016111016, 1.108958603348583, 0.6073592444881797, 1.1334988079033792, 0.11413283506408334, 0.5672376691363752, 9.798789029940963, 0.547152844723314, 4.288249667733908, 3.3113797400146723, 0.6713984468951821, 6.16278638318181, 3.4488885290920734, 13.834222891367972, 10.596122667193413, 2.464433760382235, 3.048703724052757, 5.4840641701593995, 2.2373298783786595, 13.717527558095753, 4.795858608093113, 6.985902838408947, 11.512103627901524, 2.2338871783576906, 10.50680504925549, 8.127426801249385, 12.984250533860177, 3.472250482067466, 5.1560975620523095, 2.314857873134315, 0.23947029886767268, 3.49719327269122, 7.75432076305151, 5.334966487716883, 0.7982106958515942, 14.18563410686329, 2.7650104565545917, 1.197725840844214, 0.5117716556414962, 3.597610792145133, 0.868636597879231, 6.213100116234273, 0.3605252937413752, 0.7572606522589922, 6.472843104042113, 0.22853568056598306, 2.3093484505079687, 4.49329881882295, 2.419545450247824, 10.023483106400818, 2.764420075342059, 2.1951119732111692, 4.097509598359466, 18.620668651070446, 4.267768915276974, 1.7308237506076694, 4.231582548003644, 3.9440263928845525, 6.2001820537261665, 3.703334729652852, 0.39887925144284964, 1.637048487085849, 1.9376651127822697, 7.192348011769354, 0.011773096397519112, 0.8159029842354357, 20.629631940741092, 0.6554542691446841, 1.0918236491270363, 0.1710465746000409, 0.9821279896423221, 2.7703944286331534, 4.439182252623141, 10.817804341670126, 4.540292502846569, 2.4560939259827137, 43.811880827881396, 4.651345926802605, 8.00157035002485, 6.731589570641518, 3.7432000935077667, 6.861104204785079, 9.273763581179082, 1.133947039488703, 6.4087203736416996, 7.116617502644658, 1.1124877319671214, 5.2590578575618565, 0.9896597801707685, 2.243632690049708, 0.49061219161376357, 7.626600888557732, 17.374272234737873, 0.08311034692451358, 5.954077969305217, 9.090413173660636, 3.3039738116785884, 1.4643607274629176, 4.1377872889861465, 3.551592174451798, 6.5672465660609305, 2.728213496040553, 5.1874515395611525, 10.793244329746813, 3.5056068771518767, 4.963094505015761, 24.18846352538094, 4.276225825306028, 2.958202950656414, 6.149238625541329, 3.129274718463421, 2.059785927180201, 30.693290434312075, 2.3487719069235027, 4.831041537690908, 3.7863506078720093, 3.3709232709370553, 3.164918470196426, 0.5917133698239923, 1.7217100011184812, 0.3326099654659629, 2.330578933469951, 6.69324309611693, 6.7091346378438175, 0.3511700062081218, 2.297934817150235, 0.824869791045785, 3.8142507625743747, 0.8849304681643844, 7.4076461414806545, 3.8568081888370216, 8.037579629570246, 4.820788216311485, 4.215491803828627, 9.251053274143487, 4.106353712733835, 2.36643357668072, 7.427567652892321, 13.601005994249135, 4.603799912612885, 2.983528969809413, 6.706454746425152, 1.996667750645429, 2.378525343257934, 4.06317478325218, 2.946152528282255, 2.716182288248092, 2.07877749344334, 3.5378127456642687, 4.67043872224167, 8.747501177713275, 17.11608849512413, 2.2413781732320786, 0.3939113453961909, 2.1876247781328857, 2.2637694515287876, 1.0975246476009488, 5.5856899274513125, 7.5646783746778965, 13.160799271892756, 32.300549981649965, 9.41887027816847, 4.863715858198702, 0.8665428198873997, 10.526259891688824, 7.154150132089853, 4.908084163907915, 18.75169579545036, 9.132051485590637, 4.412644867319614, 0.6253007994964719, 7.915001432411373, 3.456302286591381, 11.50610116822645, 13.94649355718866, 5.728675803169608, 15.550554392393678, 5.308370848651975, 5.068078009877354, 4.602727783378214, 1.5251475609838963, 1.7925448189489543, 24.496731266845018, 4.250776215456426, 7.517794243060052, 4.666929773520678, 7.0576580632478, 23.072127230465412, 0.8233210099861026, 2.1952371690422297, 2.6190717960707843, 14.868560882750899, 3.272634048946202, 0.7751351627521217, 5.86149019561708, 12.50019877962768, 2.186220650561154, 17.630880841985345, 3.8621657197363675, 5.867556414566934, 7.588756016921252, 6.360039300750941, 5.449127389118075, 3.51962813641876, 1.2201027674600482, 1.453026495873928, 18.536738604772836, 3.3970212559215724, 3.6623291866853833, 3.3202628307044506, 4.112349418923259, 1.0024045542813838, 12.659156589768827, 1.800358252134174, 0.4295897325500846, 0.24085859255865216, 11.85194413131103, 1.2779660518281162, 0.9728699512779713, 5.596203358843923, 11.048187922686338, 0.49296256015077233, 2.0035774363204837, 0.2384711871854961, 0.80573895201087, 1.712222395464778, 3.525980365462601, 5.709531216882169, 15.975985660217702, 0.3188195042312145, 1.8747524009086192, 1.53619620250538, 4.503252075985074, 33.448496458586305, 1.1250912612304091, 2.9348457902669907, 9.401966081466526, 1.9215158391743898, 2.2696455819532275, 0.3490174054168165, 1.0431595863774419, 5.64952031429857, 76.61999345151708, 5.273959567304701, 0.2805302618071437, 1.1599754905328155, 0.920602539088577, 14.496144175063819, 14.880080300848931, 2.0747939492575824, 11.09139660000801, 17.85876811342314, 2.947457584552467, 1.0369667271152139, 11.503690399229527, 0.6472132103517652, 5.148354360833764, 1.0186349381692708, 20.572881280910224, 5.455248374026269, 5.5043395278044045, 8.38623127527535, 5.801273983903229, 3.088043557945639, 8.85920723946765, 0.01649669511243701, 4.647095042746514, 12.665976963471621, 0.4081093021668494, 4.06880704825744, 2.344859112519771, 0.5691883731633425, 4.9999636565335095, 0.22671381756663322, 0.3921150420792401, 19.02282039867714, 11.226829062215984, 1.1295939874835312, 34.7009802730754, 1.1410822551697493, 10.68550212495029, 0.8033863073214889, 1.922993022017181, 0.5061713987961411, 23.006850227713585, 5.882384101394564, 0.013080301228910685, 3.1814170330762863, 8.561438450124115, 0.31352207669988275, 2.185779318679124, 0.8367483946494758, 0.0766504448838532, 3.140496433712542, 0.4686050130985677, 0.8154611955396831, 3.158943047747016, 2.2065433589741588, 10.604090690147132, 0.3070956077426672, 2.030370873399079, 4.230336546897888, 13.357013404835016, 2.7997759599238634, 0.08668462932109833, 10.244409420061857, 0.6793914302252233, 3.0563046992756426, 7.538763040211052, 11.782287519425154, 1.4394609504379332, 4.1099342396482825, 0.24112134985625744, 1.4686195557005703, 0.12239450355991721, 1.0158154778182507, 6.57657037070021, 1.064539022743702, 3.7491204850375652, 1.2111341333948076, 6.51925802230835e-09, 23.323641574475914, 0.07548009511083364, 4.432209723629057, 2.0019383965991437, 3.009608826134354, 2.7900274130515754, 1.4007930448278785, 0.5110605689696968, 4.841658886056393, 7.078006039373577, 4.380038092378527, 0.16577876545488834, 0.42385794408619404, 2.249131901655346, 1.1475892402231693, 6.201616819016635, 3.002803126350045, 2.334155807737261, 2.0798477777279913, 4.693580818362534, 2.3130189813673496, 1.8453064714558423, 4.048474101815373, 2.9113198439590633, 4.309009892866015, 5.484937306959182, 0.6451830118894577, 12.779278681147844, 1.3818337027914822, 2.323350298218429, 2.346479852218181, 1.0732261948287487, 6.246816862840205, 0.10707790870219469, 3.219257435295731, 1.641009382903576, 0.12244758522138, 1.6218980522826314, 4.390071660280228, 6.640567841939628, 4.301984713878483, 4.9122022413648665, 0.2749928613193333, 1.7150010368786752, 2.2194937053136528, 4.803651536349207, 14.175767668988556, 7.412190421484411, 1.538485097233206, 0.5687412638217211, 6.036402160767466, 1.0396086112596095, 1.1090779113583267, 6.88919848529622, 10.518920839764178, 0.6372795780189335, 0.012203369289636612, 0.7546258973889053, 2.465118632186204, 8.875508474186063, 0.37933630403131247, 0.18263338413089514, 1.244832404423505, 19.35131498426199, 13.187613298650831, 3.224503926001489, 19.250171972904354, 5.810060788877308, 0.6299510602839291, 6.223027486819774, 0.12172955088317394, 0.15012523299083114, 1.3713148310780525, 0.7670624377205968, 0.58216692507267, 3.0529677476733923, 4.136395539157093, 7.583623084239662, 4.839601785875857, 1.857475494965911, 5.236464022193104, 5.768267885781825, 5.275777820497751, 5.191000540740788], \"xaxis\": \"x\", \"yaxis\": \"y\"}],\n",
              "                        {\"barmode\": \"relative\", \"height\": 600, \"legend\": {\"tracegroupgap\": 0}, \"margin\": {\"t\": 60}, \"template\": {\"data\": {\"bar\": [{\"error_x\": {\"color\": \"#2a3f5f\"}, \"error_y\": {\"color\": \"#2a3f5f\"}, \"marker\": {\"line\": {\"color\": \"#E5ECF6\", \"width\": 0.5}}, \"type\": \"bar\"}], \"barpolar\": [{\"marker\": {\"line\": {\"color\": \"#E5ECF6\", \"width\": 0.5}}, \"type\": \"barpolar\"}], \"carpet\": [{\"aaxis\": {\"endlinecolor\": \"#2a3f5f\", \"gridcolor\": \"white\", \"linecolor\": \"white\", \"minorgridcolor\": \"white\", \"startlinecolor\": \"#2a3f5f\"}, \"baxis\": {\"endlinecolor\": \"#2a3f5f\", \"gridcolor\": \"white\", \"linecolor\": \"white\", \"minorgridcolor\": \"white\", \"startlinecolor\": \"#2a3f5f\"}, \"type\": \"carpet\"}], \"choropleth\": [{\"colorbar\": {\"outlinewidth\": 0, \"ticks\": \"\"}, \"type\": \"choropleth\"}], \"contour\": [{\"colorbar\": {\"outlinewidth\": 0, \"ticks\": \"\"}, \"colorscale\": [[0.0, \"#0d0887\"], [0.1111111111111111, \"#46039f\"], [0.2222222222222222, \"#7201a8\"], [0.3333333333333333, \"#9c179e\"], [0.4444444444444444, \"#bd3786\"], [0.5555555555555556, \"#d8576b\"], [0.6666666666666666, \"#ed7953\"], [0.7777777777777778, \"#fb9f3a\"], [0.8888888888888888, \"#fdca26\"], [1.0, \"#f0f921\"]], \"type\": \"contour\"}], \"contourcarpet\": [{\"colorbar\": {\"outlinewidth\": 0, \"ticks\": \"\"}, \"type\": \"contourcarpet\"}], \"heatmap\": [{\"colorbar\": {\"outlinewidth\": 0, \"ticks\": \"\"}, \"colorscale\": [[0.0, \"#0d0887\"], [0.1111111111111111, \"#46039f\"], [0.2222222222222222, \"#7201a8\"], [0.3333333333333333, \"#9c179e\"], [0.4444444444444444, \"#bd3786\"], [0.5555555555555556, \"#d8576b\"], [0.6666666666666666, \"#ed7953\"], [0.7777777777777778, \"#fb9f3a\"], [0.8888888888888888, \"#fdca26\"], [1.0, \"#f0f921\"]], \"type\": \"heatmap\"}], \"heatmapgl\": [{\"colorbar\": {\"outlinewidth\": 0, \"ticks\": \"\"}, \"colorscale\": [[0.0, \"#0d0887\"], [0.1111111111111111, \"#46039f\"], [0.2222222222222222, \"#7201a8\"], [0.3333333333333333, \"#9c179e\"], [0.4444444444444444, \"#bd3786\"], [0.5555555555555556, \"#d8576b\"], [0.6666666666666666, \"#ed7953\"], [0.7777777777777778, \"#fb9f3a\"], [0.8888888888888888, \"#fdca26\"], [1.0, \"#f0f921\"]], \"type\": \"heatmapgl\"}], \"histogram\": [{\"marker\": {\"colorbar\": {\"outlinewidth\": 0, \"ticks\": \"\"}}, \"type\": \"histogram\"}], \"histogram2d\": [{\"colorbar\": {\"outlinewidth\": 0, \"ticks\": \"\"}, \"colorscale\": [[0.0, \"#0d0887\"], [0.1111111111111111, \"#46039f\"], [0.2222222222222222, \"#7201a8\"], [0.3333333333333333, \"#9c179e\"], [0.4444444444444444, \"#bd3786\"], [0.5555555555555556, \"#d8576b\"], [0.6666666666666666, \"#ed7953\"], [0.7777777777777778, \"#fb9f3a\"], [0.8888888888888888, \"#fdca26\"], [1.0, \"#f0f921\"]], \"type\": \"histogram2d\"}], \"histogram2dcontour\": [{\"colorbar\": {\"outlinewidth\": 0, \"ticks\": \"\"}, \"colorscale\": [[0.0, \"#0d0887\"], [0.1111111111111111, \"#46039f\"], [0.2222222222222222, \"#7201a8\"], [0.3333333333333333, \"#9c179e\"], [0.4444444444444444, \"#bd3786\"], [0.5555555555555556, \"#d8576b\"], [0.6666666666666666, \"#ed7953\"], [0.7777777777777778, \"#fb9f3a\"], [0.8888888888888888, \"#fdca26\"], [1.0, \"#f0f921\"]], \"type\": \"histogram2dcontour\"}], \"mesh3d\": [{\"colorbar\": {\"outlinewidth\": 0, \"ticks\": \"\"}, \"type\": \"mesh3d\"}], \"parcoords\": [{\"line\": {\"colorbar\": {\"outlinewidth\": 0, \"ticks\": \"\"}}, \"type\": \"parcoords\"}], \"scatter\": [{\"marker\": {\"colorbar\": {\"outlinewidth\": 0, \"ticks\": \"\"}}, \"type\": \"scatter\"}], \"scatter3d\": [{\"line\": {\"colorbar\": {\"outlinewidth\": 0, \"ticks\": \"\"}}, \"marker\": {\"colorbar\": {\"outlinewidth\": 0, \"ticks\": \"\"}}, \"type\": \"scatter3d\"}], \"scattercarpet\": [{\"marker\": {\"colorbar\": {\"outlinewidth\": 0, \"ticks\": \"\"}}, \"type\": \"scattercarpet\"}], \"scattergeo\": [{\"marker\": {\"colorbar\": {\"outlinewidth\": 0, \"ticks\": \"\"}}, \"type\": \"scattergeo\"}], \"scattergl\": [{\"marker\": {\"colorbar\": {\"outlinewidth\": 0, \"ticks\": \"\"}}, \"type\": \"scattergl\"}], \"scattermapbox\": [{\"marker\": {\"colorbar\": {\"outlinewidth\": 0, \"ticks\": \"\"}}, \"type\": \"scattermapbox\"}], \"scatterpolar\": [{\"marker\": {\"colorbar\": {\"outlinewidth\": 0, \"ticks\": \"\"}}, \"type\": \"scatterpolar\"}], \"scatterpolargl\": [{\"marker\": {\"colorbar\": {\"outlinewidth\": 0, \"ticks\": \"\"}}, \"type\": \"scatterpolargl\"}], \"scatterternary\": [{\"marker\": {\"colorbar\": {\"outlinewidth\": 0, \"ticks\": \"\"}}, \"type\": \"scatterternary\"}], \"surface\": [{\"colorbar\": {\"outlinewidth\": 0, \"ticks\": \"\"}, \"colorscale\": [[0.0, \"#0d0887\"], [0.1111111111111111, \"#46039f\"], [0.2222222222222222, \"#7201a8\"], [0.3333333333333333, \"#9c179e\"], [0.4444444444444444, \"#bd3786\"], [0.5555555555555556, \"#d8576b\"], [0.6666666666666666, \"#ed7953\"], [0.7777777777777778, \"#fb9f3a\"], [0.8888888888888888, \"#fdca26\"], [1.0, \"#f0f921\"]], \"type\": \"surface\"}], \"table\": [{\"cells\": {\"fill\": {\"color\": \"#EBF0F8\"}, \"line\": {\"color\": \"white\"}}, \"header\": {\"fill\": {\"color\": \"#C8D4E3\"}, \"line\": {\"color\": \"white\"}}, \"type\": \"table\"}]}, \"layout\": {\"annotationdefaults\": {\"arrowcolor\": \"#2a3f5f\", \"arrowhead\": 0, \"arrowwidth\": 1}, \"colorscale\": {\"diverging\": [[0, \"#8e0152\"], [0.1, \"#c51b7d\"], [0.2, \"#de77ae\"], [0.3, \"#f1b6da\"], [0.4, \"#fde0ef\"], [0.5, \"#f7f7f7\"], [0.6, \"#e6f5d0\"], [0.7, \"#b8e186\"], [0.8, \"#7fbc41\"], [0.9, \"#4d9221\"], [1, \"#276419\"]], \"sequential\": [[0.0, \"#0d0887\"], [0.1111111111111111, \"#46039f\"], [0.2222222222222222, \"#7201a8\"], [0.3333333333333333, \"#9c179e\"], [0.4444444444444444, \"#bd3786\"], [0.5555555555555556, \"#d8576b\"], [0.6666666666666666, \"#ed7953\"], [0.7777777777777778, \"#fb9f3a\"], [0.8888888888888888, \"#fdca26\"], [1.0, \"#f0f921\"]], \"sequentialminus\": [[0.0, \"#0d0887\"], [0.1111111111111111, \"#46039f\"], [0.2222222222222222, \"#7201a8\"], [0.3333333333333333, \"#9c179e\"], [0.4444444444444444, \"#bd3786\"], [0.5555555555555556, \"#d8576b\"], [0.6666666666666666, \"#ed7953\"], [0.7777777777777778, \"#fb9f3a\"], [0.8888888888888888, \"#fdca26\"], [1.0, \"#f0f921\"]]}, \"colorway\": [\"#636efa\", \"#EF553B\", \"#00cc96\", \"#ab63fa\", \"#FFA15A\", \"#19d3f3\", \"#FF6692\", \"#B6E880\", \"#FF97FF\", \"#FECB52\"], \"font\": {\"color\": \"#2a3f5f\"}, \"geo\": {\"bgcolor\": \"white\", \"lakecolor\": \"white\", \"landcolor\": \"#E5ECF6\", \"showlakes\": true, \"showland\": true, \"subunitcolor\": \"white\"}, \"hoverlabel\": {\"align\": \"left\"}, \"hovermode\": \"closest\", \"mapbox\": {\"style\": \"light\"}, \"paper_bgcolor\": \"white\", \"plot_bgcolor\": \"#E5ECF6\", \"polar\": {\"angularaxis\": {\"gridcolor\": \"white\", \"linecolor\": \"white\", \"ticks\": \"\"}, \"bgcolor\": \"#E5ECF6\", \"radialaxis\": {\"gridcolor\": \"white\", \"linecolor\": \"white\", \"ticks\": \"\"}}, \"scene\": {\"xaxis\": {\"backgroundcolor\": \"#E5ECF6\", \"gridcolor\": \"white\", \"gridwidth\": 2, \"linecolor\": \"white\", \"showbackground\": true, \"ticks\": \"\", \"zerolinecolor\": \"white\"}, \"yaxis\": {\"backgroundcolor\": \"#E5ECF6\", \"gridcolor\": \"white\", \"gridwidth\": 2, \"linecolor\": \"white\", \"showbackground\": true, \"ticks\": \"\", \"zerolinecolor\": \"white\"}, \"zaxis\": {\"backgroundcolor\": \"#E5ECF6\", \"gridcolor\": \"white\", \"gridwidth\": 2, \"linecolor\": \"white\", \"showbackground\": true, \"ticks\": \"\", \"zerolinecolor\": \"white\"}}, \"shapedefaults\": {\"line\": {\"color\": \"#2a3f5f\"}}, \"ternary\": {\"aaxis\": {\"gridcolor\": \"white\", \"linecolor\": \"white\", \"ticks\": \"\"}, \"baxis\": {\"gridcolor\": \"white\", \"linecolor\": \"white\", \"ticks\": \"\"}, \"bgcolor\": \"#E5ECF6\", \"caxis\": {\"gridcolor\": \"white\", \"linecolor\": \"white\", \"ticks\": \"\"}}, \"title\": {\"x\": 0.05}, \"xaxis\": {\"automargin\": true, \"gridcolor\": \"white\", \"linecolor\": \"white\", \"ticks\": \"\", \"zerolinecolor\": \"white\", \"zerolinewidth\": 2}, \"yaxis\": {\"automargin\": true, \"gridcolor\": \"white\", \"linecolor\": \"white\", \"ticks\": \"\", \"zerolinecolor\": \"white\", \"zerolinewidth\": 2}}}, \"xaxis\": {\"anchor\": \"y\", \"domain\": [0.0, 0.98], \"title\": {\"text\": \"AE_Lat\"}}, \"yaxis\": {\"anchor\": \"x\", \"domain\": [0.0, 1.0], \"title\": {\"text\": \"count\"}}},\n",
              "                        {\"responsive\": true}\n",
              "                    ).then(function(){\n",
              "                            \n",
              "var gd = document.getElementById('4f86959d-787c-4e3c-a2cd-76cf9eb31ab3');\n",
              "var x = new MutationObserver(function (mutations, observer) {{\n",
              "        var display = window.getComputedStyle(gd).display;\n",
              "        if (!display || display === 'none') {{\n",
              "            console.log([gd, 'removed!']);\n",
              "            Plotly.purge(gd);\n",
              "            observer.disconnect();\n",
              "        }}\n",
              "}});\n",
              "\n",
              "// Listen for the removal of the full notebook cells\n",
              "var notebookContainer = gd.closest('#notebook-container');\n",
              "if (notebookContainer) {{\n",
              "    x.observe(notebookContainer, {childList: true});\n",
              "}}\n",
              "\n",
              "// Listen for the clearing of the current output cell\n",
              "var outputEl = gd.closest('.output');\n",
              "if (outputEl) {{\n",
              "    x.observe(outputEl, {childList: true});\n",
              "}}\n",
              "\n",
              "                        })\n",
              "                };\n",
              "                \n",
              "            </script>\n",
              "        </div>\n",
              "</body>\n",
              "</html>"
            ]
          },
          "metadata": {
            "tags": []
          }
        }
      ]
    },
    {
      "cell_type": "code",
      "metadata": {
        "id": "xJGx5SLb6JdW",
        "colab_type": "code",
        "colab": {
          "base_uri": "https://localhost:8080/",
          "height": 617
        },
        "outputId": "b95b8124-9ed9-424f-b436-f3874fa0dc21"
      },
      "source": [
        "fig = px.histogram(results, x=\"AE_Long\")\n",
        "fig.show()"
      ],
      "execution_count": 39,
      "outputs": [
        {
          "output_type": "display_data",
          "data": {
            "text/html": [
              "<html>\n",
              "<head><meta charset=\"utf-8\" /></head>\n",
              "<body>\n",
              "    <div>\n",
              "            <script src=\"https://cdnjs.cloudflare.com/ajax/libs/mathjax/2.7.5/MathJax.js?config=TeX-AMS-MML_SVG\"></script><script type=\"text/javascript\">if (window.MathJax) {MathJax.Hub.Config({SVG: {font: \"STIX-Web\"}});}</script>\n",
              "                <script type=\"text/javascript\">window.PlotlyConfig = {MathJaxConfig: 'local'};</script>\n",
              "        <script src=\"https://cdn.plot.ly/plotly-latest.min.js\"></script>    \n",
              "            <div id=\"964b1333-cd7f-418b-90eb-7016f019a9ae\" class=\"plotly-graph-div\" style=\"height:600px; width:100%;\"></div>\n",
              "            <script type=\"text/javascript\">\n",
              "                \n",
              "                    window.PLOTLYENV=window.PLOTLYENV || {};\n",
              "                    \n",
              "                if (document.getElementById(\"964b1333-cd7f-418b-90eb-7016f019a9ae\")) {\n",
              "                    Plotly.newPlot(\n",
              "                        '964b1333-cd7f-418b-90eb-7016f019a9ae',\n",
              "                        [{\"alignmentgroup\": \"True\", \"bingroup\": \"x\", \"hoverlabel\": {\"namelength\": 0}, \"hovertemplate\": \"AE_Long=%{x}<br>count=%{y}\", \"legendgroup\": \"\", \"marker\": {\"color\": \"#636efa\"}, \"name\": \"\", \"offsetgroup\": \"\", \"orientation\": \"v\", \"showlegend\": false, \"type\": \"histogram\", \"x\": [24.28008755389601, 5.16015959251672, 1.347567648626864, 0.07501900009810925, 1.511065592058003, 4.2572040585801005, 2.343702874146402, 0.8872422818094492, 0.4853781498968601, 0.3080262802541256, 3.0776199297979474, 0.7382826013490558, 0.9661496859043837, 13.464495497755706, 0.3187084384262562, 18.038501418195665, 0.2247099308297038, 1.4333605635911226, 10.142559108324349, 2.6638650679960847, 6.37998262885958, 0.41457275580614805, 5.73488252889365, 38.09599455911666, 1.318517110310495, 5.664357237517834, 10.958909993991256, 12.500917189754546, 2.515991901047528, 0.8546311752870679, 8.824171679094434, 3.5608869697898626, 9.880715020000935, 12.357938218861818, 1.466153396293521, 7.240208946168423, 0.4148729434236884, 5.407020123675466, 4.261327569372952, 3.739142257720232, 2.4737733053043485, 2.3283600248396397, 1.7650073319673538, 2.6048965146765113, 4.226379192434251, 6.518364640884101, 0.3135247742757201, 0.7965218713507056, 2.247839001007378, 3.6171340830624104, 0.7389429695904255, 0.29443382006138563, 0.11786767095327377, 0.0008915504440665245, 3.542238362133503, 3.6481362748891115, 2.6746576260775328, 0.239416410215199, 2.16521885804832, 8.319967969320714, 0.03079981543123722, 3.028995265252888, 5.36604870390147, 2.6648277789354324, 0.03024338837713003, 0.290345948189497, 2.771135402843356, 11.716433151625097, 0.7450043922290206, 4.019334980286658, 3.7597847431898117, 0.9430853817611933, 0.9460463831201196, 0.10466782003641129, 1.983528308570385, 2.4867003224790096, 6.408867842517793, 1.4552577240392566, 6.7275651367381215, 2.0935520734637976, 1.982217501848936, 2.998985550366342, 0.37452616821974516, 2.340180989354849, 2.1550427358597517, 22.68342761322856, 3.0347334453836083, 1.2659911252558231, 0.6857273345813155, 0.023485060781240463, 1.5155597971752286, 4.192468552850187, 2.637500080280006, 1.2170481476932764, 0.7004651734605432, 5.071382814086974, 4.95132752135396, 4.489439926110208, 1.3116400837898254, 1.7364512914791703, 1.4598372615873814, 1.1310171438381076, 2.468583768233657, 3.2774838050827384, 5.599166120402515, 0.7640926158055663, 1.0522432504221797, 2.02062826231122, 0.2429284853860736, 3.0201027411967516, 2.071377365849912, 0.15593907702714205, 3.0121764251962304, 2.756069904193282, 0.5925839673727751, 0.011270551942288876, 5.002796781249344, 1.2708688732236624, 2.1156345400959253, 1.8652113117277622, 1.4409766010940075, 0.05372886825352907, 0.4917795993387699, 0.31332562025636435, 5.2089740773662925, 0.8270834749564528, 0.0794905535876751, 1.6703026555478573, 4.465531649067998, 2.487682905048132, 2.481863264925778, 4.60133895650506, 1.6723611513152719, 3.0848133573308587, 3.180672456510365, 0.14866747800260782, 0.36223975755274296, 0.6385922040790319, 2.350880886428058, 0.07139216735959053, 0.8302579093724489, 0.5333772897720337, 2.402943456545472, 0.4650658993050456, 2.417946391738951, 3.439352155663073, 0.36832854337990284, 3.2599386693909764, 4.48497443459928, 3.8583193365484476, 3.486622979864478, 0.1601310083642602, 1.200080443173647, 2.9786919858306646, 6.517981553450227, 1.2352812318131328, 2.500525333918631, 6.271849982440472, 6.158904280513525, 1.3793390737846494, 2.071329223923385, 17.89465773012489, 18.50669897161424, 3.935876759700477, 6.8999940026551485, 4.429110375232995, 3.880041773431003, 2.570362285710871, 6.579604065977037, 0.1618921086192131, 0.3050332395359874, 3.754171662032604, 4.669914221391082, 2.491703580133617, 0.5145854447036982, 0.6584588177502155, 3.408947540447116, 2.164270017296076, 0.7171363784000278, 3.577349773608148, 2.6377714397385716, 0.7150693638250232, 1.5091600911691785, 5.1152156768366694, 1.6636700443923473, 5.109907760284841, 4.400656146928668, 0.14495995361357927, 3.7152490625157952, 6.780788206495345, 14.157835588790476, 10.522006878629327, 8.786554081365466, 2.0428570210933685, 4.600451724603772, 0.035212498158216476, 2.86109830532223, 1.6303994404152036, 1.6623977841809392, 0.5604267008602619, 1.839330087415874, 1.1844036476686597, 2.973942605778575, 2.294633112847805, 8.832556556910276, 2.3010203866288066, 12.092260498553514, 2.561803844757378, 1.6689788540825248, 0.21047809813171625, 3.063559931702912, 1.8613615343347192, 2.266875703819096, 2.85491812042892, 1.97206599265337, 6.458736639469862, 0.6416451036930084, 4.230693751014769, 0.7428504973649979, 1.230249973013997, 3.4528385354205966, 2.127357934601605, 1.7973074205219746, 0.09173063933849335, 0.7956522200256586, 5.509082144126296, 0.16880572587251663, 8.349519783630967, 0.6826153062283993, 1.2341166650876403, 3.9260986298322678, 0.7618131441995502, 2.108072178438306, 10.746807533316314, 7.409031361341476, 8.233051624149084, 1.8600482381880283, 46.16250331699848, 16.70701584033668, 5.199921156279743, 3.5211140736937523, 0.0, 41.345798479393125, 42.00910463184118, 40.77099044620991, 0.22811944503337145, 0.5272731296718121, 4.061435533687472, 11.677711020223796, 0.968651938252151, 0.4844234548509121, 0.5183845302090049, 2.7429001247510314, 0.11759228352457285, 0.32011504378169775, 2.8771132361143827, 7.45226292964071, 0.18567465245723724, 2.5574817545711994, 3.558684481307864, 3.478118064813316, 0.8078793743625283, 0.9354911986738443, 4.461905872449279, 5.234602703712881, 3.581463656388223, 2.4507627207785845, 2.7262112591415644, 1.1651454428210855, 0.9952134052291512, 1.4606439918279648, 1.9759336300194263, 0.9298205049708486, 3.475988879799843, 0.7627770248800516, 1.210382979363203, 2.7973902206867933, 1.5056645441800356, 2.9120910707861185, 7.596859475597739, 2.24897288531065, 0.6379080172628164, 2.018225002102554, 0.6303610801696777, 3.031730624847114, 2.971597995609045, 0.031020687893033028, 0.4368107980117202, 2.854551088064909, 1.3661192962899804, 0.8326841564849019, 8.676135648041964, 0.08102365396916866, 3.917034746147692, 0.7428646618500352, 5.751805933192372, 1.1757243666797876, 0.6042513782158494, 13.762329867109656, 4.6566128730773926e-09, 5.587935447692871e-09, 8.381903171539307e-09, 0.6553436713293195, 3.3716468326747417, 0.248963525518775, 0.14242113661020994, 26.254404929466546, 0.17233711294829845, 1.3162525026127696, 1.955686066299677, 2.32904942240566, 0.6520433286204934, 0.8076275335624814, 1.580979410558939, 0.8431979091838002, 2.1212466480210423, 1.5726887304335833, 1.2261585807427764, 1.1639158809557557, 1.1538105700165033, 4.7381621999666095, 4.069432853721082, 0.1390303038060665, 1.3149551516398787, 0.9413759969174862, 3.501467887312174, 3.3751412741839886, 1.2651649797335267, 0.19460389576852322, 3.866805820725858, 1.3091049380600452, 1.7850108845159411, 0.8819001242518425, 2.493842026218772, 11.733856324106455, 1.7179625649005175, 10.652007550932467, 1.1887346496805549, 0.02908840775489807, 5.265719739720225, 1.9844066193327308, 2.285480221733451, 4.670519501902163, 14.601277356036007, 1.8564924718812108, 19.843994067050517, 4.125569289550185, 2.2911002254113555, 0.8026972943916917, 3.6010316982865334, 1.1112586883828044, 2.2795107159763575, 1.714361846446991, 1.7340162731707096, 0.07344879768788815, 0.9874127302318811, 4.260176185518503, 5.4409339716658, 0.3046769015491009, 0.01776948105543852, 4.726734388619661, 0.9434631681069732, 0.1477353535592556, 0.9269264424219728, 0.4378462927415967, 1.2261107824742794, 4.631479195319116, 8.019993488676846, 9.583619241602719, 1.026976821012795, 1.3041062541306019, 1.3087893929332495, 2.4065772285684943, 0.004024210385978222, 1.8614473510533571, 1.3274561390280724, 2.6653987895697355, 10.379222729243338, 0.7352067101746798, 12.688500012271106, 6.2454944886267185, 0.7435181550681591, 1.5327968774363399, 6.110694599337876, 1.4647696483880281, 2.9726075613871217, 22.976025118492544, 1.129924040287733, 1.4991934848949313, 0.20156163070350885, 1.3325991304591298, 4.509321675635874, 2.545052208006382, 3.300240993499756, 0.9915004782378674, 1.1316230334341526, 3.904499139636755, 0.4939777860417962, 0.04300542455166578, 3.6293355971574783, 3.8069750694558024, 4.069233181886375, 0.3808645335957408, 2.4261923115700483, 11.791028985753655, 0.05334610119462013, 10.891266363672912, 3.8030609535053372, 10.475456552579999, 1.8421013755723834, 1.6880936212837696, 3.9215218387544155, 1.200674256309867, 2.1320262840017676, 3.058145295828581, 13.019617012701929, 12.482900424860418, 5.103850577957928, 8.470797354355454, 1.8518846305087209, 6.420502814464271, 0.1420394331216812, 4.3212076388299465, 1.1239651767536998, 0.6380201559513807, 1.0885419445112348, 15.758935144171119, 7.756507848389447, 4.120946371927857, 2.499516627751291, 6.303466119803488, 6.008210278116167, 4.483133861795068, 2.83841397985816, 0.46839602291584015, 1.6665538800880313, 0.858509311452508, 3.3381103053689003, 1.6760820681229234, 0.32653557509183884, 8.809172932058573, 1.7750209299847484, 3.722868647426367, 0.7468194458633661, 1.13498807977885, 1.5351255862042308, 4.077805411070585, 0.3154632458463311, 10.08289444912225, 1.3300563963130116, 0.8179779248312116, 1.5012702820822597, 0.5767765082418919, 2.909018383361399, 3.9012448033317924, 3.2858802769333124, 3.1405586758628488, 1.7820131573826075, 15.284349888563156, 1.2549846693873405, 2.4937595203518867, 2.5527334101498127, 7.411712804809213, 4.693259078077972, 3.1564576122909784, 3.9727204712107778, 16.642187295481563, 0.5077863093465567, 7.778403743170202, 1.9455865873023868, 5.449602887034416, 0.7429673345759511, 0.8376515852287412, 9.463818405754864, 2.36632314696908, 2.273063886910677, 1.2464291909709573, 1.0333486935123801, 0.3545831376686692, 0.3525283308699727, 1.0717085329815745, 4.4222023114562035, 5.727845968678594, 1.5952497376129031, 5.251151693053544, 5.599629192613065, 9.328356548212469, 14.252091204747558, 0.7751478841528296, 6.191477878019214, 1.7375795552507043, 2.1782992174848914, 0.5060816956683993, 1.1203799406066537, 1.2600738601759076, 1.5132146198302507, 2.1402815440669656, 8.17043944913894, 7.307168524712324, 1.8679451942443848, 1.0414222907274961, 1.1149154575541615, 0.16605983395129442, 0.012959088198840618, 4.4902720069512725, 4.120823176577687, 1.0478893853724003, 8.415546797215939, 1.5975340232253075, 5.91797882411629, 3.9809304550290108, 1.6107863960787654, 2.326520474627614, 0.22565230168402195, 13.79032717179507, 8.54524186719209, 4.933508618734777, 0.5056080520153046, 7.701193023473024, 1.647158494219184, 2.3642884185537696, 0.20860624592751265, 4.321329821832478, 11.531096560880542, 4.1012373538687825, 0.5677116131410003, 10.934504703618586, 2.4437352810055017, 10.368509412743151, 1.5240542441606522, 9.987923165783286, 0.1436785450205207, 1.8224191004410386, 6.844632603228092, 3.0532342987135053, 1.3610783917829394, 4.370811010710895, 2.1907884450629354, 2.61335667129606, 2.1205052798613906, 5.874809993430972, 2.066821990534663, 3.2517728758975863, 0.38404812663793564, 1.4500696323812008, 12.208665005862713, 4.163770246319473, 1.413116748444736, 5.420122493989766, 2.8324572993442416, 0.9076590817421675, 5.499561089091003, 0.45335674844682217, 1.833055137656629, 0.8029144769534469, 0.0811685798689723, 18.38665203563869, 8.652146662585437, 0.8160671945661306, 4.462789902463555, 4.06134963594377, 1.3987196078523993, 1.1176554197445512, 0.3436002340167761, 1.4897559834644198, 0.7277122791856527, 10.711905003525317, 14.863397115841508, 1.706461270339787, 3.9037981536239386, 0.39305923227220774, 4.327124417759478, 1.2406884105876088, 1.4274683464318514, 3.9408412370830774, 8.823434066958725, 3.0080718714743853, 1.71422653272748, 0.4687205730006099, 0.24507923237979412, 0.6623610341921449, 1.2690880708396435, 1.1206880966201425, 21.078528689220548, 1.2903483044356108, 0.45467126462608576, 3.8169394209980965, 4.479310802184045, 4.175978207029402, 10.182912388816476, 0.24849453289061785, 1.0185375567525625, 1.2549860272556543, 0.40561999566853046, 4.350391066633165, 0.40840569883584976, 3.1759147671982646, 4.088360569439828, 11.012110064737499, 3.4254525415599346, 1.9684052504599094, 3.9330129930749536, 7.231562114320695, 1.0149738257750869, 0.508511945605278, 4.096580035984516, 4.70572570245713, 9.700388986617327, 10.831040099263191, 2.2265430968254805, 1.3671224527060986, 3.3485855869948864, 3.1834400668740273, 0.049840874038636684, 1.4321964550763369, 11.33934419695288, 2.555571303702891, 11.562200494110584, 0.8218560079112649, 12.979966280981898, 8.742431033402681, 6.3942628456279635, 4.320751152932644, 1.5496622268110514, 1.8773251427337527, 2.9240808663889766, 0.26368936337530613, 6.1022037314251065, 1.5556392669677734, 6.858017856255174, 0.1081037288531661, 5.792424437589943, 4.223583536222577, 3.773322149179876, 0.34110368229448795, 0.16473680548369884, 5.277268560603261, 2.4793222723528743, 6.14767709095031, 2.049106189981103, 1.376673880033195, 7.746119813993573, 0.01925448514521122, 8.120965060777962, 3.0257025565952063, 0.552401109598577, 1.4808460911735892, 2.0542822061106563, 7.272480520419776, 6.948869599029422, 1.3909250060096383, 10.69201030395925, 18.32632322050631, 5.261683142744005, 0.5870016515254974, 0.06568101514130831, 0.7430909657850862, 2.4106293274089694, 2.3752921000123024, 0.11042311321943998, 2.9025452472269535, 0.010458149015903473, 0.2634011600166559, 0.6246206611394882, 5.135733084753156, 6.709149315021932, 2.108834331855178, 0.020637954585254192, 3.6690044179558754, 8.0020707892254, 11.383214770816267, 0.6908389572054148, 0.1565093146637082, 3.827568524517119, 3.262796903960407, 2.069909907877445, 0.09178344439715147, 2.8572969902306795, 15.264869258739054, 0.9599082777276635, 0.19058511406183243, 4.816475747153163, 2.0424299938604236, 0.7196972873061895, 3.1887543834745884, 0.1735186781734228, 1.2054419973865151, 14.532359858974814, 11.929145907983184, 2.6538401572033763, 2.7286857971921563, 7.994010980241001, 0.7128227977082133, 3.817447238601744, 0.2742528896778822, 1.5199582418426871, 2.963494447991252, 1.3840439058840275, 11.848032749257982, 2.5613420102745295, 1.0429004561156034, 0.11205721646547318, 3.502687661908567, 2.3852495439350605, 1.3249918799847364, 0.5175657728686929, 7.756882964633405, 0.8588978108018637, 0.7937608063220978, 0.8438881523907185, 11.474010387435555, 0.804518572986126, 15.275545818731189, 2.6270738169550896, 0.04423271957784891, 1.103120925836265, 2.593826868571341, 0.6897387187927961, 1.646463836543262, 0.20401333831250668, 0.6998391449451447, 1.5519086429849267, 17.770930292084813, 3.5162160815671086, 2.680750743485987, 2.9193028528243303, 1.718156324699521, 3.211201846599579, 4.85352689307183, 0.5546563724055886, 18.07753278966993, 17.076679278165102, 4.3258814457803965, 12.352281253784895, 1.3305113036185503, 5.304341428913176, 4.176292293705046, 16.499906323850155, 9.499683671630919, 0.8004309749230742, 6.743986014276743, 5.8692236468195915, 14.09366639982909, 0.2743116905912757, 7.829238450154662, 3.827647020108998, 0.640533291734755, 12.957556904293597, 3.9352561170235276, 3.0668775159865618, 0.8959033535793424, 0.02308719139546156, 2.1185864321887493, 0.9588000755757093, 2.790429295040667, 1.0359918298199773, 1.7646333863958716, 0.6648830398917198, 2.051065020263195, 4.579568946734071, 2.37391503714025, 0.8643244383856654, 4.086459592916071, 1.385973110795021, 0.3736907346174121, 4.908694797195494, 22.591535941697657, 1.941860694438219, 15.583589005284011, 3.0978697882965207, 1.9931022943928838, 0.5354544268921018, 1.2538427170366049, 5.732480390928686, 1.3296333001926541, 4.379101127386093, 1.5941893309354782, 6.077616775408387, 1.9731570044532418, 2.6981124598532915, 13.044251628220081, 2.0439300257712603, 6.920050987042487, 0.3703382071107626, 14.01234647165984, 55.84080917574465, 9.020035143010318, 1.1776329847052693, 3.7541796043515205, 0.7132612662389874, 2.656147721223533, 4.6731722466647625, 0.24591662641614676, 2.253113658167422, 16.920584220439196, 16.507707341574132, 0.9422738198190928, 4.401627155952156, 6.846660546027124, 1.297807619906962, 4.766835190355778, 1.3835517661646008, 3.5308428024873137, 4.444886464625597, 0.9261421132832766, 1.2971418928354979, 7.397334282286465, 0.39046745002269745, 4.455444637686014, 13.988503015600145, 0.1810569567605853, 9.814444462768734, 38.12438541185111, 5.689577382057905, 2.95680451951921, 2.9460962507873774, 0.8758156020194292, 4.3908542254939675, 1.1724994601681828, 27.50072088930756, 0.034596266224980354, 0.14289819356054068, 0.39394322503358126, 2.7589425584301353, 5.366245440207422, 14.27482477389276, 10.239992876537144, 0.41800377797335386, 5.920927977189422, 7.793459367007017, 9.089443298988044, 3.380287606269121, 1.1184156062081456, 7.069759640842676, 1.6811052542179823, 0.641156361438334, 4.450586385093629, 3.701564817689359, 3.1055055065080523, 1.444720077328384, 5.4292143462225795, 0.6080947667360306, 1.3035910911858082, 4.087701273150742, 23.84315943531692, 2.073325254023075, 0.3398420847952366, 1.7024471573531628, 3.5851581692695618, 2.759063354693353, 4.015078345313668, 5.092941254377365, 2.1253213994205, 3.211131398566067, 1.9678384978324175, 1.6204255279153585, 8.828021194785833, 8.90282314736396, 0.26959298457950354, 0.2011185484007001, 29.406268048100173, 0.28856583032757044, 1.2729200292378664, 2.8580716559663415, 4.892856165766716, 7.01897188462317, 3.6687638526782393, 1.9927611583843827, 3.6079497449100018, 1.2685047425329685, 2.71209435723722, 2.9153292356058955, 0.6607493860647082, 9.071116583421826, 1.4799975669011474, 2.107414098456502, 4.0372368190437555, 7.699939432553947, 8.652638767845929, 7.473519654944539, 0.9881155015900731, 3.608765729703009, 50.18100845254958, 2.8506970666348934, 0.32136523351073265, 1.258217523805797, 5.6387663232162595, 3.3766626520082355, 33.201802243478596, 9.67797465249896, 0.42136493045836687, 10.036946104839444, 1.6805113423615694, 13.322970892302692, 7.954538627527654, 1.5153189739212394, 0.29903728421777487, 4.108184055425227, 5.8210209691897035, 0.7060090871527791, 0.7369614420458674, 1.5578497061505914, 3.2529816031455994, 0.14291999861598015, 7.578768528997898, 8.087999665178359, 7.690583687275648, 14.637920219451189, 18.81907537393272, 6.24930927157402, 3.848486714065075, 5.355637516826391, 19.209723136387765, 5.442148613743484, 14.144184592179954, 1.3985666064545512, 4.512642960995436, 2.5809797635301948, 1.7983844773843884, 0.3136582626029849, 2.4920547073706985, 5.041514466516674, 11.387536906637251, 1.543424249626696, 6.022267651744187, 18.07652538549155, 0.01782644633203745, 0.2771941516548395, 9.250350479967892, 0.17102292086929083, 0.5222109165042639, 3.7918847259134054, 29.09477840270847, 0.2121267570182681, 0.4036185694858432, 0.9397534253075719, 3.8033408420160413, 6.292790401726961, 1.289935645647347, 0.20285725500434637, 4.423551899380982, 1.1743176570162177, 10.33972299285233, 2.302321312017739, 0.4662247821688652, 0.5034258579835296, 0.005251443944871426, 0.02568133734166622, 10.169914462603629, 3.3125775270164013, 0.6820251690223813, 0.8658709768205881, 6.381818121299148, 2.674388646148145, 0.43889393750578165, 15.986881060525775, 34.319914910942316, 3.3165141185745597, 2.8521128157153726, 5.367087319493294, 11.910088603384793, 1.1382558019831777, 7.2918296521529555, 13.544124937616289, 0.8250518897548318, 0.7686315402388573, 0.17630677856504917, 5.436567340046167, 0.991122487001121, 1.7222119364887476, 1.3882724838331342, 0.17119874898344278, 9.320680058561265, 1.0254753362387419, 1.564605813473463, 0.6785445688292384, 16.876143912784755, 1.2336750132963061, 20.82805811986327, 0.8638358181342483, 2.125445351935923, 2.3136272775009274, 17.241197185590863, 0.9363717036321759, 0.01031474582850933, 3.9617002801969647, 6.46223752014339, 0.9904613886028528, 5.480400231666863, 1.8045588722452521, 0.13948209304362535, 3.228053060360253, 1.0071774097159505, 20.963926631957293, 1.5757612325251102, 12.272738405503333, 15.876280013471842, 5.1368986470624804, 14.628603409975767, 1.1014724439010024, 12.400862435810268, 6.042977646924555, 0.4719554129987955, 39.57805651240051, 1.8152703186497092, 0.07775492034852505, 1.1133579537272453, 1.0506024966016412, 10.541956570930779, 4.223109642975032, 0.11563283950090408, 1.8316485174000263, 0.5570816537365317, 0.46932454127818346, 1.8960532015189528, 0.8653745539486408, 2.142631499096751, 3.331797307357192, 2.366939269937575, 1.7962575359269977, 1.386445322073996, 1.320998091250658, 3.5661112098023295, 14.586343182250857, 10.550099074840546, 0.13564870413392782, 1.3969838619232178e-08, 0.17694193869829178, 0.15969368908554316, 8.348047310486436, 1.1325553432106972, 1.7849021973088384, 10.141512205824256, 3.308376823551953, 10.456484821625054, 2.635288417339325, 11.56372718513012, 12.573183596134186, 3.7114346232265234, 0.691528208553791, 3.3481341041624546, 2.539169102907181, 0.43609809409826994, 4.143451587297022, 3.7582970038056374, 3.0260958997532725, 1.8700820235535502, 0.730980908498168, 5.457733856514096, 3.0909581929445267, 5.462851115502417, 11.800941699184477, 1.6665227403864264, 0.05045696534216404, 0.7312604319304228, 11.602037533186376, 11.616985332220793, 2.5212251218035817, 6.158343728631735, 6.100448507815599, 0.0020452942699193954, 0.036574956960976124, 6.51925802230835e-09, 0.13699320144951344, 0.5380351357161999, 0.05767806340008974, 2.6650575706735253, 4.609321318566799, 9.06473874580115, 0.7117873160168529, 0.051896980963647366, 3.3663305984809995, 2.0473804315552115, 3.9723831228911877, 5.012411231175065, 0.5079118749126792, 0.18759846594184637, 2.2803385388106108, 1.0586061235517263, 1.954778322018683, 0.16860024817287922, 0.06549488566815853, 0.03669683076441288, 4.021168230101466, 2.834722090512514, 0.3663933528587222, 1.6535613061860204, 0.6922219917178154, 0.30221457965672016, 0.4775147959589958, 0.4090573415160179, 0.17577422223985195, 0.5507473321631551, 7.806870575994253, 0.8579533705487847, 3.900984587147832, 3.5809946367517114, 2.777111324481666, 0.8081732876598835, 1.668421263806522, 3.1830655243247747, 3.34365585912019, 1.135280773974955, 2.4900588989257812, 1.4211263619363308, 3.2909856513142586, 0.708874786272645, 6.073562923818827, 6.443964757025242, 5.419135431759059, 6.128174983896315], \"xaxis\": \"x\", \"yaxis\": \"y\"}],\n",
              "                        {\"barmode\": \"relative\", \"height\": 600, \"legend\": {\"tracegroupgap\": 0}, \"margin\": {\"t\": 60}, \"template\": {\"data\": {\"bar\": [{\"error_x\": {\"color\": \"#2a3f5f\"}, \"error_y\": {\"color\": \"#2a3f5f\"}, \"marker\": {\"line\": {\"color\": \"#E5ECF6\", \"width\": 0.5}}, \"type\": \"bar\"}], \"barpolar\": [{\"marker\": {\"line\": {\"color\": \"#E5ECF6\", \"width\": 0.5}}, \"type\": \"barpolar\"}], \"carpet\": [{\"aaxis\": {\"endlinecolor\": \"#2a3f5f\", \"gridcolor\": \"white\", \"linecolor\": \"white\", \"minorgridcolor\": \"white\", \"startlinecolor\": \"#2a3f5f\"}, \"baxis\": {\"endlinecolor\": \"#2a3f5f\", \"gridcolor\": \"white\", \"linecolor\": \"white\", \"minorgridcolor\": \"white\", \"startlinecolor\": \"#2a3f5f\"}, \"type\": \"carpet\"}], \"choropleth\": [{\"colorbar\": {\"outlinewidth\": 0, \"ticks\": \"\"}, \"type\": \"choropleth\"}], \"contour\": [{\"colorbar\": {\"outlinewidth\": 0, \"ticks\": \"\"}, \"colorscale\": [[0.0, \"#0d0887\"], [0.1111111111111111, \"#46039f\"], [0.2222222222222222, \"#7201a8\"], [0.3333333333333333, \"#9c179e\"], [0.4444444444444444, \"#bd3786\"], [0.5555555555555556, \"#d8576b\"], [0.6666666666666666, \"#ed7953\"], [0.7777777777777778, \"#fb9f3a\"], [0.8888888888888888, \"#fdca26\"], [1.0, \"#f0f921\"]], \"type\": \"contour\"}], \"contourcarpet\": [{\"colorbar\": {\"outlinewidth\": 0, \"ticks\": \"\"}, \"type\": \"contourcarpet\"}], \"heatmap\": [{\"colorbar\": {\"outlinewidth\": 0, \"ticks\": \"\"}, \"colorscale\": [[0.0, \"#0d0887\"], [0.1111111111111111, \"#46039f\"], [0.2222222222222222, \"#7201a8\"], [0.3333333333333333, \"#9c179e\"], [0.4444444444444444, \"#bd3786\"], [0.5555555555555556, \"#d8576b\"], [0.6666666666666666, \"#ed7953\"], [0.7777777777777778, \"#fb9f3a\"], [0.8888888888888888, \"#fdca26\"], [1.0, \"#f0f921\"]], \"type\": \"heatmap\"}], \"heatmapgl\": [{\"colorbar\": {\"outlinewidth\": 0, \"ticks\": \"\"}, \"colorscale\": [[0.0, \"#0d0887\"], [0.1111111111111111, \"#46039f\"], [0.2222222222222222, \"#7201a8\"], [0.3333333333333333, \"#9c179e\"], [0.4444444444444444, \"#bd3786\"], [0.5555555555555556, \"#d8576b\"], [0.6666666666666666, \"#ed7953\"], [0.7777777777777778, \"#fb9f3a\"], [0.8888888888888888, \"#fdca26\"], [1.0, \"#f0f921\"]], \"type\": \"heatmapgl\"}], \"histogram\": [{\"marker\": {\"colorbar\": {\"outlinewidth\": 0, \"ticks\": \"\"}}, \"type\": \"histogram\"}], \"histogram2d\": [{\"colorbar\": {\"outlinewidth\": 0, \"ticks\": \"\"}, \"colorscale\": [[0.0, \"#0d0887\"], [0.1111111111111111, \"#46039f\"], [0.2222222222222222, \"#7201a8\"], [0.3333333333333333, \"#9c179e\"], [0.4444444444444444, \"#bd3786\"], [0.5555555555555556, \"#d8576b\"], [0.6666666666666666, \"#ed7953\"], [0.7777777777777778, \"#fb9f3a\"], [0.8888888888888888, \"#fdca26\"], [1.0, \"#f0f921\"]], \"type\": \"histogram2d\"}], \"histogram2dcontour\": [{\"colorbar\": {\"outlinewidth\": 0, \"ticks\": \"\"}, \"colorscale\": [[0.0, \"#0d0887\"], [0.1111111111111111, \"#46039f\"], [0.2222222222222222, \"#7201a8\"], [0.3333333333333333, \"#9c179e\"], [0.4444444444444444, \"#bd3786\"], [0.5555555555555556, \"#d8576b\"], [0.6666666666666666, \"#ed7953\"], [0.7777777777777778, \"#fb9f3a\"], [0.8888888888888888, \"#fdca26\"], [1.0, \"#f0f921\"]], \"type\": \"histogram2dcontour\"}], \"mesh3d\": [{\"colorbar\": {\"outlinewidth\": 0, \"ticks\": \"\"}, \"type\": \"mesh3d\"}], \"parcoords\": [{\"line\": {\"colorbar\": {\"outlinewidth\": 0, \"ticks\": \"\"}}, \"type\": \"parcoords\"}], \"scatter\": [{\"marker\": {\"colorbar\": {\"outlinewidth\": 0, \"ticks\": \"\"}}, \"type\": \"scatter\"}], \"scatter3d\": [{\"line\": {\"colorbar\": {\"outlinewidth\": 0, \"ticks\": \"\"}}, \"marker\": {\"colorbar\": {\"outlinewidth\": 0, \"ticks\": \"\"}}, \"type\": \"scatter3d\"}], \"scattercarpet\": [{\"marker\": {\"colorbar\": {\"outlinewidth\": 0, \"ticks\": \"\"}}, \"type\": \"scattercarpet\"}], \"scattergeo\": [{\"marker\": {\"colorbar\": {\"outlinewidth\": 0, \"ticks\": \"\"}}, \"type\": \"scattergeo\"}], \"scattergl\": [{\"marker\": {\"colorbar\": {\"outlinewidth\": 0, \"ticks\": \"\"}}, \"type\": \"scattergl\"}], \"scattermapbox\": [{\"marker\": {\"colorbar\": {\"outlinewidth\": 0, \"ticks\": \"\"}}, \"type\": \"scattermapbox\"}], \"scatterpolar\": [{\"marker\": {\"colorbar\": {\"outlinewidth\": 0, \"ticks\": \"\"}}, \"type\": \"scatterpolar\"}], \"scatterpolargl\": [{\"marker\": {\"colorbar\": {\"outlinewidth\": 0, \"ticks\": \"\"}}, \"type\": \"scatterpolargl\"}], \"scatterternary\": [{\"marker\": {\"colorbar\": {\"outlinewidth\": 0, \"ticks\": \"\"}}, \"type\": \"scatterternary\"}], \"surface\": [{\"colorbar\": {\"outlinewidth\": 0, \"ticks\": \"\"}, \"colorscale\": [[0.0, \"#0d0887\"], [0.1111111111111111, \"#46039f\"], [0.2222222222222222, \"#7201a8\"], [0.3333333333333333, \"#9c179e\"], [0.4444444444444444, \"#bd3786\"], [0.5555555555555556, \"#d8576b\"], [0.6666666666666666, \"#ed7953\"], [0.7777777777777778, \"#fb9f3a\"], [0.8888888888888888, \"#fdca26\"], [1.0, \"#f0f921\"]], \"type\": \"surface\"}], \"table\": [{\"cells\": {\"fill\": {\"color\": \"#EBF0F8\"}, \"line\": {\"color\": \"white\"}}, \"header\": {\"fill\": {\"color\": \"#C8D4E3\"}, \"line\": {\"color\": \"white\"}}, \"type\": \"table\"}]}, \"layout\": {\"annotationdefaults\": {\"arrowcolor\": \"#2a3f5f\", \"arrowhead\": 0, \"arrowwidth\": 1}, \"colorscale\": {\"diverging\": [[0, \"#8e0152\"], [0.1, \"#c51b7d\"], [0.2, \"#de77ae\"], [0.3, \"#f1b6da\"], [0.4, \"#fde0ef\"], [0.5, \"#f7f7f7\"], [0.6, \"#e6f5d0\"], [0.7, \"#b8e186\"], [0.8, \"#7fbc41\"], [0.9, \"#4d9221\"], [1, \"#276419\"]], \"sequential\": [[0.0, \"#0d0887\"], [0.1111111111111111, \"#46039f\"], [0.2222222222222222, \"#7201a8\"], [0.3333333333333333, \"#9c179e\"], [0.4444444444444444, \"#bd3786\"], [0.5555555555555556, \"#d8576b\"], [0.6666666666666666, \"#ed7953\"], [0.7777777777777778, \"#fb9f3a\"], [0.8888888888888888, \"#fdca26\"], [1.0, \"#f0f921\"]], \"sequentialminus\": [[0.0, \"#0d0887\"], [0.1111111111111111, \"#46039f\"], [0.2222222222222222, \"#7201a8\"], [0.3333333333333333, \"#9c179e\"], [0.4444444444444444, \"#bd3786\"], [0.5555555555555556, \"#d8576b\"], [0.6666666666666666, \"#ed7953\"], [0.7777777777777778, \"#fb9f3a\"], [0.8888888888888888, \"#fdca26\"], [1.0, \"#f0f921\"]]}, \"colorway\": [\"#636efa\", \"#EF553B\", \"#00cc96\", \"#ab63fa\", \"#FFA15A\", \"#19d3f3\", \"#FF6692\", \"#B6E880\", \"#FF97FF\", \"#FECB52\"], \"font\": {\"color\": \"#2a3f5f\"}, \"geo\": {\"bgcolor\": \"white\", \"lakecolor\": \"white\", \"landcolor\": \"#E5ECF6\", \"showlakes\": true, \"showland\": true, \"subunitcolor\": \"white\"}, \"hoverlabel\": {\"align\": \"left\"}, \"hovermode\": \"closest\", \"mapbox\": {\"style\": \"light\"}, \"paper_bgcolor\": \"white\", \"plot_bgcolor\": \"#E5ECF6\", \"polar\": {\"angularaxis\": {\"gridcolor\": \"white\", \"linecolor\": \"white\", \"ticks\": \"\"}, \"bgcolor\": \"#E5ECF6\", \"radialaxis\": {\"gridcolor\": \"white\", \"linecolor\": \"white\", \"ticks\": \"\"}}, \"scene\": {\"xaxis\": {\"backgroundcolor\": \"#E5ECF6\", \"gridcolor\": \"white\", \"gridwidth\": 2, \"linecolor\": \"white\", \"showbackground\": true, \"ticks\": \"\", \"zerolinecolor\": \"white\"}, \"yaxis\": {\"backgroundcolor\": \"#E5ECF6\", \"gridcolor\": \"white\", \"gridwidth\": 2, \"linecolor\": \"white\", \"showbackground\": true, \"ticks\": \"\", \"zerolinecolor\": \"white\"}, \"zaxis\": {\"backgroundcolor\": \"#E5ECF6\", \"gridcolor\": \"white\", \"gridwidth\": 2, \"linecolor\": \"white\", \"showbackground\": true, \"ticks\": \"\", \"zerolinecolor\": \"white\"}}, \"shapedefaults\": {\"line\": {\"color\": \"#2a3f5f\"}}, \"ternary\": {\"aaxis\": {\"gridcolor\": \"white\", \"linecolor\": \"white\", \"ticks\": \"\"}, \"baxis\": {\"gridcolor\": \"white\", \"linecolor\": \"white\", \"ticks\": \"\"}, \"bgcolor\": \"#E5ECF6\", \"caxis\": {\"gridcolor\": \"white\", \"linecolor\": \"white\", \"ticks\": \"\"}}, \"title\": {\"x\": 0.05}, \"xaxis\": {\"automargin\": true, \"gridcolor\": \"white\", \"linecolor\": \"white\", \"ticks\": \"\", \"zerolinecolor\": \"white\", \"zerolinewidth\": 2}, \"yaxis\": {\"automargin\": true, \"gridcolor\": \"white\", \"linecolor\": \"white\", \"ticks\": \"\", \"zerolinecolor\": \"white\", \"zerolinewidth\": 2}}}, \"xaxis\": {\"anchor\": \"y\", \"domain\": [0.0, 0.98], \"title\": {\"text\": \"AE_Long\"}}, \"yaxis\": {\"anchor\": \"x\", \"domain\": [0.0, 1.0], \"title\": {\"text\": \"count\"}}},\n",
              "                        {\"responsive\": true}\n",
              "                    ).then(function(){\n",
              "                            \n",
              "var gd = document.getElementById('964b1333-cd7f-418b-90eb-7016f019a9ae');\n",
              "var x = new MutationObserver(function (mutations, observer) {{\n",
              "        var display = window.getComputedStyle(gd).display;\n",
              "        if (!display || display === 'none') {{\n",
              "            console.log([gd, 'removed!']);\n",
              "            Plotly.purge(gd);\n",
              "            observer.disconnect();\n",
              "        }}\n",
              "}});\n",
              "\n",
              "// Listen for the removal of the full notebook cells\n",
              "var notebookContainer = gd.closest('#notebook-container');\n",
              "if (notebookContainer) {{\n",
              "    x.observe(notebookContainer, {childList: true});\n",
              "}}\n",
              "\n",
              "// Listen for the clearing of the current output cell\n",
              "var outputEl = gd.closest('.output');\n",
              "if (outputEl) {{\n",
              "    x.observe(outputEl, {childList: true});\n",
              "}}\n",
              "\n",
              "                        })\n",
              "                };\n",
              "                \n",
              "            </script>\n",
              "        </div>\n",
              "</body>\n",
              "</html>"
            ]
          },
          "metadata": {
            "tags": []
          }
        }
      ]
    },
    {
      "cell_type": "code",
      "metadata": {
        "id": "S-_A21EK6JdY",
        "colab_type": "code",
        "colab": {
          "base_uri": "https://localhost:8080/",
          "height": 617
        },
        "outputId": "2b111032-4014-42c7-c719-66715a4a51a4"
      },
      "source": [
        "fig = px.scatter(results, x=\"LATITUDE\", y=\"RE_Lat\")\n",
        "fig.show()"
      ],
      "execution_count": 40,
      "outputs": [
        {
          "output_type": "display_data",
          "data": {
            "text/html": [
              "<html>\n",
              "<head><meta charset=\"utf-8\" /></head>\n",
              "<body>\n",
              "    <div>\n",
              "            <script src=\"https://cdnjs.cloudflare.com/ajax/libs/mathjax/2.7.5/MathJax.js?config=TeX-AMS-MML_SVG\"></script><script type=\"text/javascript\">if (window.MathJax) {MathJax.Hub.Config({SVG: {font: \"STIX-Web\"}});}</script>\n",
              "                <script type=\"text/javascript\">window.PlotlyConfig = {MathJaxConfig: 'local'};</script>\n",
              "        <script src=\"https://cdn.plot.ly/plotly-latest.min.js\"></script>    \n",
              "            <div id=\"9f1a1808-803d-4bbf-91e0-6f3780c96bfd\" class=\"plotly-graph-div\" style=\"height:600px; width:100%;\"></div>\n",
              "            <script type=\"text/javascript\">\n",
              "                \n",
              "                    window.PLOTLYENV=window.PLOTLYENV || {};\n",
              "                    \n",
              "                if (document.getElementById(\"9f1a1808-803d-4bbf-91e0-6f3780c96bfd\")) {\n",
              "                    Plotly.newPlot(\n",
              "                        '9f1a1808-803d-4bbf-91e0-6f3780c96bfd',\n",
              "                        [{\"hoverlabel\": {\"namelength\": 0}, \"hovertemplate\": \"LATITUDE=%{x}<br>RE_Lat=%{y}\", \"legendgroup\": \"\", \"marker\": {\"color\": \"#636efa\", \"symbol\": \"circle\"}, \"mode\": \"markers\", \"name\": \"\", \"showlegend\": false, \"type\": \"scattergl\", \"x\": [2336871.8767676884, 2336706.436116477, 2336701.070077511, 2336689.159670036, 2336972.8011279353, 2336643.4123206967, 2336691.8327983827, 2336629.786783707, 2336643.9519526227, 2336672.1360264155, 2336635.291174313, 2336698.5299839643, 2336703.769487975, 2336625.420126552, 2336704.023545501, 2336679.564286397, 2336879.9192027054, 2336704.782495495, 2336704.3196195695, 2336690.937130336, 2336877.461048895, 2336952.2086892314, 2336704.789388669, 2336704.790337607, 2336872.8120425455, 2336873.72113566, 2336702.4116229424, 2336707.90732675, 2337006.1311834455, 2336979.8359891437, 2337013.091333616, 2336872.311827732, 2336876.982920518, 2336878.168849652, 2336878.111373955, 2336756.952641192, 2336762.136747334, 2336761.411386651, 2336757.6217561075, 2336758.48490513, 2336758.0376379057, 2336762.061398389, 2336872.8442528914, 2336874.7638922725, 2336875.7943963422, 2336883.7580044563, 2336878.908616785, 2336689.4311413714, 2336640.652770461, 2336638.6044866177, 2337008.283452786, 2336983.7545662015, 2336962.8225908075, 2336983.0240090084, 2336966.09292259, 2336952.5534734665, 2336954.8005539514, 2336967.781738244, 2336971.3066839105, 2336952.2463740255, 2336972.192431671, 2337013.216870566, 2337007.367828173, 2337008.4154952797, 2337008.779271826, 2337005.0664357906, 2337006.8853059043, 2336983.3760134485, 2336979.3329643896, 2336996.7612549206, 2336990.2630565464, 2336998.9340099096, 2336974.67166081, 2336974.5958132176, 2336974.8537852326, 2336973.4414285095, 2336962.887486072, 2336962.887486072, 2336962.026282347, 2336979.9333509756, 2336975.5639308323, 2336976.136056097, 2336966.8377506514, 2336989.538637855, 2336990.1710685464, 2336791.1139057353, 2336971.4896083903, 2336971.4899328873, 2336972.0651433333, 2336970.369811818, 2336969.3272562334, 2336958.2196750324, 2336955.4543234874, 2336999.910635116, 2336956.6192737143, 2336961.8921589344, 2336963.649001914, 2336888.33471455, 2336982.368366449, 2337013.1883563357, 2336994.2840579436, 2336991.301519445, 2336981.30354473, 2336961.4436229556, 2336952.3917441773, 2336998.466394094, 2336999.906803751, 2337005.438514856, 2337004.440420323, 2337007.4864828815, 2337009.684349444, 2337009.2168225115, 2337009.1652792827, 2336979.5985041154, 2336983.161778542, 2336983.6394593962, 2336964.9638871364, 2336963.7586729075, 2336962.343033591, 2336962.06320978, 2336958.5251715695, 2336957.5116577293, 2336952.4353899513, 2336952.23156191, 2336960.3478339557, 2336959.1581905177, 2336962.831583213, 2336958.5262049465, 2336955.80238345, 2337002.252128603, 2336959.7695311387, 2336958.4134188043, 2336888.33471455, 2336875.9569142535, 2336870.6226589927, 2336989.597622436, 2336997.339070505, 2337003.7758000945, 2337010.2492888337, 2337014.1363125267, 2337014.723161141, 2337013.925967621, 2337007.540100982, 2337005.0491487873, 2336996.9548890004, 2336992.6944734743, 2336984.463081599, 2336984.2726240135, 2336982.563554508, 2336981.790108502, 2336973.410235385, 2336966.5008944366, 2336966.1320328936, 2336953.070060306, 2336959.5452546175, 2336957.388089558, 2336961.4061020105, 2336961.476993098, 2336961.900977404, 2336972.4166466775, 2336975.866847518, 2336793.1978423703, 2336792.2441748194, 2336983.254516295, 2336984.9578732075, 2336972.586100551, 2336976.163495998, 2336973.3918987634, 2336968.670797811, 2336989.559028201, 2336991.040304921, 2336988.934286779, 2336984.0200139927, 2337000.309839243, 2336999.6605183342, 2337003.806799555, 2337007.1226246925, 2337010.561458061, 2337008.6276752073, 2336960.1395810414, 2337011.9847030477, 2336958.231052109, 2337009.118329378, 2336957.4696265846, 2337011.9332068483, 2336976.6040351186, 2337010.8717215396, 2337014.2551915552, 2336984.414997556, 2336981.162408505, 2336980.2951505226, 2336983.6226584143, 2336979.667957238, 2336981.9937380967, 2336986.835368128, 2336979.4424377894, 2336992.0484406496, 2337005.3949845564, 2337009.8581196275, 2337013.7650442044, 2337014.317043385, 2337007.8937258944, 2336972.4740909706, 2336974.334275267, 2336972.8156231544, 2336964.8348875674, 2336952.645552496, 2336954.8127239924, 2336954.1731107906, 2336983.0409539724, 2336984.121800146, 2336984.0942495093, 2336977.7220321777, 2336984.031452625, 2337000.7155593312, 2337009.5900249863, 2337007.366444874, 2336980.14475852, 2336969.9497627085, 2337012.007670317, 2336965.5172793344, 2336964.2477050596, 2336964.310116455, 2336959.6846615532, 2336978.8836887176, 2336961.917835653, 2336957.0131033924, 2336952.1828451715, 2336966.988576352, 2336960.6674617, 2336954.908861006, 2336953.3290634733, 2336976.0057142493, 2336821.954239466, 2336822.0191616, 2336822.029116827, 2336822.028318411, 2336814.9188225777, 2336817.5878072195, 2336819.7736515384, 2336820.840714243, 2336816.4234117838, 2336826.7610774687, 2336829.9542591963, 2336831.076993494, 2336975.5397402, 2336975.2292361935, 2336983.2452593464, 2336982.677577926, 2336991.4941652925, 2336990.868954489, 2336992.0684871646, 2336955.9035687195, 2336956.9158581435, 2336957.8094706708, 2336975.710269812, 2336977.048233453, 2336976.058354166, 2336975.694148862, 2336974.870904169, 2336984.0159578836, 2336994.1281213416, 2336999.3526800866, 2337008.075704826, 2337010.3461082717, 2337008.0172746647, 2337007.001782942, 2337007.7838927847, 2337011.437845997, 2336982.799817377, 2336983.4550332823, 2336983.949918881, 2336988.0852176207, 2336981.2405317067, 2336989.3433760805, 2336981.040303989, 2337002.589946924, 2337000.8713178155, 2337004.4322027154, 2337009.4495892804, 2337007.113310675, 2337008.0263136667, 2337010.4513712865, 2336981.7962633297, 2336984.367486371, 2336984.062303751, 2336983.2625643564, 2336983.196483589, 2336983.96173606, 2336995.1197904497, 2336974.657643882, 2336983.4651611517, 2336983.2357601803, 2336981.352149055, 2336956.878027073, 2336875.1484786817, 2336873.595039744, 2336875.026982845, 2336873.803439766, 2336866.6430026744, 2336866.643002675, 2336887.6865380723, 2336877.9125859053, 2336880.695100513, 2336879.631419994, 2336879.0153383706, 2336870.3752245535, 2336760.6835409175, 2336765.6074421066, 2336761.612671611, 2336768.543297405, 2336960.646432023, 2336960.708130335, 2336961.737594421, 2336962.3177285334, 2336959.167903187, 2336958.424697846, 2336958.4263171023, 2336952.778776328, 2336963.5277870046, 2336964.1948762774, 2336964.598780271, 2336971.14722128, 2336971.348051488, 2336975.390730747, 2336972.208533137, 2336979.1632142654, 2336982.0201525497, 2336989.4892128166, 2336988.2225895273, 2336999.2352424217, 2336997.300381318, 2336642.7030318775, 2336619.883791242, 2336622.058243873, 2336624.8120445553, 2336621.815174027, 2336656.1094700433, 2336692.1025453466, 2336705.127299683, 2336706.463444358, 2336707.7612112258, 2336769.646690655, 2336763.530318336, 2336794.572927257, 2336872.2356458935, 2337003.9087954406, 2337002.443207274, 2337011.4389831875, 2337006.8125401866, 2336956.5110256523, 2336961.2122638267, 2336964.1581710153, 2336961.1346955546, 2336972.8564069914, 2336983.47328522, 2337008.660815548, 2337007.823363285, 2336874.3110931613, 2336876.539647111, 2336873.4730881024, 2336880.337097107, 2336877.2607988794, 2336877.245954047, 2336879.216204217, 2336883.3848845856, 2336973.2369494126, 2336974.407824944, 2336977.2537696147, 2336974.6442524153, 2336966.964625353, 2336970.5373625294, 2336973.541441803, 2336877.7160871723, 2336973.830329403, 2336976.1761931763, 2336975.024100213, 2336977.110550423, 2336974.8869552524, 2336982.8938884363, 2336983.172165631, 2336982.674708782, 2336983.2717584786, 2336982.8992818813, 2336982.600848006, 2336965.977723421, 2336984.0587774124, 2336983.962040725, 2336984.3381808246, 2336982.5896212766, 2336983.166279615, 2336964.4850129774, 2336977.096887729, 2336986.7714247582, 2336963.2383857435, 2336993.0840018583, 2337003.440445244, 2336961.6243188465, 2336985.0467316667, 2336962.5144602093, 2336992.747643427, 2336952.395832896, 2336999.8441551467, 2337011.3058557995, 2336982.294550242, 2336876.31865503, 2336961.234819771, 2337009.438523399, 2337006.1123126335, 2337006.264542236, 2336952.435638968, 2336878.071021709, 2337011.444808106, 2336958.558196617, 2337010.464228913, 2336983.4062433112, 2337003.655761234, 2336956.041152361, 2336970.13770648, 2337005.3068042416, 2336959.621751239, 2336957.1697043655, 2337010.611280818, 2337008.5021655937, 2336974.795300534, 2337008.5320296125, 2336819.1046707006, 2337007.9301644457, 2336966.4921960947, 2336961.0508387852, 2336963.265962706, 2337007.046265985, 2336979.068830988, 2337006.7108494705, 2336965.147300868, 2336962.7278223946, 2336880.9623243604, 2337003.068673585, 2336977.7005576226, 2336882.6989729167, 2336873.321199623, 2336966.308572427, 2336989.2476396738, 2336995.3776223697, 2336987.089021046, 2336995.5770452213, 2336880.5431879717, 2336969.672112103, 2336958.689697537, 2336956.8016041596, 2336985.533805061, 2336876.0752723506, 2337003.6023662174, 2336871.735410199, 2336955.8177677603, 2336974.9459610395, 2336976.425061566, 2336873.235988151, 2336766.364833171, 2336877.637075786, 2336984.2153368285, 2336999.1066489653, 2337007.5363842337, 2337008.492249583, 2336965.006894183, 2336983.238141148, 2336990.9720945344, 2336991.5934712947, 2337004.835670792, 2336954.9356119223, 2336964.020410223, 2336985.1053749165, 2336962.9674165156, 2336963.2405866357, 2336979.6201837137, 2337007.1938749305, 2336989.7798919375, 2336960.649216281, 2337009.770907167, 2336761.002211573, 2337004.83662241, 2337000.809578607, 2336963.8370074905, 2336976.9047824345, 2336962.6360743814, 2336865.71311777, 2337006.7119966885, 2336956.2585965656, 2336984.4839955242, 2336959.0840310864, 2336984.780076796, 2336999.404476525, 2336952.4761045524, 2336999.081905022, 2336974.7980655394, 2336983.848046978, 2337001.3187084887, 2336958.51825691, 2336810.631724756, 2337005.0175793553, 2336958.0841858983, 2336963.6290453183, 2336958.4441139745, 2337006.9318992323, 2336956.276101156, 2337009.0527268723, 2336977.062445022, 2336960.5404647067, 2336970.2922791126, 2337009.02018581, 2336963.6806357084, 2337010.7183649633, 2336964.509337976, 2337009.3871265682, 2336818.35245907, 2336815.1830866844, 2336961.791105925, 2337010.2670848444, 2336958.7782530435, 2337010.3977292688, 2337010.7936350787, 2336958.6844983795, 2337010.186075611, 2336962.968470774, 2336983.3160479623, 2336962.261628332, 2336819.3018552507, 2337013.7771221586, 2336827.2353160675, 2337013.8516628663, 2336964.199121321, 2336983.15457517, 2336821.9151819968, 2336958.94910869, 2336983.0834739096, 2336967.2101521296, 2336994.7165579787, 2336970.4791770987, 2336982.5087932516, 2336960.704524138, 2336826.619496092, 2336821.934199751, 2336965.7673609755, 2336763.882461629, 2336975.1368251313, 2337004.1020264537, 2336991.3648598115, 2336973.9066339806, 2336983.935594818, 2336818.735505977, 2336983.9554634145, 2336763.2284772657, 2337001.9127321527, 2336987.31321052, 2336967.9710228574, 2336975.6331155305, 2336983.196198269, 2336822.0293184207, 2336960.7384764524, 2337008.785512292, 2336758.4174935347, 2336998.5005594664, 2336758.356374613, 2336821.4843763635, 2336957.145196389, 2337002.585817354, 2336995.5379474284, 2336821.8902393985, 2337009.7692752746, 2336955.447825504, 2336761.038604816, 2337004.892450748, 2336995.653441859, 2336988.0597823868, 2336999.7104617176, 2337006.7759438865, 2336815.34718639, 2337009.2495223205, 2337008.9082684154, 2337006.8020753004, 2336878.41416275, 2337014.300453526, 2337008.6516903783, 2336983.9554634145, 2337010.668384782, 2336981.465065404, 2336817.4438442816, 2336965.689669458, 2336754.1720799757, 2337006.8767382437, 2336879.4088917403, 2337010.6069113, 2336977.0103559187, 2336960.380271946, 2337013.0666167084, 2337005.6437609117, 2337003.382286925, 2336964.787028257, 2337005.208482301, 2336987.6600552895, 2336795.678166344, 2337009.400967551, 2336774.617469934, 2336954.0152826947, 2336983.592643526, 2337008.6354558184, 2336978.9750872077, 2337006.1146774143, 2336957.986191896, 2336848.572605022, 2336984.9170973115, 2337009.993367197, 2337008.275452028, 2336875.4331944436, 2336984.730499286, 2336978.9750872077, 2336958.142738735, 2336766.1293648235, 2337010.19082207, 2336752.7609315803, 2336983.21817467, 2337005.919022836, 2336975.5632799203, 2336994.8858444146, 2336755.311913278, 2336981.779431245, 2336956.750885888, 2336957.1265354315, 2336989.994121133, 2337004.8883570554, 2336990.66582741, 2336759.782197599, 2336771.5876370003, 2336999.6268772944, 2337004.9445722746, 2336962.810355473, 2336955.93234649, 2336982.4737507273, 2336952.8092354345, 2336885.9186486173, 2336958.708728746, 2336848.062719326, 2336984.759616182, 2336959.6435200837, 2336954.4896861576, 2336963.023771358, 2336985.2669863086, 2336887.7494002245, 2337004.674516959, 2336984.2286388692, 2337002.7632127805, 2336988.226755803, 2336760.6568196923, 2336979.6537642265, 2336875.6740909177, 2336991.5845569414, 2337009.576031784, 2337003.1217380925, 2336975.6944347876, 2336760.319001479, 2336981.890017749, 2336762.0221650135, 2336999.410513375, 2336877.253764041, 2336974.1689272155, 2337010.6915917187, 2337007.493298716, 2336876.875997689, 2337007.4308366864, 2336763.98072784, 2336981.3714310885, 2336875.9758634064, 2336876.825311766, 2337011.284539532, 2337010.669756659, 2336764.9977944535, 2336774.6174699343, 2337010.300909393, 2336886.4485876514, 2336763.01676708, 2336765.914114742, 2336880.514168647, 2337006.8420008263, 2336762.756406791, 2336878.9431708464, 2336982.6133834347, 2336884.4455963275, 2336964.4134344053, 2336821.6866410812, 2336976.1214801096, 2336873.738944977, 2336822.0287078563, 2336820.95201028, 2336875.616059502, 2336963.4284580196, 2336874.834464242, 2336954.207471213, 2336954.0861217533, 2336821.1044247053, 2336958.7853159164, 2336762.967032509, 2336820.525675117, 2336876.2839919305, 2336820.5590517838, 2336821.9892767784, 2336881.608199572, 2336821.3499440732, 2336760.663094467, 2336821.4073280767, 2336821.8816402378, 2336881.0542489304, 2336874.148063667, 2336770.615370479, 2336822.028883968, 2336878.3364931657, 2336875.3132260167, 2336704.530124643, 2336876.166529091, 2336874.705548242, 2336879.3451392394, 2336872.1149787367, 2336875.9102627123, 2336759.269323282, 2336878.4661426037, 2336819.1643511113, 2336671.2578233974, 2336821.988942168, 2336768.085105609, 2336866.3650831887, 2336820.5295380894, 2336820.795459666, 2336820.536507977, 2336870.823056454, 2336876.1881635627, 2336879.115830776, 2336761.0035390495, 2336818.304101242, 2336820.729652565, 2336885.3099746415, 2336878.2579881027, 2336820.877062152, 2336752.541749235, 2336818.304101242, 2336878.3400309603, 2336829.4797491063, 2336820.8941378575, 2336707.2829014673, 2336752.053119902, 2336821.4993688334, 2336702.7840869273, 2336669.3923061457, 2336755.3097831397, 2336691.0419685924, 2336763.1353722205, 2336755.490290416, 2336817.456997936, 2336874.2232679254, 2336816.3418115224, 2336956.7890879605, 2336772.7302092053, 2336956.509573808, 2336758.5568545824, 2336821.915176071, 2336762.576995157, 2336760.7231165282, 2336819.3137468067, 2336843.392130242, 2336821.884515363, 2336762.8477274133, 2336828.817086293, 2336766.950922028, 2336876.959513235, 2336830.2475402793, 2336821.5581714157, 2336703.9835388996, 2336822.0168309384, 2336688.6695303735, 2336820.8890706515, 2336820.9684586255, 2336819.634059115, 2336822.021045051, 2336678.0190449827, 2336684.093370119, 2336667.862771822, 2336820.215637871, 2336765.9117354783, 2336821.4730414753, 2336650.425287265, 2336771.5876370003, 2336654.0025303084, 2336834.529074887, 2336762.3552692104, 2336821.9154719575, 2336818.408386152, 2336763.4339279984, 2336760.8535873503, 2336819.2708531935, 2336826.4306956325, 2336622.116579267, 2336822.030387175, 2336756.2977111014, 2336764.6287319954, 2336822.8538511517, 2336816.3835430774, 2336821.538885854, 2336631.6469108933, 2336762.112076694, 2336762.618920566, 2336621.025191734, 2336756.8561572507, 2336760.359743652, 2336821.9604076524, 2336821.9794131676, 2336630.10644599, 2336676.2189517925, 2336621.07402535, 2336820.546815084, 2336695.0772768296, 2336815.040466757, 2336772.9018246876, 2336818.163159195, 2336819.2724122507, 2336761.8366971016, 2336626.1536606266, 2336704.523290151, 2336705.8206958445, 2336817.4524205513, 2336762.1421633526, 2336698.796037965, 2336704.293699136, 2336761.096717434, 2336820.825036031, 2336703.7436707397, 2336762.8446637336, 2336696.538142735, 2336763.8731745463, 2336698.944874307, 2336697.7362290737, 2336756.426736156, 2336822.0375213907, 2336697.67461649, 2336696.121286993, 2336624.971344668, 2336689.0144602465, 2336764.9504410876, 2336677.027546702, 2336677.8554106127, 2336680.4206374846, 2336624.926962618, 2336755.531310523, 2336823.5203371723, 2336753.7111293613, 2336674.079847563, 2336649.9567116317, 2336624.269126658, 2336766.6275046985, 2336820.466284762, 2336628.123359376, 2336667.48558965, 2336760.2945870305, 2336755.844469904, 2336816.4104690007, 2336707.2844803175, 2336670.1686557373, 2336663.8019090653, 2336630.5131992726, 2336658.2974755797, 2336815.0768878325, 2336661.100946548, 2336704.2484607017, 2336658.40419403, 2336655.0320842704, 2336702.674509413, 2336627.9559412664, 2336649.160265011, 2336646.124850919, 2336827.8525834116, 2336633.074771505, 2336701.1226158002, 2336760.5246987287, 2336693.5520360866, 2336697.979511892, 2336649.2598578543, 2336697.9773342884, 2336625.1832624367, 2336669.4705162197, 2336701.5285620075, 2336625.3419961836, 2336689.3071435136, 2336620.3158583976, 2336654.2559766406, 2336707.3767714617, 2336687.7961908286, 2336699.420341204, 2336625.389955623, 2336622.371397444, 2336661.881505547, 2336661.498380311, 2336621.294000564, 2336707.3109412007, 2336633.9966748473, 2336637.7815079032, 2336622.3804139625, 2336704.649119881, 2336629.5018110718, 2336631.381439787, 2336703.035169537, 2336633.460758052, 2336708.416015663, 2336754.259712528, 2336623.3465318456, 2336625.0600842, 2336645.941379942, 2336707.155451457, 2336622.8091198946, 2336765.8644362604, 2336751.4259694037, 2336705.775394085, 2336672.6464438685, 2336705.4814750426, 2336702.409019004, 2336759.023446446, 2336754.750968424, 2336623.5477746953, 2336625.237603069, 2336628.960293712, 2336755.8443384315, 2336705.5993819144, 2336622.2102983743, 2336625.374327852, 2336689.2271714867, 2336764.934477911, 2336761.387260617, 2336633.669339974, 2336689.838479243, 2336627.6645089374, 2336625.408683542, 2336623.1182222636, 2336697.5404484463, 2336689.838479243, 2336635.046690835, 2336624.9393291394, 2336634.833530915, 2336619.4472265267, 2336637.9493801193, 2336687.445202919, 2336682.622998951, 2336879.6092535276, 2336625.2359787175, 2336643.288804714, 2336626.667873129, 2336696.4857708616, 2336624.5822249586, 2336690.9833971052, 2336649.551359181, 2336701.70426272, 2336637.878093279, 2336663.8754848023, 2336621.71068915, 2336623.6212781183, 2336693.645361326, 2336707.043389021, 2336874.6171471104, 2336625.7268836135, 2336693.307402876, 2336703.8890850027, 2336641.1017584223, 2336882.6142132063, 2336681.666471137, 2336876.2379347123, 2336697.008581218, 2336624.206518287, 2336622.272537789, 2336652.4771515448, 2336625.1791706146, 2336704.302523276, 2336629.5037075737, 2336703.5678285137, 2336621.4036054076, 2336681.9255585163, 2336704.2509938236, 2336644.651899786, 2336877.8146820464, 2336644.2870009257, 2336678.239184267, 2336703.929165918, 2336871.967844672, 2336696.395364977, 2336621.4036054076, 2336626.8349318057, 2336682.5810051747, 2336696.4382026033, 2336703.129060664, 2336621.4036054076, 2336684.000317533, 2336704.786543758, 2336624.356884587, 2336623.820220991, 2336704.790491459, 2336675.4312374475, 2336704.774014679, 2336625.3820958086, 2336624.343082588, 2336704.108324754, 2336667.1895409166, 2336690.638038723, 2336638.9014049172, 2336653.6000848687, 2336690.747226388, 2336626.2068093847, 2336623.862562644, 2336641.165554228, 2336881.070410467, 2336696.5589339705, 2336626.5404875996, 2336653.326923521, 2336633.363548383, 2336636.6889202846, 2336625.8420845014, 2336652.0976990503, 2336633.4002269013, 2336655.4093265976, 2336671.1790167456, 2336625.750262486, 2336708.1239361446, 2336880.237229084, 2336677.0712198294, 2336663.8502931637, 2336624.5825096588, 2336621.3992468542, 2336672.1356405113, 2336621.95085701, 2336677.3741448214, 2336701.5468287147, 2336624.933133752, 2336620.7949810983, 2336698.5535665387, 2336620.1865965207, 2336624.4008558486, 2336619.906647444, 2336622.3175027133, 2336621.0458884058, 2336626.0083733597, 2337010.759239355, 2337011.919266478, 2337007.941542602, 2336997.044304488, 2336977.206943051, 2336957.862932901, 2336956.50218531, 2336880.5198318483, 2336878.2718571313, 2336851.5777972154, 2336820.177137355, 2336806.145995948, 2336757.487415617, 2336757.4674154976, 2336758.1583046936, 2336754.4725972028, 2336756.5904499954, 2336761.0125451707, 2336761.450571823, 2336769.8908518925, 2336762.248213334, 2336761.512724245, 2336762.8568175836, 2336754.4082731702, 2336760.636706652, 2336760.4493089137, 2336761.0420729183, 2336759.251335447, 2336879.4711385835, 2336878.2876941683, 2336873.8590014502, 2336880.6764248232, 2336864.4954458545, 2336878.909031495, 2336877.2092475668, 2336706.7187190233, 2336674.4151593368, 2336649.57581302, 2336630.0225060806, 2336632.1522261924, 2336630.5568588767, 2336625.324903331, 2336627.3209980014, 2336635.834795173, 2336626.386672059, 2336626.9765927773, 2336634.0575050195, 2336660.670468859, 2336662.2686524657, 2336654.0039455304, 2336684.5518261716, 2336690.675268012, 2336698.9314253777, 2336703.8924698494, 2336704.7880452326, 2336704.967211328, 2336705.425661366, 2336704.153737078, 2336702.3763066353, 2336684.3192858337, 2336684.7826084485, 2336641.170379003, 2336627.742793869, 2336621.834767416, 2336624.096551384, 2336962.1179413823, 2336961.668767667, 2336962.0459060944], \"xaxis\": \"x\", \"y\": [1.2317822671748663e-05, 1.3576186664923731e-06, 1.2619435173119384e-06, 1.0879973790752392e-07, 1.6217788634082618e-06, 5.760382558877178e-06, 5.1350006135717205e-06, 1.3921174889312296e-06, 3.42159794317922e-07, 3.0769731741029474e-06, 3.3437464640248353e-06, 1.2236149583956746e-06, 8.346371466301735e-07, 1.4361400350354125e-06, 4.762567313887196e-07, 1.3119926061832076e-05, 2.341085385545952e-07, 3.282336654520306e-07, 3.2167930695808905e-07, 4.886185277120417e-06, 2.3765116965704366e-06, 2.951314688339811e-07, 1.406075139876586e-07, 5.916809109534966e-07, 4.42165483008377e-06, 3.8582038352918024e-07, 5.496586840736158e-07, 7.208009083262686e-07, 9.67043430971656e-07, 4.252013738810145e-06, 1.4513915184044626e-06, 2.732078457484343e-06, 2.1007359856998305e-06, 1.2711494363796024e-06, 3.568071450245087e-07, 2.8282901836078835e-06, 7.135984836641351e-07, 9.725129519965602e-07, 1.755203495664813e-07, 3.7851463742514357e-06, 8.921294388800061e-07, 1.1657117385289872e-06, 2.0408847050511846e-06, 1.2832219550858861e-06, 1.8911006391824476e-06, 2.695769005716489e-06, 1.2829915471374342e-06, 1.805858280949942e-07, 6.462817394240943e-06, 8.173098773062068e-07, 5.610231150348285e-07, 3.0823400139058125e-07, 7.128140072864715e-08, 5.818863559766789e-07, 3.483132164835417e-07, 1.481532734088972e-06, 7.093008759500461e-07, 1.2950268468226603e-06, 1.4082382095643841e-06, 1.9027773001269814e-07, 8.163785311113321e-07, 7.693775814671883e-07, 1.4931351191203767e-06, 1.149506535974033e-06, 4.4417690584297385e-07, 2.3548683473128394e-07, 1.1783160547420388e-06, 3.1392903875575277e-07, 4.43879443802785e-06, 8.054550925951418e-07, 1.1057074543008633e-06, 8.504856469329245e-08, 5.599991446248412e-08, 5.390081124825082e-07, 3.7081724052777874e-08, 1.880848630488092e-06, 2.0857183088629797e-06, 4.51541001020795e-07, 2.2772134446473018e-06, 8.324947114658878e-07, 8.079320741111774e-07, 1.3473094068668379e-06, 1.2463609202666726e-06, 1.182883884445019e-06, 9.219449770561318e-07, 7.759200939063128e-06, 1.4211138970473599e-06, 6.965200974351543e-07, 1.0457838353326848e-06, 8.975920994765081e-07, 8.241415202007469e-07, 1.4877029996468915e-06, 9.652084723867048e-07, 2.5063976287358956e-08, 3.5770406447478495e-07, 2.600361265703248e-06, 1.3830440273088893e-06, 1.8797248308909002e-06, 2.1018660989514685e-06, 2.0331517644874873e-07, 5.457230481984358e-07, 1.3676180106349134e-06, 1.3510743309672808e-06, 1.970649491576878e-06, 9.152760216978132e-07, 1.6823999194221486e-07, 6.397968824065473e-08, 7.554922401572569e-07, 5.143466909752464e-07, 1.0808569582066716e-06, 3.898948751208003e-07, 6.719529937613643e-07, 4.992426548584601e-07, 4.927123074647369e-07, 4.31334367456233e-07, 4.668623513766473e-08, 4.122964768050352e-06, 4.6544903882315083e-07, 1.4031130740275953e-07, 5.598267263098669e-07, 5.588161756664784e-07, 7.395615310932433e-07, 2.92522528471806e-07, 2.9246530613267923e-07, 1.4448167341821255e-06, 8.720653522147657e-08, 2.064922368856507e-07, 9.24527751523613e-07, 1.4034005917949937e-06, 1.2952721498196073e-06, 4.861455626058377e-07, 1.2042975092207239e-06, 1.128759036220303e-06, 4.040970104983845e-06, 5.110846889034712e-07, 1.1293619135607696e-06, 5.308524582268988e-07, 1.4904965846648225e-07, 9.998625894265197e-07, 4.77034294622864e-07, 1.3183238292046342e-07, 2.5596394939838585e-07, 1.0720903622317578e-06, 1.4510026375740728e-07, 9.309246472870008e-07, 8.525382061492979e-08, 2.08008821713514e-06, 9.526974448539762e-07, 5.07827837555751e-07, 1.905721790559093e-07, 1.971728813770428e-07, 1.7631229429379008e-06, 8.818313537573037e-07, 1.0903502245972853e-06, 2.745656102630263e-06, 6.211938794427569e-07, 7.628993510620239e-08, 2.422344464716223e-06, 2.296728439581757e-06, 2.1025303729755066e-07, 5.963134681063797e-07, 7.83731227322128e-06, 8.263685497442383e-06, 8.963737783817482e-07, 1.292633846796695e-07, 2.4066735630468122e-06, 5.240891726945723e-07, 2.279982703022723e-06, 4.232371790460315e-06, 1.458476523362906e-06, 1.0931437121859516e-06, 1.5080308742092798e-06, 3.64189879255064e-06, 7.403373336339865e-07, 8.196075526182113e-08, 1.3578504313988566e-07, 9.165001097854188e-07, 1.0741470064532243e-06, 1.3082256768090607e-07, 1.3145217537637977e-06, 7.544500687463081e-07, 3.019467602543372e-07, 2.727198254454415e-07, 1.5590164155028777e-06, 7.433540801737636e-07, 7.54099133953869e-07, 1.516184666715799e-06, 1.751974846674396e-09, 1.435159316724078e-06, 2.0705164212041623e-07, 8.694318403909827e-07, 5.9246263785837e-07, 3.37687699904272e-06, 3.009890736335441e-06, 6.156134388513218e-06, 4.448548371439728e-06, 2.151801835922843e-06, 8.437792350115793e-07, 4.2941668977936433e-07, 4.344755228053565e-08, 2.98617739497208e-07, 4.121504218029101e-07, 1.1150316016652183e-06, 2.3359302125245226e-07, 6.588553915731808e-07, 1.3962219817474306e-06, 4.666046259178307e-06, 1.0709840555688234e-06, 6.122486074283813e-07, 1.0571860722854938e-06, 1.923215162338355e-07, 5.371637973513974e-07, 6.021703624490147e-06, 3.5329420011368978e-06, 1.0773369708185105e-06, 2.2509058499500765e-06, 9.316853444766939e-07, 2.409366519535498e-06, 7.178510587020963e-07, 7.555539385995906e-07, 5.835986284992835e-07, 5.234408173020468e-07, 3.813059925773487e-07, 1.054969881068417e-06, 1.9130799032291593e-06, 2.0447343331281222e-06, 5.262265846669468e-07, 2.591132247525291e-07, 7.428840944702545e-07, 1.0090226648897728e-06, 1.133346057501356e-06, 4.358991816755579e-07, 6.382747298148146e-07, 1.1226421008773656e-07, 2.40707338454818e-06, 2.386020095769891e-07, 2.0532337672963255e-07, 4.124902491937209e-06, 3.410487691378352e-06, 2.7702822466917804e-06, 9.766492735949121e-07, 0.0, 1.6142741918262224e-06, 6.4568280212378e-07, 9.46143964034571e-08, 1.1839391290285276e-06, 7.957935286841868e-08, 2.4759669798217457e-07, 6.90796193239318e-07, 1.1902263887535203e-07, 4.918710364082707e-07, 2.786131253121309e-06, 1.1932495270218196e-06, 6.585463665304586e-08, 4.939223522804255e-07, 1.2879449798489578e-06, 1.2814047055732462e-06, 5.926468071671354e-07, 1.8025313154422882e-08, 1.2876627404848225e-06, 4.032783354554154e-06, 2.818427003016089e-07, 8.406292698616925e-07, 2.2133180377902544e-06, 2.2166866701384675e-06, 9.430253838109267e-07, 5.084985560270832e-07, 1.1049503123134543e-06, 6.28676984917386e-07, 1.246518458831374e-07, 7.384730210558455e-07, 5.988098308366428e-07, 6.146521447307503e-07, 4.782876252077346e-06, 1.8103128550525338e-06, 5.080420530601038e-06, 1.630667011333399e-06, 5.37875748134518e-07, 2.663221214796487e-07, 2.5665595120846264e-06, 2.8246575060009024e-07, 5.668417073105911e-07, 4.3287177476557395e-08, 3.1427861424894103e-06, 4.201319926318215e-07, 5.507201542157154e-07, 6.561151132309285e-07, 6.278389967193308e-07, 2.2876647896565947e-07, 1.5180941553605855e-06, 5.994762725627476e-07, 5.016277283781863e-07, 5.825114265948575e-07, 1.1005240754348731e-06, 2.7195310651034443e-07, 3.2311284280449e-06, 2.429617859795996e-06, 5.6418224484597893e-08, 5.675563848005478e-07, 1.3948716418690563e-15, 1.195604264459191e-15, 2.1919214132081017e-15, 2.6118864494054728e-06, 3.757041629630597e-06, 1.8558804166145467e-07, 1.5783866628079164e-06, 2.292515249020408e-06, 3.517891169799023e-07, 4.11048488229644e-06, 2.585738061021839e-06, 3.09356621829121e-06, 2.404905674714562e-06, 3.0386312285791408e-06, 2.242275547292034e-06, 2.6514674734987783e-07, 3.3249736581359697e-07, 1.033720358256463e-06, 2.621136734039819e-07, 7.836256125911067e-08, 1.2907122607219257e-07, 1.2968007299114784e-06, 1.084852932590593e-06, 1.126903634239088e-06, 1.1714837149421614e-06, 3.8794121240168216e-07, 2.4169083942235383e-07, 1.8977764639753713e-06, 1.9335977164041133e-06, 1.1184902195478319e-06, 1.79789287806723e-06, 2.805181325096328e-07, 8.370629570207288e-07, 1.0526002580879872e-05, 2.3212899130957014e-06, 1.4321624463077954e-06, 3.213320541706692e-06, 8.374632682797125e-06, 2.643422591720101e-07, 1.6596349060472887e-06, 2.91777077290459e-08, 1.2502726586202835e-06, 2.015735914748348e-06, 4.559146178911083e-06, 3.3016172807985664e-06, 1.8697557952540617e-07, 1.2514265128733014e-06, 2.0601162212418375e-06, 1.5153941111908398e-06, 5.729049235071662e-09, 1.0854333997125673e-06, 3.2696358335608544e-07, 8.045038336309215e-07, 4.382854624770937e-07, 8.824570995232941e-07, 7.872394145923045e-07, 3.5158088015414924e-07, 1.9824564528366814e-06, 9.65961571981948e-07, 7.31369976223011e-06, 6.605591091704319e-06, 8.385414234526734e-06, 1.749886977478206e-06, 1.7919831260316766e-06, 1.3105364789739547e-06, 4.889377601994548e-07, 3.5533304820096845e-07, 2.346285981244825e-06, 1.845264931894033e-06, 6.27476919563378e-07, 2.087738976839453e-06, 1.553166471115035e-06, 1.1727618550544654e-07, 2.2159928013266884e-06, 1.4205332817849047e-06, 2.0923769554259682e-06, 1.0885750158344697e-06, 1.5815589493708457e-06, 6.4318561991546e-07, 1.8104911472007147e-06, 4.983578150764238e-07, 4.2022424286169485e-07, 1.1889430176970277e-07, 5.170966667350062e-07, 3.6455590724075475e-08, 2.7838818605180933e-07, 3.5931608017544867e-06, 2.017964773621939e-07, 2.2506075422657103e-07, 4.4557572390723454e-07, 3.556219530469146e-06, 9.598597900682342e-08, 1.8739778001268734e-06, 5.105258025807436e-06, 3.745531240240567e-06, 2.420985213321491e-08, 3.5876809948282965e-07, 1.474295054335249e-06, 8.185810209372846e-07, 2.9770451495600885e-06, 2.2222986171684874e-06, 2.178345450374119e-06, 1.8202427385598113e-06, 1.6025019198916653e-07, 1.1871548084035818e-06, 1.0088325850676643e-07, 1.8490739558261515e-06, 4.281200683398378e-06, 1.7007335468426216e-06, 3.831807464988272e-06, 1.3166924532291026e-06, 6.313330142326975e-07, 2.247233640561158e-06, 2.2567679804938406e-06, 2.999557975675103e-06, 7.43860679967672e-07, 2.6767153890104277e-07, 7.473000148925449e-06, 1.4536552090472405e-06, 3.4748627516353845e-06, 9.650831325112309e-07, 2.530693220912235e-06, 1.9169542568998288e-07, 4.5761837405163625e-06, 5.291653466359735e-07, 1.2535008926751115e-06, 3.3450343971290386e-06, 5.82130628348688e-07, 2.4170799389198227e-06, 1.3265801503458121e-06, 1.0130514075894529e-06, 2.864464811726381e-06, 2.477855644987211e-06, 4.335771572112668e-06, 8.189025535004948e-07, 5.571440309378736e-07, 8.27581577390077e-07, 1.6660625555228733e-06, 1.5864875161358361e-06, 4.9418700626923945e-06, 3.266829660420277e-06, 1.7680825283829902e-06, 4.6821220410904134e-07, 2.6899705980673056e-06, 9.228058219432265e-07, 3.0634517685087305e-06, 1.6771585209489173e-06, 1.0334107738922644e-06, 1.564515503354571e-07, 3.61827115972749e-06, 9.645068894419248e-07, 8.687945973430342e-07, 2.9700149444375755e-06, 1.8327333090080764e-07, 2.25878153502618e-06, 2.066458534659166e-06, 1.700779567848945e-06, 6.511450072529871e-07, 1.5743558164509522e-06, 4.751760941174337e-06, 2.2147069116614556e-06, 5.546692044202729e-07, 4.5326542222678566e-07, 2.6851997321241416e-06, 1.1462661794674565e-06, 1.2173013340048863e-06, 9.879151360278781e-07, 1.0977736540308419e-05, 3.196954853364609e-06, 3.867360054152588e-06, 1.0534785315543146e-06, 2.2401892750280164e-06, 1.7610042812877777e-06, 5.318062934991622e-08, 3.928256493113853e-06, 5.903542396694436e-06, 1.1397634150431892e-06, 2.0601563725331267e-06, 1.0220621211160078e-06, 3.230687401782354e-06, 8.067553431136637e-07, 4.922587850526605e-07, 3.7584405516729293e-06, 5.820408929400767e-06, 2.3507798481024137e-06, 2.8621781235890354e-06, 2.7387243375725805e-06, 3.3525827029670736e-06, 1.528358883081211e-05, 6.905148723464992e-06, 6.091630958993893e-06, 1.5253804022175848e-08, 2.8137115541931308e-06, 1.6681514534352856e-07, 9.374596858880191e-07, 2.771444306641472e-07, 6.256034782080605e-07, 4.2023753853792725e-07, 4.930912853576678e-06, 1.5115461274263857e-05, 8.37762685330865e-07, 2.467571452155203e-06, 1.0352257477680609e-06, 3.943157457372902e-06, 8.593513642983456e-07, 1.8488587040378947e-06, 1.390256289472887e-06, 9.44546748848438e-07, 6.407550917038175e-06, 1.4480011712693616e-06, 2.7026219306924332e-06, 1.9786124568781947e-06, 8.02594550279397e-07, 1.3572099649547584e-06, 1.8687078981604407e-07, 3.5360640387612413e-06, 3.181700420770506e-06, 2.672068992604659e-06, 6.948044644115275e-07, 1.926106893577639e-06, 4.123197645318675e-08, 1.293377928069064e-06, 3.4791130271185697e-08, 1.2218924404216422e-06, 7.137715496328135e-06, 5.592519724275407e-07, 8.657004385801608e-07, 2.736568320444374e-07, 4.011450337912087e-07, 7.090834105411484e-06, 4.3146820422224645e-07, 3.349962268892864e-06, 6.099643454813041e-07, 9.054656605163792e-07, 2.2792098098737603e-06, 4.201157526593937e-07, 4.999027866079515e-07, 5.669227256432902e-07, 1.3739437241218547e-06, 3.7891658860034802e-06, 5.707350158258672e-07, 5.713374553915359e-06, 1.119366654343748e-06, 7.225499287677902e-07, 6.2679482773431e-07, 7.763832661598585e-07, 4.015372911219187e-06, 1.937317450179676e-06, 4.16582274583701e-07, 3.977374528459917e-07, 2.595349318988069e-07, 8.106126525467307e-07, 1.7208753028762258e-06, 7.608324216180858e-07, 2.4501112307004504e-06, 1.921071911396406e-07, 8.03654851164313e-06, 5.796472982088229e-07, 9.549582786888631e-07, 1.1745330709199039e-06, 1.8205392112988292e-06, 8.657699142887891e-07, 5.992222749630108e-07, 9.011975131101554e-07, 7.97206472550241e-07, 4.35140557597274e-07, 1.9526472164723383e-07, 5.384103506811726e-06, 4.283722353219985e-06, 1.8960928683795326e-08, 1.4067976985810715e-06, 7.361440220810058e-07, 1.3908637723207718e-06, 1.200840175578689e-06, 2.686466570918819e-06, 1.367701384795154e-06, 3.4617149492119096e-06, 2.690017871304803e-06, 8.293958004625019e-07, 2.8387240999240965e-07, 1.584319495744833e-06, 1.8196326958535354e-06, 1.1296194840951204e-07, 7.608898794524786e-07, 5.658314250757236e-07, 4.0341330905792257e-07, 1.2303954844015163e-06, 3.841326322719082e-06, 2.257735055281998e-06, 3.7650954829548616e-06, 4.239273428793483e-06, 3.5492960321571416e-06, 1.968930394403379e-06, 9.279652769185381e-07, 6.820417054545161e-07, 2.0410130099059785e-06, 9.508269011143823e-07, 1.4141361614473525e-06, 9.235871547807263e-07, 3.4080121302036885e-06, 5.23523265707098e-07, 8.898163539025219e-07, 1.8313739213425358e-06, 2.1524372911552114e-06, 1.341178048049712e-07, 5.902957492509432e-07, 2.4176688186389376e-06, 4.610725600847566e-07, 3.765036840763633e-06, 3.806189200657667e-06, 3.714925088618211e-05, 2.672157555291791e-07, 4.4778913327705304e-07, 3.035641966454591e-06, 3.754599936093071e-06, 1.7037826043855981e-07, 4.104463325515335e-06, 1.1148246700926976e-06, 1.1848325878432925e-07, 2.970928722200233e-06, 1.5370355256746118e-06, 4.069567693688762e-06, 2.3835311502737897e-06, 7.000897277226947e-06, 7.091714387109074e-07, 4.74383558683249e-06, 3.7729934878581218e-06, 2.6807275686423026e-06, 2.2935164291212053e-06, 1.259383009266366e-06, 3.1346866920771666e-06, 1.1589560611714905e-06, 6.046453742003347e-07, 4.517323104742473e-06, 1.7671593942711434e-06, 2.6586733380854986e-07, 6.572539116258111e-07, 1.5106121581533003e-06, 3.5167372128806166e-06, 1.8042395374930155e-06, 5.810845700525163e-06, 1.4049230392704097e-06, 3.7192154930422894e-05, 3.6443535626275134e-06, 2.8062468249140696e-06, 8.141275409552424e-07, 6.344416741543065e-07, 5.288782069452965e-07, 1.9277877288905657e-06, 2.620236662469532e-06, 1.2111895265553716e-06, 5.712276367991052e-07, 1.913846906150073e-06, 4.6849138181969153e-07, 7.487205647515801e-07, 7.336115400017373e-07, 7.674118402897389e-07, 1.3476477568878512e-07, 1.9038837795657192e-07, 7.439898846346788e-06, 4.695221807833242e-07, 4.835110124286791e-06, 3.5931060598357374e-08, 4.1618639546804155e-08, 2.488948856717512e-06, 2.1089773225027232e-08, 2.1400453359598205e-06, 1.8426906805384409e-06, 1.2479340037034676e-06, 1.0766177184291193e-06, 7.581809715712374e-07, 1.509901248217156e-06, 1.2988085680085393e-06, 7.410443329037708e-07, 1.083979324630749e-06, 1.6476482335199925e-06, 3.5317613773386685e-06, 2.471467142525149e-07, 8.396172455737054e-07, 3.294881280461018e-06, 2.3911260282190094e-07, 7.169940720172321e-07, 4.0500146985071685e-06, 1.2338263285048962e-06, 2.892347538043899e-07, 1.5733199099959487e-06, 2.34889602611031e-07, 1.5269003905861128e-06, 5.966839525819787e-06, 5.693372777446885e-07, 1.9987447742876905e-07, 1.0930076278664393e-06, 2.0754004215236394e-06, 1.628178859114469e-06, 3.020784751988762e-06, 4.0751629110427556e-07, 3.494778080611996e-06, 5.524038655378904e-07, 1.0842253422981639e-07, 3.7213164065020744e-06, 1.0099802786146047e-07, 4.708989473975396e-07, 1.386463795725334e-06, 8.176191627025261e-08, 1.6804665399903085e-06, 4.851432958892724e-07, 3.8247800975634255e-06, 1.5192871271981945e-06, 4.745706715213233e-07, 2.5990821751542235e-07, 4.850597587237191e-07, 4.883981597214502e-08, 2.427334531124964e-07, 4.193321353392105e-06, 2.341440495137788e-07, 1.8350367110958135e-06, 1.417013742044268e-06, 2.873269792259449e-07, 2.6371830133984668e-06, 1.4758529547396604e-06, 5.919920950406516e-06, 4.5342980273919345e-06, 1.054585889013786e-06, 1.3046734174283854e-06, 2.3467532091889003e-06, 9.57424421382498e-07, 5.870576805345214e-06, 2.052303715621294e-06, 2.9895665589402e-06, 4.92627524111788e-06, 9.559524514658298e-07, 4.4961760992643895e-06, 3.47797291546584e-06, 5.556224273222706e-06, 1.4858534906171652e-06, 2.2064080694540106e-06, 9.906276948266226e-07, 1.0247708304390079e-07, 1.4965581204246618e-06, 3.3182400782148742e-06, 2.282940623915173e-06, 3.4157963540730804e-07, 6.070624825588835e-06, 1.1832358468103257e-06, 5.125326527276333e-07, 2.1900251943807239e-07, 1.5395344760122392e-06, 3.7173544463115835e-07, 2.6588544506508557e-06, 1.542802261365173e-07, 3.240721978031835e-07, 2.7701073993969097e-06, 9.780042320148009e-08, 9.882976083303093e-07, 1.92287673100721e-06, 1.0354283770960993e-06, 4.289391998092172e-06, 1.182954896602003e-06, 9.39360957015552e-07, 1.7533558180812104e-06, 7.968604216868837e-06, 1.826211438527669e-06, 7.406948516536964e-07, 1.810831276103825e-06, 1.6878136336703277e-06, 2.6533164227495934e-06, 1.5847733022922528e-06, 1.7069144843033677e-07, 7.00544338063793e-07, 8.292084530265565e-07, 3.077833556326697e-06, 5.038198803774142e-09, 3.49142344036421e-07, 8.828118380994395e-06, 2.8048957482636956e-07, 4.672492308245771e-07, 7.319624082965915e-08, 4.2030776938535604e-07, 1.1855413164129975e-06, 1.8996708543472148e-06, 4.629263681943075e-06, 1.942938436674316e-06, 1.0511060948832964e-06, 1.874994673975117e-05, 1.990593211746689e-06, 3.4241157698721317e-06, 2.880737402397279e-06, 1.6018365684694832e-06, 2.9362903343779487e-06, 3.968637942387425e-06, 4.85286905357159e-07, 2.742486842664942e-06, 3.0455125915330776e-06, 4.7606845647119835e-07, 2.2505256182222134e-06, 4.235174964396909e-07, 9.601455503636092e-07, 2.0994866600499302e-07, 3.2636680581283612e-06, 7.4355810139999225e-06, 3.556554534305221e-08, 2.548016302010226e-06, 3.890185783062584e-06, 1.4138763140063659e-06, 6.266473566934165e-07, 1.7706934598488201e-06, 1.5199600591170908e-06, 2.810412317450322e-06, 1.1675170976780292e-06, 2.2200604921284885e-06, 4.618877847145324e-06, 1.5001973152413558e-06, 2.1238695673312394e-06, 1.0350901081075047e-05, 1.8300858314585642e-06, 1.265985925486985e-06, 2.6316729362382473e-06, 1.3391181933919178e-06, 8.814946081413721e-07, 1.313449578246796e-05, 1.005133851158277e-06, 2.067354502108225e-06, 1.6202983763248842e-06, 1.4425596803411027e-06, 1.3544840076661895e-06, 2.532255208518687e-07, 7.368113069454208e-07, 1.4233457464961021e-07, 9.973549364877698e-07, 2.864393106799374e-06, 2.871203651752921e-06, 1.5028064012507507e-07, 9.833584726895489e-07, 3.5300584614712473e-07, 1.6322771244717339e-06, 3.787099088766623e-07, 3.170054839157397e-06, 1.650539776684758e-06, 3.4397291322916314e-06, 2.063021295572561e-06, 1.803945418461146e-06, 3.959044424089951e-06, 1.7573363055511978e-06, 1.0127560944017783e-06, 3.1786819798455203e-06, 5.82047636242391e-06, 1.9702298553867372e-06, 1.2768267445812353e-06, 2.8700860996207866e-06, 8.545085783498753e-07, 1.0178740952352234e-06, 1.7387628174690535e-06, 1.260787048194061e-06, 1.1624151904645765e-06, 8.896408881603569e-07, 1.5140677240754997e-06, 1.998679714944454e-06, 3.7433487291251443e-06, 7.325069379880924e-06, 9.592209148420174e-07, 1.685715389406529e-07, 9.361811724246618e-07, 9.687417609680566e-07, 4.696887669180337e-07, 2.390454311744512e-06, 3.237394638606851e-06, 5.632351829396198e-06, 1.382358581311225e-05, 4.030628014755044e-06, 2.081485406669396e-06, 3.7083961271942254e-07, 4.504855006649625e-06, 3.061715117476294e-06, 2.1004360231903035e-06, 8.025045349886481e-06, 3.908197829073626e-06, 1.8884559169978963e-06, 2.675852358931477e-07, 3.387364635408711e-06, 1.4791353249248464e-06, 4.923978175085329e-06, 5.968509128982862e-06, 2.4516055600445232e-06, 6.6550214318715945e-06, 2.271735089827672e-06, 2.16896875616926e-06, 1.9697851612475856e-06, 6.526920733735039e-07, 7.671517388283795e-07, 1.048363083900047e-05, 1.8191952084021448e-06, 3.2173430926524662e-06, 1.9972287248457308e-06, 3.020377558159444e-06, 9.873907975360163e-06, 3.5235485483742604e-07, 9.394907510554764e-07, 1.1208591543303132e-06, 6.363123748375332e-06, 1.400581888796839e-06, 3.317210084438379e-07, 2.5085124586636523e-06, 5.349680532697261e-06, 9.356319717676843e-07, 7.545247054640733e-06, 1.65288168297364e-06, 2.511124003270556e-06, 3.2476444581465945e-06, 2.7218888708406148e-06, 2.331972641081778e-06, 1.5062015274051435e-06, 5.221646578925318e-07, 6.218487613859175e-07, 7.933117007851814e-06, 1.453766333736585e-06, 1.5673624825489884e-06, 1.4208815692391667e-06, 1.7598543585273306e-06, 4.2898211441530487e-07, 5.417628862839109e-06, 7.704692155377276e-07, 1.83844400516867e-07, 1.0307377239832383e-07, 5.071941766258863e-06, 5.469288161551138e-07, 4.163570352159677e-07, 2.3949958922979966e-06, 4.727980338142238e-06, 2.1096472584456307e-07, 8.574666925141143e-07, 1.0205793597367613e-07, 3.4482063973512595e-07, 7.327314423468715e-07, 1.5089198688009564e-06, 2.443479840539361e-06, 6.837062679842244e-06, 1.3644430928165196e-07, 8.023339548217813e-07, 6.574424350100444e-07, 1.927182837934053e-06, 1.4314683409156592e-05, 4.815008679066907e-07, 1.256020778985994e-06, 4.023736947504696e-06, 8.223479699702492e-07, 9.71328646777976e-07, 1.4936415822434338e-07, 4.464277868998967e-07, 2.4175545671892127e-06, 3.278980296767036e-05, 2.257061524504801e-06, 1.2005778757230763e-07, 4.964165957219142e-07, 3.9398805584145887e-07, 6.2036676431766505e-06, 6.3680861062631006e-06, 8.879148345004089e-07, 4.7467557348720075e-06, 7.642790137670566e-06, 1.26141679378245e-06, 4.437883181007475e-07, 4.9230389225178536e-06, 2.769765396650709e-07, 2.2030891091775867e-06, 4.359428942839299e-07, 8.804348583766167e-06, 2.3345966664039263e-06, 2.35565768201307e-06, 3.5886532423773185e-06, 2.4827037717590137e-06, 1.3214425259195059e-06, 3.791351979014024e-06, 7.060054921491064e-09, 1.9888048895185804e-06, 5.420594523340203e-06, 1.746576117916798e-07, 1.7412618826962306e-06, 1.0035230069290842e-06, 2.4358598255831696e-07, 2.1398216030155053e-06, 9.702383413142021e-08, 1.6780684851875465e-07, 8.14101772731804e-06, 4.80422336498496e-06, 4.834255036990751e-07, 1.4850780491639514e-05, 4.88330078172053e-07, 4.572545441957433e-06, 3.4381275748985075e-07, 8.22979467904484e-07, 2.1662488030966758e-07, 9.846042822063207e-06, 2.517399698794977e-06, 5.59775914169689e-09, 1.3615439354138836e-06, 3.663939932638265e-06, 1.3417275497164407e-07, 9.354423048653697e-07, 3.5810132883504824e-07, 3.2802794649160955e-08, 1.3440037981177996e-06, 2.0054099785484538e-07, 3.4899110759336627e-07, 1.3519277618422753e-06, 9.442963991385025e-07, 4.5381468360289404e-06, 1.314232882966956e-07, 8.689272047699884e-07, 1.8104284714970024e-06, 5.716176635543888e-06, 1.1982144625857603e-06, 3.709823986898598e-08, 4.384226665722994e-06, 2.907256348263308e-07, 1.3079578904126591e-06, 3.226334455683681e-06, 5.042351799999002e-06, 6.160409500525472e-07, 1.7589071635071458e-06, 1.0319209889390558e-07, 6.28514822637016e-07, 5.238070171252452e-08, 4.347303552581489e-07, 2.8145119174634044e-06, 4.5558795097287806e-07, 1.6044479247972177e-06, 5.182693945570503e-07, 2.7899696122344713e-15, 9.981499378541685e-06, 3.230304655595423e-08, 1.8968418751350359e-06, 8.567483992391185e-07, 1.2880153542202809e-06, 1.194016245144124e-06, 5.994741634804596e-07, 2.18717368776198e-07, 2.072072997118439e-06, 3.0290717081833765e-06, 1.8745151253318352e-06, 7.094796820254938e-08, 1.8139786706149122e-07, 9.62555959468798e-07, 4.911321867362783e-07, 2.654083425068724e-06, 1.284892237982602e-06, 9.987788764789024e-07, 8.899610008906198e-07, 2.0083851865878493e-06, 9.89749178470422e-07, 7.896184367021313e-07, 1.7323733289422193e-06, 1.2458161408858858e-06, 1.843913737106679e-06, 2.3471538513888764e-06, 2.760943439595072e-07, 5.468724305350202e-06, 5.913462963490941e-07, 9.942615015029114e-07, 1.0041613421240389e-06, 4.5928047405171697e-07, 2.673292369405531e-06, 4.582321984746798e-08, 1.3776558148369105e-06, 7.02254953267291e-07, 5.2400534856004804e-08, 6.94078928348374e-07, 1.8787015101281164e-06, 2.8417830078232516e-06, 1.841006976189666e-06, 2.1021464005802954e-06, 1.1768122145552614e-07, 7.339234003579752e-07, 9.497690577249611e-07, 2.055589046283848e-06, 6.066087659346974e-06, 3.1718208747756535e-06, 6.583539984297894e-07, 2.433764967632357e-07, 2.5830995930176026e-06, 4.449035325901165e-07, 4.746396975870956e-07, 2.9483146489239266e-06, 4.501728294648423e-06, 2.727341586924006e-07, 5.222635298541934e-09, 3.2295535173558596e-07, 1.0549889618085854e-06, 3.7984276603979122e-06, 1.6234355847910147e-07, 7.816111501133935e-08, 5.327462653405434e-07, 8.2816797022443e-06, 5.643814214835359e-06, 1.3799644580909217e-06, 8.238309508544743e-06, 2.486442216760455e-06, 2.695902418752423e-07, 2.6631718635234734e-06, 5.209453836333832e-08, 6.424655433288296e-08, 5.868578945602398e-07, 3.282669260013366e-07, 2.4914032096444454e-07, 1.3065400881498745e-06, 1.7702014804038396e-06, 3.245512647654397e-06, 2.071186468226857e-06, 7.949399388238383e-07, 2.241043291928801e-06, 2.4682822537903745e-06, 2.2575422615173604e-06, 2.2212650309928715e-06], \"yaxis\": \"y\"}],\n",
              "                        {\"height\": 600, \"legend\": {\"tracegroupgap\": 0}, \"margin\": {\"t\": 60}, \"template\": {\"data\": {\"bar\": [{\"error_x\": {\"color\": \"#2a3f5f\"}, \"error_y\": {\"color\": \"#2a3f5f\"}, \"marker\": {\"line\": {\"color\": \"#E5ECF6\", \"width\": 0.5}}, \"type\": \"bar\"}], \"barpolar\": [{\"marker\": {\"line\": {\"color\": \"#E5ECF6\", \"width\": 0.5}}, \"type\": \"barpolar\"}], \"carpet\": [{\"aaxis\": {\"endlinecolor\": \"#2a3f5f\", \"gridcolor\": \"white\", \"linecolor\": \"white\", \"minorgridcolor\": \"white\", \"startlinecolor\": \"#2a3f5f\"}, \"baxis\": {\"endlinecolor\": \"#2a3f5f\", \"gridcolor\": \"white\", \"linecolor\": \"white\", \"minorgridcolor\": \"white\", \"startlinecolor\": \"#2a3f5f\"}, \"type\": \"carpet\"}], \"choropleth\": [{\"colorbar\": {\"outlinewidth\": 0, \"ticks\": \"\"}, \"type\": \"choropleth\"}], \"contour\": [{\"colorbar\": {\"outlinewidth\": 0, \"ticks\": \"\"}, \"colorscale\": [[0.0, \"#0d0887\"], [0.1111111111111111, \"#46039f\"], [0.2222222222222222, \"#7201a8\"], [0.3333333333333333, \"#9c179e\"], [0.4444444444444444, \"#bd3786\"], [0.5555555555555556, \"#d8576b\"], [0.6666666666666666, \"#ed7953\"], [0.7777777777777778, \"#fb9f3a\"], [0.8888888888888888, \"#fdca26\"], [1.0, \"#f0f921\"]], \"type\": \"contour\"}], \"contourcarpet\": [{\"colorbar\": {\"outlinewidth\": 0, \"ticks\": \"\"}, \"type\": \"contourcarpet\"}], \"heatmap\": [{\"colorbar\": {\"outlinewidth\": 0, \"ticks\": \"\"}, \"colorscale\": [[0.0, \"#0d0887\"], [0.1111111111111111, \"#46039f\"], [0.2222222222222222, \"#7201a8\"], [0.3333333333333333, \"#9c179e\"], [0.4444444444444444, \"#bd3786\"], [0.5555555555555556, \"#d8576b\"], [0.6666666666666666, \"#ed7953\"], [0.7777777777777778, \"#fb9f3a\"], [0.8888888888888888, \"#fdca26\"], [1.0, \"#f0f921\"]], \"type\": \"heatmap\"}], \"heatmapgl\": [{\"colorbar\": {\"outlinewidth\": 0, \"ticks\": \"\"}, \"colorscale\": [[0.0, \"#0d0887\"], [0.1111111111111111, \"#46039f\"], [0.2222222222222222, \"#7201a8\"], [0.3333333333333333, \"#9c179e\"], [0.4444444444444444, \"#bd3786\"], [0.5555555555555556, \"#d8576b\"], [0.6666666666666666, \"#ed7953\"], [0.7777777777777778, \"#fb9f3a\"], [0.8888888888888888, \"#fdca26\"], [1.0, \"#f0f921\"]], \"type\": \"heatmapgl\"}], \"histogram\": [{\"marker\": {\"colorbar\": {\"outlinewidth\": 0, \"ticks\": \"\"}}, \"type\": \"histogram\"}], \"histogram2d\": [{\"colorbar\": {\"outlinewidth\": 0, \"ticks\": \"\"}, \"colorscale\": [[0.0, \"#0d0887\"], [0.1111111111111111, \"#46039f\"], [0.2222222222222222, \"#7201a8\"], [0.3333333333333333, \"#9c179e\"], [0.4444444444444444, \"#bd3786\"], [0.5555555555555556, \"#d8576b\"], [0.6666666666666666, \"#ed7953\"], [0.7777777777777778, \"#fb9f3a\"], [0.8888888888888888, \"#fdca26\"], [1.0, \"#f0f921\"]], \"type\": \"histogram2d\"}], \"histogram2dcontour\": [{\"colorbar\": {\"outlinewidth\": 0, \"ticks\": \"\"}, \"colorscale\": [[0.0, \"#0d0887\"], [0.1111111111111111, \"#46039f\"], [0.2222222222222222, \"#7201a8\"], [0.3333333333333333, \"#9c179e\"], [0.4444444444444444, \"#bd3786\"], [0.5555555555555556, \"#d8576b\"], [0.6666666666666666, \"#ed7953\"], [0.7777777777777778, \"#fb9f3a\"], [0.8888888888888888, \"#fdca26\"], [1.0, \"#f0f921\"]], \"type\": \"histogram2dcontour\"}], \"mesh3d\": [{\"colorbar\": {\"outlinewidth\": 0, \"ticks\": \"\"}, \"type\": \"mesh3d\"}], \"parcoords\": [{\"line\": {\"colorbar\": {\"outlinewidth\": 0, \"ticks\": \"\"}}, \"type\": \"parcoords\"}], \"scatter\": [{\"marker\": {\"colorbar\": {\"outlinewidth\": 0, \"ticks\": \"\"}}, \"type\": \"scatter\"}], \"scatter3d\": [{\"line\": {\"colorbar\": {\"outlinewidth\": 0, \"ticks\": \"\"}}, \"marker\": {\"colorbar\": {\"outlinewidth\": 0, \"ticks\": \"\"}}, \"type\": \"scatter3d\"}], \"scattercarpet\": [{\"marker\": {\"colorbar\": {\"outlinewidth\": 0, \"ticks\": \"\"}}, \"type\": \"scattercarpet\"}], \"scattergeo\": [{\"marker\": {\"colorbar\": {\"outlinewidth\": 0, \"ticks\": \"\"}}, \"type\": \"scattergeo\"}], \"scattergl\": [{\"marker\": {\"colorbar\": {\"outlinewidth\": 0, \"ticks\": \"\"}}, \"type\": \"scattergl\"}], \"scattermapbox\": [{\"marker\": {\"colorbar\": {\"outlinewidth\": 0, \"ticks\": \"\"}}, \"type\": \"scattermapbox\"}], \"scatterpolar\": [{\"marker\": {\"colorbar\": {\"outlinewidth\": 0, \"ticks\": \"\"}}, \"type\": \"scatterpolar\"}], \"scatterpolargl\": [{\"marker\": {\"colorbar\": {\"outlinewidth\": 0, \"ticks\": \"\"}}, \"type\": \"scatterpolargl\"}], \"scatterternary\": [{\"marker\": {\"colorbar\": {\"outlinewidth\": 0, \"ticks\": \"\"}}, \"type\": \"scatterternary\"}], \"surface\": [{\"colorbar\": {\"outlinewidth\": 0, \"ticks\": \"\"}, \"colorscale\": [[0.0, \"#0d0887\"], [0.1111111111111111, \"#46039f\"], [0.2222222222222222, \"#7201a8\"], [0.3333333333333333, \"#9c179e\"], [0.4444444444444444, \"#bd3786\"], [0.5555555555555556, \"#d8576b\"], [0.6666666666666666, \"#ed7953\"], [0.7777777777777778, \"#fb9f3a\"], [0.8888888888888888, \"#fdca26\"], [1.0, \"#f0f921\"]], \"type\": \"surface\"}], \"table\": [{\"cells\": {\"fill\": {\"color\": \"#EBF0F8\"}, \"line\": {\"color\": \"white\"}}, \"header\": {\"fill\": {\"color\": \"#C8D4E3\"}, \"line\": {\"color\": \"white\"}}, \"type\": \"table\"}]}, \"layout\": {\"annotationdefaults\": {\"arrowcolor\": \"#2a3f5f\", \"arrowhead\": 0, \"arrowwidth\": 1}, \"colorscale\": {\"diverging\": [[0, \"#8e0152\"], [0.1, \"#c51b7d\"], [0.2, \"#de77ae\"], [0.3, \"#f1b6da\"], [0.4, \"#fde0ef\"], [0.5, \"#f7f7f7\"], [0.6, \"#e6f5d0\"], [0.7, \"#b8e186\"], [0.8, \"#7fbc41\"], [0.9, \"#4d9221\"], [1, \"#276419\"]], \"sequential\": [[0.0, \"#0d0887\"], [0.1111111111111111, \"#46039f\"], [0.2222222222222222, \"#7201a8\"], [0.3333333333333333, \"#9c179e\"], [0.4444444444444444, \"#bd3786\"], [0.5555555555555556, \"#d8576b\"], [0.6666666666666666, \"#ed7953\"], [0.7777777777777778, \"#fb9f3a\"], [0.8888888888888888, \"#fdca26\"], [1.0, \"#f0f921\"]], \"sequentialminus\": [[0.0, \"#0d0887\"], [0.1111111111111111, \"#46039f\"], [0.2222222222222222, \"#7201a8\"], [0.3333333333333333, \"#9c179e\"], [0.4444444444444444, \"#bd3786\"], [0.5555555555555556, \"#d8576b\"], [0.6666666666666666, \"#ed7953\"], [0.7777777777777778, \"#fb9f3a\"], [0.8888888888888888, \"#fdca26\"], [1.0, \"#f0f921\"]]}, \"colorway\": [\"#636efa\", \"#EF553B\", \"#00cc96\", \"#ab63fa\", \"#FFA15A\", \"#19d3f3\", \"#FF6692\", \"#B6E880\", \"#FF97FF\", \"#FECB52\"], \"font\": {\"color\": \"#2a3f5f\"}, \"geo\": {\"bgcolor\": \"white\", \"lakecolor\": \"white\", \"landcolor\": \"#E5ECF6\", \"showlakes\": true, \"showland\": true, \"subunitcolor\": \"white\"}, \"hoverlabel\": {\"align\": \"left\"}, \"hovermode\": \"closest\", \"mapbox\": {\"style\": \"light\"}, \"paper_bgcolor\": \"white\", \"plot_bgcolor\": \"#E5ECF6\", \"polar\": {\"angularaxis\": {\"gridcolor\": \"white\", \"linecolor\": \"white\", \"ticks\": \"\"}, \"bgcolor\": \"#E5ECF6\", \"radialaxis\": {\"gridcolor\": \"white\", \"linecolor\": \"white\", \"ticks\": \"\"}}, \"scene\": {\"xaxis\": {\"backgroundcolor\": \"#E5ECF6\", \"gridcolor\": \"white\", \"gridwidth\": 2, \"linecolor\": \"white\", \"showbackground\": true, \"ticks\": \"\", \"zerolinecolor\": \"white\"}, \"yaxis\": {\"backgroundcolor\": \"#E5ECF6\", \"gridcolor\": \"white\", \"gridwidth\": 2, \"linecolor\": \"white\", \"showbackground\": true, \"ticks\": \"\", \"zerolinecolor\": \"white\"}, \"zaxis\": {\"backgroundcolor\": \"#E5ECF6\", \"gridcolor\": \"white\", \"gridwidth\": 2, \"linecolor\": \"white\", \"showbackground\": true, \"ticks\": \"\", \"zerolinecolor\": \"white\"}}, \"shapedefaults\": {\"line\": {\"color\": \"#2a3f5f\"}}, \"ternary\": {\"aaxis\": {\"gridcolor\": \"white\", \"linecolor\": \"white\", \"ticks\": \"\"}, \"baxis\": {\"gridcolor\": \"white\", \"linecolor\": \"white\", \"ticks\": \"\"}, \"bgcolor\": \"#E5ECF6\", \"caxis\": {\"gridcolor\": \"white\", \"linecolor\": \"white\", \"ticks\": \"\"}}, \"title\": {\"x\": 0.05}, \"xaxis\": {\"automargin\": true, \"gridcolor\": \"white\", \"linecolor\": \"white\", \"ticks\": \"\", \"zerolinecolor\": \"white\", \"zerolinewidth\": 2}, \"yaxis\": {\"automargin\": true, \"gridcolor\": \"white\", \"linecolor\": \"white\", \"ticks\": \"\", \"zerolinecolor\": \"white\", \"zerolinewidth\": 2}}}, \"xaxis\": {\"anchor\": \"y\", \"domain\": [0.0, 0.98], \"title\": {\"text\": \"LATITUDE\"}}, \"yaxis\": {\"anchor\": \"x\", \"domain\": [0.0, 1.0], \"title\": {\"text\": \"RE_Lat\"}}},\n",
              "                        {\"responsive\": true}\n",
              "                    ).then(function(){\n",
              "                            \n",
              "var gd = document.getElementById('9f1a1808-803d-4bbf-91e0-6f3780c96bfd');\n",
              "var x = new MutationObserver(function (mutations, observer) {{\n",
              "        var display = window.getComputedStyle(gd).display;\n",
              "        if (!display || display === 'none') {{\n",
              "            console.log([gd, 'removed!']);\n",
              "            Plotly.purge(gd);\n",
              "            observer.disconnect();\n",
              "        }}\n",
              "}});\n",
              "\n",
              "// Listen for the removal of the full notebook cells\n",
              "var notebookContainer = gd.closest('#notebook-container');\n",
              "if (notebookContainer) {{\n",
              "    x.observe(notebookContainer, {childList: true});\n",
              "}}\n",
              "\n",
              "// Listen for the clearing of the current output cell\n",
              "var outputEl = gd.closest('.output');\n",
              "if (outputEl) {{\n",
              "    x.observe(outputEl, {childList: true});\n",
              "}}\n",
              "\n",
              "                        })\n",
              "                };\n",
              "                \n",
              "            </script>\n",
              "        </div>\n",
              "</body>\n",
              "</html>"
            ]
          },
          "metadata": {
            "tags": []
          }
        }
      ]
    },
    {
      "cell_type": "code",
      "metadata": {
        "id": "8JmNHBO96Jde",
        "colab_type": "code",
        "colab": {
          "base_uri": "https://localhost:8080/",
          "height": 617
        },
        "outputId": "abe860ec-38b9-4bc5-aa42-b978e36536f4"
      },
      "source": [
        "fig = px.scatter(results, x=\"LONGITUDE\", y=\"RE_Long\")\n",
        "fig.show()"
      ],
      "execution_count": 41,
      "outputs": [
        {
          "output_type": "display_data",
          "data": {
            "text/html": [
              "<html>\n",
              "<head><meta charset=\"utf-8\" /></head>\n",
              "<body>\n",
              "    <div>\n",
              "            <script src=\"https://cdnjs.cloudflare.com/ajax/libs/mathjax/2.7.5/MathJax.js?config=TeX-AMS-MML_SVG\"></script><script type=\"text/javascript\">if (window.MathJax) {MathJax.Hub.Config({SVG: {font: \"STIX-Web\"}});}</script>\n",
              "                <script type=\"text/javascript\">window.PlotlyConfig = {MathJaxConfig: 'local'};</script>\n",
              "        <script src=\"https://cdn.plot.ly/plotly-latest.min.js\"></script>    \n",
              "            <div id=\"924cbf92-1a0e-478d-93dd-ef13adb8db5e\" class=\"plotly-graph-div\" style=\"height:600px; width:100%;\"></div>\n",
              "            <script type=\"text/javascript\">\n",
              "                \n",
              "                    window.PLOTLYENV=window.PLOTLYENV || {};\n",
              "                    \n",
              "                if (document.getElementById(\"924cbf92-1a0e-478d-93dd-ef13adb8db5e\")) {\n",
              "                    Plotly.newPlot(\n",
              "                        '924cbf92-1a0e-478d-93dd-ef13adb8db5e',\n",
              "                        [{\"hoverlabel\": {\"namelength\": 0}, \"hovertemplate\": \"LONGITUDE=%{x}<br>RE_Long=%{y}\", \"legendgroup\": \"\", \"marker\": {\"color\": \"#636efa\", \"symbol\": \"circle\"}, \"mode\": \"markers\", \"name\": \"\", \"showlegend\": false, \"type\": \"scattergl\", \"x\": [4266916.859584933, 4266906.847074615, 4266921.2046859795, 4266923.43593334, 4266859.651871479, 4266925.318342777, 4266924.819051359, 4266862.69229154, 4266859.2720845835, 4266922.442882164, 4266859.047340149, 4266922.219367284, 4266924.521041927, 4266859.896585082, 4266910.935977967, 4266922.82208238, 4266869.936686237, 4266853.780747725, 4266863.722022158, 4266924.367773317, 4266862.11667971, 4266942.585955377, 4266852.687630312, 4266852.548164959, 4266853.870371258, 4266855.017973474, 4266920.394417318, 4266908.616531523, 4266853.041210004, 4266867.091009417, 4266941.911650477, 4266911.19326186, 4266916.193034109, 4266938.819442561, 4266941.879929616, 4266920.045953363, 4266869.107699722, 4266849.110556468, 4266849.094711931, 4266849.097204272, 4266924.193284077, 4266940.359682328, 4266909.75029261, 4266910.70300865, 4266909.204844218, 4266936.697314892, 4266869.933535884, 4266922.210857994, 4266921.270403629, 4266919.092976865, 4266851.0602323115, 4266882.726334605, 4266854.015983826, 4266902.55895802, 4266929.730305963, 4266942.345843278, 4266939.133733279, 4266927.481143829, 4266923.4572426425, 4266942.72627606, 4266923.004269982, 4266844.928885555, 4266851.368227555, 4266851.647185849, 4266850.410486882, 4266854.064174685, 4266851.462299001, 4266894.694487982, 4266865.990567874, 4266861.110584229, 4266864.8722045785, 4266861.048451891, 4266865.761592688, 4266865.177250113, 4266863.28794777, 4266863.580353576, 4266853.485304205, 4266853.485304205, 4266852.595316233, 4266865.467745853, 4266919.885495172, 4266923.337229646, 4266927.89840063, 4266920.812919967, 4266920.976863474, 4266891.150195473, 4266921.771679262, 4266921.727808867, 4266922.593675405, 4266923.668350656, 4266924.109363664, 4266935.052210009, 4266938.77604555, 4266926.367008218, 4266936.713925759, 4266931.236404079, 4266930.015879577, 4266913.784270656, 4266919.046422754, 4266844.96977773, 4266863.161941549, 4266866.583565286, 4266889.5917721335, 4266851.743307145, 4266942.391376675, 4266924.954958888, 4266926.010773467, 4266931.69507715, 4266931.398159814, 4266934.35283134, 4266937.474786316, 4266936.603690939, 4266936.136826879, 4266886.360232319, 4266882.205284022, 4266869.878673553, 4266927.779862906, 4266930.488955075, 4266931.333720742, 4266931.4811537, 4266936.037643314, 4266936.067189454, 4266942.53764149, 4266942.742898213, 4266932.500189768, 4266935.001578286, 4266931.133349239, 4266934.663791734, 4266938.261253219, 4266928.395926363, 4266933.662470573, 4266935.243458839, 4266913.784270655, 4266931.381026648, 4266936.183694625, 4266918.793741617, 4266923.497664608, 4266930.118272882, 4266938.782076085, 4266942.509665305, 4266943.163597619, 4266942.273459759, 4266934.516490579, 4266931.226327922, 4266923.291427251, 4266919.588939924, 4266918.443982973, 4266906.099296768, 4266896.828599158, 4266888.649754463, 4266921.738916894, 4266928.651782879, 4266929.209252787, 4266941.740912861, 4266935.003851694, 4266937.381926568, 4266933.142645217, 4266931.70068148, 4266931.658562453, 4266921.134241805, 4266920.99873674, 4266891.199086163, 4266890.574105068, 4266903.087339101, 4266875.708679105, 4266863.819907592, 4266865.913816339, 4266856.799630138, 4266860.026033852, 4266918.333834467, 4266920.051565678, 4266919.420288696, 4266918.55834558, 4266926.351607946, 4266925.664545515, 4266930.138139496, 4266934.714060976, 4266938.735893684, 4266936.242064179, 4266851.837702006, 4266939.646475961, 4266849.521125966, 4266936.261201934, 4266848.089086986, 4266939.783563484, 4266866.100927784, 4266939.593199382, 4266942.430328178, 4266884.875102613, 4266885.459655861, 4266916.321601759, 4266903.479978212, 4266917.688495772, 4266919.180948926, 4266919.631998266, 4266867.18139628, 4266865.030851307, 4266854.193124687, 4266848.527005801, 4266843.79375314, 4266843.739220377, 4266850.658540205, 4266862.601085268, 4266863.285974202, 4266923.02356614, 4266856.682129956, 4266842.158004302, 4266845.396994127, 4266844.428572577, 4266882.716177962, 4266905.614250948, 4266905.120585211, 4266921.253191053, 4266919.694401729, 4266927.2692073, 4266937.741905469, 4266934.331215352, 4266920.044686929, 4266924.434686214, 4266940.263714675, 4266928.517390591, 4266929.113301831, 4266929.295967082, 4266934.688397353, 4266920.715220946, 4266931.967800452, 4266936.182266312, 4266942.780218188, 4266926.013060757, 4266932.247906254, 4266940.0503013795, 4266941.420239703, 4266922.167220725, 4266864.966624699, 4266855.354489376, 4266854.011723513, 4266853.86124028, 4266891.351333957, 4266862.435581247, 4266856.164478324, 4266856.0203373, 4266852.43262441, 4266890.238812288, 4266890.665715325, 4266889.24562136, 4266865.400243841, 4266865.707392542, 4266873.882554935, 4266894.0656959405, 4266918.925840385, 4266918.277529928, 4266923.341519835, 4266845.423897569, 4266847.228804117, 4266848.403891272, 4266857.1063810885, 4266866.590816036, 4266865.923309084, 4266863.413834046, 4266863.259133669, 4266863.736171791, 4266865.078529848, 4266860.563844662, 4266851.141420436, 4266848.787254553, 4266851.425625626, 4266852.556326562, 4266851.444041786, 4266846.764744914, 4266882.715058653, 4266904.020977969, 4266905.047282231, 4266919.2871218845, 4266922.343672405, 4266920.85746007, 4266918.933539038, 4266928.778441119, 4266927.06013519, 4266932.676776249, 4266937.472900932, 4266934.4481790215, 4266935.97632749, 4266938.759728844, 4266918.999318046, 4266903.991485236, 4266904.051617865, 4266902.591354665, 4266902.997144775, 4266905.610797214, 4266924.213257283, 4266921.344428415, 4266893.984933353, 4266882.72060999, 4266886.794322133, 4266936.899198982, 4266930.744691795, 4266942.507703844, 4266943.056397681, 4266929.870705325, 4266947.651671783, 4266947.651671782, 4266947.809404286, 4266926.660315365, 4266926.0722753145, 4266907.741963096, 4266907.7290541055, 4266913.792834308, 4266906.725818573, 4266922.3215999855, 4266922.840968456, 4266945.033148332, 4266932.611835026, 4266933.550023711, 4266932.30276294, 4266931.925998454, 4266933.778431451, 4266934.665816698, 4266936.812705527, 4266942.023470783, 4266929.8972603865, 4266930.129740343, 4266928.88440012, 4266922.859938126, 4266923.888805503, 4266921.611564007, 4266922.75217024, 4266921.603558807, 4266919.391068355, 4266918.62002987, 4266918.513327562, 4266925.169009301, 4266923.817202553, 4266904.359297949, 4266909.001392641, 4266906.156635532, 4266919.051582885, 4266910.451337035, 4266923.245522887, 4266921.67145761, 4266927.564176773, 4266915.596465833, 4266908.185121188, 4266911.247868348, 4266938.935914083, 4266890.552272813, 4266927.552117739, 4266930.268539508, 4266928.604448329, 4266939.122260781, 4266933.121100304, 4266937.466400077, 4266933.11131656, 4266929.097759048, 4266932.336104362, 4266921.195936024, 4266881.930323668, 4266849.791903952, 4266849.810393504, 4266867.754290875, 4266868.079153603, 4266867.622343323, 4266868.488664497, 4266869.906284958, 4266868.918054882, 4266869.263108178, 4266868.951432214, 4266858.860747047, 4266862.249261341, 4266863.812887094, 4266856.727869841, 4266856.786436355, 4266856.933527112, 4266856.635845083, 4266907.702025721, 4266856.0907152025, 4266855.556723993, 4266856.894666641, 4266866.712593574, 4266856.224486301, 4266889.871833971, 4266900.584788938, 4266903.67184314, 4266904.413312116, 4266896.766683797, 4266900.907218235, 4266926.569264614, 4266905.599807455, 4266881.020952368, 4266904.056517762, 4266918.658941547, 4266868.146322082, 4266928.43520461, 4266919.683144108, 4266865.423176158, 4266930.438230328, 4266918.845992743, 4266855.014511162, 4266931.338884598, 4266918.944970735, 4266931.213961299, 4266920.751019515, 4266942.573365557, 4266926.292933037, 4266847.974278137, 4266869.8786735535, 4266869.922185127, 4266931.970810735, 4266848.516985956, 4266933.739819763, 4266933.690536642, 4266942.534678302, 4266853.27513808, 4266846.973998285, 4266935.864443936, 4266937.740631237, 4266889.7420907905, 4266855.503233799, 4266938.035798764, 4266861.534845929, 4266932.86551654, 4266934.918698319, 4266936.74046742, 4266847.6674806345, 4266936.90746673, 4266919.0580685, 4266849.274908719, 4266877.634245343, 4266935.389668844, 4266926.903822465, 4266933.312583239, 4266854.149957221, 4266851.432538729, 4266919.698791665, 4266850.787128529, 4266856.227359249, 4266931.66971277, 4266908.416225546, 4266855.970022877, 4266919.36736211, 4266869.467060582, 4266933.250005453, 4266926.324804359, 4266865.645844673, 4266863.831049636, 4266865.282573395, 4266921.495733024, 4266851.288097877, 4266924.052926912, 4266936.02213327, 4266936.46919998, 4266866.963462312, 4266852.014119949, 4266931.323001446, 4266937.103314503, 4266939.072721288, 4266865.330133874, 4266920.075130548, 4266940.147219825, 4266941.546772976, 4266853.805274025, 4266880.434372993, 4266858.488518391, 4266934.591613938, 4266850.3138302, 4266855.7558872085, 4266881.623904782, 4266865.177972754, 4266918.525477405, 4266930.729181037, 4266939.347099219, 4266854.5790229095, 4266867.579997073, 4266930.307176348, 4266854.538831334, 4266922.918752117, 4266933.393510256, 4266867.322535647, 4266933.899398646, 4266849.0154025825, 4266942.513485718, 4266854.735737255, 4266858.744521857, 4266854.1830986915, 4266919.210008455, 4266931.097338744, 4266902.19646187, 4266935.549461103, 4266939.722853631, 4266861.917430044, 4266850.438033868, 4266905.516836927, 4266860.129959954, 4266942.508678973, 4266860.716169219, 4266861.751884053, 4266900.947022436, 4266858.270140933, 4266849.901373961, 4266903.45239868, 4266854.382476813, 4266848.462726326, 4266855.216461819, 4266848.920183523, 4266933.933496737, 4266938.797830038, 4266849.128082287, 4266865.7803420285, 4266851.510502216, 4266860.955036047, 4266849.49494307, 4266855.147651695, 4266938.06690226, 4266855.308237457, 4266849.207650466, 4266915.611869225, 4266887.5055214325, 4266852.732234059, 4266849.108018014, 4266849.740497213, 4266849.102827875, 4266939.057474313, 4266849.241911802, 4266848.4739299, 4266854.282612998, 4266897.156314969, 4266930.569980491, 4266874.403802166, 4266844.639944716, 4266901.570093393, 4266942.201490179, 4266930.009861694, 4266902.703972636, 4266873.292008451, 4266850.131281075, 4266869.644639023, 4266925.356459476, 4266864.972447958, 4266925.045000502, 4266869.402433868, 4266851.318363123, 4266900.157019565, 4266867.90351825, 4266859.0258140545, 4266869.114340153, 4266919.227914669, 4266930.843325151, 4266866.071791295, 4266862.404457841, 4266882.729189798, 4266876.787823274, 4266903.467719456, 4266854.061008728, 4266854.8155883225, 4266920.461831162, 4266924.949036876, 4266865.144179207, 4266911.70986471, 4266853.996309339, 4266932.4557862915, 4266849.701514168, 4266853.896016359, 4266924.928033137, 4266852.502821396, 4266852.716992358, 4266937.852873662, 4266929.517186799, 4266861.8800279135, 4266912.197368015, 4266849.188276514, 4266939.713224402, 4266869.1024876265, 4266932.183006464, 4266862.353108246, 4266864.901567754, 4266860.54901778, 4266934.690031184, 4266915.676253934, 4266849.630394063, 4266849.75364032, 4266852.297036128, 4266927.875806927, 4266843.613457076, 4266935.739225892, 4266903.467719456, 4266848.066504569, 4266916.8018606715, 4266915.685615579, 4266927.311848741, 4266910.835558927, 4266852.929740745, 4266927.272348954, 4266848.024735187, 4266862.246006047, 4266933.87355458, 4266844.506140162, 4266932.822023164, 4266930.455885666, 4266855.021344697, 4266854.6612390075, 4266921.525220753, 4266894.282759802, 4266937.350785277, 4266887.208848811, 4266843.230168516, 4266903.18002842, 4266935.2806955315, 4266872.211493662, 4266933.357003665, 4266935.895592155, 4266904.901241158, 4266879.813393694, 4266938.350716704, 4266850.329999236, 4266947.724490585, 4266902.613258919, 4266872.211493662, 4266935.445115956, 4266910.058410145, 4266847.852780635, 4266936.603739747, 4266874.159104415, 4266852.886339218, 4266920.631335298, 4266922.448504, 4266926.788585282, 4266918.446700148, 4266937.736652568, 4266847.973166914, 4266865.17905852, 4266855.101106346, 4266865.067104883, 4266942.658267042, 4266946.938529088, 4266859.541815154, 4266854.910223791, 4266932.136009185, 4266938.101067386, 4266920.251300546, 4266842.440358092, 4266851.871027985, 4266935.974153835, 4266905.111620959, 4266864.078271933, 4266849.711249084, 4266940.17010834, 4266931.154006505, 4266865.293847927, 4266857.933127883, 4266855.335800028, 4266910.830309549, 4266857.287443947, 4266868.386688696, 4266936.973369352, 4266886.783395389, 4266908.302702604, 4266918.5222863, 4266849.657999163, 4266856.655813376, 4266920.712433322, 4266862.498924502, 4266889.257116344, 4266869.104937285, 4266925.803489129, 4266926.313966025, 4266862.255891665, 4266848.5342461, 4266934.139163344, 4266907.695062996, 4266935.328309143, 4266850.405879722, 4266886.651239054, 4266908.387224858, 4266869.930932136, 4266939.56080212, 4266938.503064724, 4266849.131663781, 4266887.208848811, 4266938.542351417, 4266928.166151208, 4266863.058179349, 4266851.900972019, 4266922.499665548, 4266852.556557002, 4266869.111226713, 4266910.4853659645, 4266882.712050901, 4266935.832639993, 4266929.790412521, 4266862.5397528075, 4266865.877889374, 4266867.675061486, 4266855.10349979, 4266852.682923334, 4266931.432490543, 4266854.089844859, 4266850.949991764, 4266844.382488142, 4266843.731938764, 4266906.006922981, 4266848.672810414, 4266863.850312819, 4266876.547136089, 4266910.765116295, 4266865.43498456, 4266853.824215109, 4266927.965427355, 4266874.420305116, 4266868.3524123775, 4266876.251539333, 4266875.57058683, 4266932.110757783, 4266908.465988274, 4266922.753647339, 4266855.082111373, 4266869.931981407, 4266927.355139473, 4266914.0886480175, 4266926.759795333, 4266851.470609976, 4266896.975064343, 4266922.431312523, 4266852.2416550005, 4266940.882656317, 4266852.518561268, 4266876.060392019, 4266924.6175326705, 4266853.886169657, 4266938.462331776, 4266887.693010548, 4266876.168756565, 4266913.100229494, 4266911.913393497, 4266880.111182521, 4266871.996760363, 4266909.046212257, 4266902.383370344, 4266877.066429148, 4266911.1963663725, 4266911.758781917, 4266928.0374811385, 4266911.530262661, 4266932.265743195, 4266877.066429148, 4266923.89349571, 4266900.958837425, 4266856.075945908, 4266873.977068932, 4266929.51841024, 4266856.22056727, 4266864.923701278, 4266859.48976162, 4266927.587563134, 4266859.646233423, 4266869.113154079, 4266909.543888669, 4266915.697560015, 4266900.272331201, 4266914.362794702, 4266936.334602691, 4266913.213140738, 4266936.403491304, 4266849.1016093055, 4266873.296453334, 4266926.658557285, 4266849.788661021, 4266869.560203918, 4266914.215758999, 4266875.577910843, 4266927.10445334, 4266875.293268766, 4266853.287005333, 4266853.978837712, 4266884.442829484, 4266853.875143763, 4266921.286751531, 4266856.188339045, 4266859.627948129, 4266857.346531273, 4266852.716392956, 4266862.0215944005, 4266855.201211098, 4266859.54816439, 4266921.621038621, 4266858.069684419, 4266909.726583553, 4266851.167769743, 4266873.279579664, 4266921.384085009, 4266946.938529088, 4266859.386172996, 4266893.630394442, 4266921.82117817, 4266873.271135929, 4266915.889417576, 4266926.744789039, 4266923.507072837, 4266876.074431743, 4266890.716760316, 4266867.624741832, 4266853.933106841, 4266908.038909224, 4266926.227098563, 4266862.79383956, 4266858.392501442, 4266853.9369898, 4266920.248437404, 4266909.016393496, 4266869.107920829, 4266865.754528696, 4266919.7728094, 4266942.65959605, 4266863.402063018, 4266858.545339853, 4266862.008103976, 4266924.261997044, 4266868.1260434305, 4266876.549190077, 4266925.239559915, 4266895.5658962475, 4266868.746430951, 4266872.991386612, 4266862.864906519, 4266869.103677255, 4266870.85882192, 4266919.685987413, 4266931.79461736, 4266862.762560747, 4266869.108149717, 4266923.743949873, 4266918.793234398, 4266866.936542792, 4266855.879510833, 4266928.588195693, 4266849.121611248, 4266922.531800345, 4266849.121797769, 4266924.977076695, 4266924.498022345, 4266915.6039466, 4266872.5589924585, 4266926.216774861, 4266857.552549038, 4266862.935515023, 4266924.827203694, 4266866.335582051, 4266922.813139269, 4266920.54518741, 4266922.386809789, 4266861.61515493, 4266909.512522729, 4266903.116015644, 4266929.053298309, 4266924.192047635, 4266923.7142946655, 4266860.577760133, 4266922.4544286905, 4266914.391142912, 4266869.950604459, 4266921.970616779, 4266942.664704184, 4266926.543295836, 4266914.7391119115, 4266906.972615788, 4266922.411572419, 4266925.454717904, 4266867.001119687, 4266922.361469373, 4266913.100054107, 4266924.169811482, 4266915.588246717, 4266923.215257624, 4266923.4184925025, 4266921.276481418, 4266868.618522406, 4266921.802815232, 4266922.774060736, 4266898.456810066, 4266917.531661126, 4266926.85060028, 4266878.64495829, 4266922.562837174, 4266914.518353352, 4266908.397494732, 4266923.483778886, 4266922.130387678, 4266922.862070273, 4266920.137343649, 4266922.624745089, 4266891.418288523, 4266913.949450803, 4266921.860122994, 4266907.012058027, 4266921.643966753, 4266873.224412353, 4266915.672886828, 4266922.112106482, 4266921.336065086, 4266864.533407141, 4266917.806404486, 4266905.222652322, 4266923.7146295365, 4266921.861673814, 4266920.374443852, 4266861.241988487, 4266919.645245906, 4266850.409683831, 4266868.383260406, 4266923.625617769, 4266908.260338103, 4266913.0026618205, 4266919.778938741, 4266909.831543248, 4266922.2283897, 4266867.571554577, 4266919.243814581, 4266940.710586399, 4266932.123293292, 4266915.845189986, 4266859.206469151, 4266861.200006781, 4266925.901743652, 4266937.54176319, 4266931.639430022, 4266908.833930115, 4266911.194863321, 4266892.149280467, 4266926.569568878, 4266874.634243827, 4266907.196602273, 4266917.313274687, 4266922.106467693, 4266925.355953992, 4266935.848189676, 4266921.265859783, 4266921.659683204, 4266859.193513704, 4266913.53613917, 4266904.817649633, 4266921.713661868, 4266921.659683204, 4266851.189696796, 4266910.12289065, 4266920.410713894, 4266905.883811437, 4266921.350488853, 4266922.186816754, 4266921.6105959155, 4266907.74138229, 4266872.780393809, 4266922.930460874, 4266922.599829867, 4266921.321837839, 4266916.164944852, 4266859.645783819, 4266921.762586038, 4266924.903438855, 4266922.896298519, 4266921.681741855, 4266907.720506915, 4266905.1913792435, 4266921.348518188, 4266873.021166326, 4266910.37496738, 4266875.943963454, 4266856.118586295, 4266860.894953201, 4266861.061010912, 4266921.89664114, 4266859.585068543, 4266924.589598106, 4266857.107764818, 4266860.676608945, 4266867.578302654, 4266921.4023424955, 4266859.913295651, 4266860.87872544, 4266867.776548763, 4266849.588745687, 4266909.976966009, 4266921.604124356, 4266915.618141138, 4266859.3222880345, 4266924.269049469, 4266859.316823806, 4266857.836079969, 4266921.920760768, 4266927.889676807, 4266921.8395961635, 4266909.976966009, 4266858.686584847, 4266857.6611520955, 4266922.591332502, 4266888.320033917, 4266909.976966009, 4266857.674047132, 4266853.137290968, 4266873.406138375, 4266905.605559073, 4266852.51426624, 4266922.385149222, 4266855.1029052995, 4266917.584447809, 4266905.240264216, 4266850.8315688195, 4266922.379568552, 4266858.621885936, 4266922.290083389, 4266922.293408683, 4266856.09297004, 4266920.185930187, 4266911.036300552, 4266860.254070035, 4266869.583150053, 4266856.69337009, 4266922.989345483, 4266921.841535271, 4266922.534122902, 4266922.856735838, 4266863.538467655, 4266921.878229088, 4266922.176435875, 4266924.977040597, 4266924.186593322, 4266876.01749771, 4266878.476328878, 4266869.918419504, 4266930.574920853, 4266921.572497079, 4266910.435571106, 4266914.898636579, 4266919.915470174, 4266925.289538806, 4266930.1407269025, 4266920.549902791, 4266912.524917101, 4266915.239176301, 4266871.633620828, 4266911.054241859, 4266919.915990833, 4266908.149875423, 4266920.279291354, 4266923.858969181, 4266922.015823127, 4266939.062845695, 4266846.452648459, 4266935.821752217, 4266861.173025696, 4266866.372993477, 4266848.9709947035, 4266937.144342978, 4266912.879496879, 4266938.094438183, 4266890.622199917, 4266876.550284229, 4266891.824193351, 4266918.824867008, 4266918.432922244, 4266926.212158915, 4266930.407227859, 4266918.906192923, 4266942.653558249, 4266942.649706123, 4266946.913368735, 4266869.106233761, 4266869.104833114, 4266869.1114283, 4266909.861748557, 4266928.350251034, 4266937.0307933185, 4266942.657129012, 4266942.667751191, 4266928.363108821, 4266924.665609757, 4266941.468312442, 4266939.589238523, 4266889.151861096, 4266869.933516792, 4266855.843970579, 4266906.302770607, 4266921.546622294, 4266922.637329565, 4266921.810037419, 4266922.621900137, 4266860.5851148255, 4266863.917755118, 4266856.790955432, 4266853.563766945, 4266850.445138804, 4266849.345078236, 4266856.030869328, 4266856.275109339, 4266856.108538845, 4266856.25088692, 4266864.722908658, 4266856.109766729, 4266852.432225909, 4266854.268344189, 4266854.958733703, 4266864.441442992, 4266907.233479542, 4266919.642626875, 4266923.652571702, 4266923.548723244, 4266923.913521847, 4266921.308596481, 4266918.89712202, 4266904.353772633, 4266909.823774825, 4266852.677817137, 4266853.5733040925, 4266852.435474172], \"xaxis\": \"x\", \"y\": [5.690344226279091e-06, 1.2093428652308937e-06, 3.158172270821108e-07, 1.7581520396005837e-08, 3.541398546508762e-07, 9.977227133055927e-07, 5.492724294117832e-07, 2.0793789964313282e-07, 1.1375535580890238e-07, 7.218932664964361e-08, 7.212851691358471e-07, 1.7302465129060187e-07, 2.2642769983461382e-07, 3.155588262958393e-06, 7.469300845575694e-08, 4.227537836702561e-06, 5.266388383010266e-08, 3.359292628133363e-07, 2.377046856837353e-06, 6.243060578205927e-07, 1.4952421695415095e-06, 9.715919705391778e-08, 1.344052687249993e-06, 8.928280037188701e-06, 3.090137939867616e-07, 1.3275268864876099e-06, 2.5683483935225055e-06, 2.9297449131720204e-06, 5.896594968631774e-07, 2.0029473285205237e-07, 2.0680361041959463e-06, 8.345357520214076e-07, 2.3156517945761496e-06, 2.8962154211827967e-06, 3.436074204358553e-07, 1.6968260838189958e-06, 9.723122331932592e-08, 1.267214549125627e-06, 9.987049504153388e-07, 8.763232295871383e-07, 5.797552895396599e-07, 5.456740797959667e-07, 4.136501977671188e-07, 6.10488075857324e-07, 9.90500337200997e-07, 1.5276426967510085e-06, 7.347886298902564e-08, 1.8667359827516915e-07, 5.268055523838333e-07, 8.477149291903527e-07, 1.7318230402962303e-07, 6.900443702411154e-08, 2.762402317204092e-08, 2.0894558325652417e-10, 8.301616212718473e-07, 8.549774283960471e-07, 6.268324589798345e-07, 5.610978809450376e-08, 5.07442371774751e-07, 1.9498701355757325e-06, 7.218273126263775e-09, 7.09891609841642e-07, 1.2576148052124014e-06, 6.245423238444961e-07, 7.087988856706655e-09, 6.804683827135609e-08, 6.49456309317804e-07, 2.745899808334171e-06, 1.746022171299666e-07, 9.419878196062789e-07, 8.811593919112945e-07, 2.210255179641788e-07, 2.2171922582591827e-07, 2.4530378420891614e-08, 4.648682408579622e-07, 5.827938308509397e-07, 1.5020103779998585e-06, 3.410609791781683e-07, 1.5767068568342694e-06, 4.906531649712057e-07, 4.645548723415275e-07, 7.028454511996987e-07, 8.777420430138156e-08, 5.484475516244545e-07, 5.050577826784065e-07, 5.316176908169655e-06, 7.112236329009199e-07, 2.9669902136317326e-07, 1.6070767850255323e-07, 5.503979559366509e-09, 3.5518776993034986e-07, 9.825489773940745e-07, 6.181242779446475e-07, 2.8522837990365627e-07, 1.6416116183857404e-07, 1.1885302353428654e-06, 1.1603971118423551e-06, 1.0521526509947303e-06, 3.0739755610887866e-07, 4.0696393012907337e-07, 3.421337187627698e-07, 2.6506979336849535e-07, 5.785444275800401e-07, 7.681275375337962e-07, 1.3122214818424291e-06, 1.7907339845436533e-07, 2.4660458307770077e-07, 4.735555578548883e-07, 5.693283452399724e-08, 7.077926748039484e-07, 4.854484940632198e-07, 3.654590771124141e-08, 7.059337665735944e-07, 6.459202076902694e-07, 1.3887983229088656e-07, 2.6414097999216278e-09, 1.1724601176609987e-06, 2.978415643355038e-07, 4.958213347267165e-07, 4.3713196129573707e-07, 3.3770768415800985e-07, 1.259190859296568e-08, 1.1525337834320495e-07, 7.343093547952145e-08, 1.2207757488887855e-06, 1.9383546136334817e-07, 1.862944410966986e-08, 3.9145244380646726e-07, 1.0465434578679333e-06, 5.83015257012565e-07, 5.816499663866545e-07, 1.0783720998612337e-06, 3.9193709817633586e-07, 7.22957753869222e-07, 7.454235757293515e-07, 3.484188005658959e-08, 8.489482574476073e-08, 1.4966082920283508e-07, 5.509528731764022e-07, 1.6731457244474444e-08, 1.9457905015112323e-07, 1.2500224335421203e-07, 5.631542021634099e-07, 1.0899307378671733e-07, 5.666717811437805e-07, 8.060497301822063e-07, 8.63219159236872e-08, 7.640058356429303e-07, 1.0511102866938744e-06, 9.042457313484577e-07, 8.17129078577977e-07, 3.752839932954848e-08, 2.8125162660206835e-07, 6.980864155360649e-07, 1.5275535228450572e-06, 2.895007540209643e-07, 5.860243682508812e-07, 1.469875695521125e-06, 1.4434056280117662e-06, 3.2326342022246274e-07, 4.854386146435407e-07, 4.193857293946993e-06, 4.337298770446796e-06, 9.224191523943977e-07, 1.6171042504496912e-06, 1.0380237018690155e-06, 9.09343152583405e-07, 6.024021791229364e-07, 1.542027198398952e-06, 3.794122645326419e-08, 7.148791494648934e-08, 8.798310887112229e-07, 1.094445334863837e-06, 5.839578258116523e-07, 1.20598657491921e-07, 1.5431677999034855e-07, 7.989225269133995e-07, 5.072186991691141e-07, 1.6806824809291257e-07, 8.384042639431071e-07, 6.181885118898021e-07, 1.6758722802880056e-07, 3.5368692312593415e-07, 1.1988291362397223e-06, 3.898975565907959e-07, 1.197580087806723e-06, 1.0313367490329582e-06, 3.3972792240774564e-08, 8.707162101482442e-07, 1.5891632186590324e-06, 3.3180595770431494e-06, 2.465964574755104e-06, 2.059231702220564e-06, 4.78766508694589e-07, 1.078168112228928e-06, 8.252541490472693e-09, 6.705391905096039e-07, 3.821079286125507e-07, 3.896077224153274e-07, 1.3134457260651506e-07, 4.3107528485251993e-07, 2.77582711752056e-07, 6.969853053688356e-07, 5.377801427101552e-07, 2.0700103544431555e-06, 5.392773456342113e-07, 2.833998957851225e-06, 6.003972650291183e-07, 3.9115077543692756e-07, 4.932830399841018e-08, 7.179821651204044e-07, 4.3623203932265864e-07, 5.312675752901115e-07, 6.690813079988986e-07, 4.6217495159209517e-07, 1.513672522673787e-06, 1.5037611488671555e-07, 9.915089835142015e-07, 1.7409509778352954e-07, 2.883212658889552e-07, 8.092100243581563e-07, 4.985685999178807e-07, 4.212178217161449e-07, 2.1498018603367486e-08, 1.8646992093211775e-07, 1.2911091793524953e-06, 3.95613445666862e-08, 1.956795896266991e-06, 1.5997826382331767e-07, 2.8922817385594066e-07, 9.201212569278465e-07, 1.7853842674592749e-07, 4.940495875787712e-07, 2.518659613047808e-06, 1.7364119194750071e-06, 1.929533027280323e-06, 4.3592986999979885e-07, 1.0818884040564323e-05, 3.91554251152968e-06, 1.2186788803905206e-06, 8.252251687478687e-07, 0.0, 9.69000766516231e-06, 9.845463950720596e-06, 9.555293722900868e-06, 5.3463001861831557e-08, 1.235738597540371e-07, 9.518536313399797e-07, 2.736825147350433e-06, 2.2701432466601317e-07, 1.1353003932728836e-07, 1.2148905094843278e-07, 6.428406974005973e-07, 2.7559524393082948e-08, 7.502376214573852e-08, 6.742937727704059e-07, 1.7465453364293098e-06, 4.351546635732111e-08, 5.993817878892814e-07, 8.340275507187232e-07, 8.151456068670247e-07, 1.89337887777485e-07, 2.1924573807222336e-07, 1.0457128825664771e-06, 1.2268061379410366e-06, 8.393684928214582e-07, 5.7437215858207e-07, 6.389276854474468e-07, 2.7306936220035983e-07, 2.3324138576432016e-07, 3.423195095679986e-07, 4.630833573988248e-07, 2.1791382611757194e-07, 8.146367408403357e-07, 1.787652470526782e-07, 2.836666585118365e-07, 6.555984877895224e-07, 3.528687165873997e-07, 6.824792605886678e-07, 1.7804041070029366e-06, 5.270696626016958e-07, 1.495002775221585e-07, 4.7299154507532007e-07, 1.477321630420053e-07, 7.105218389694778e-07, 6.964290478889849e-07, 7.270071780266992e-09, 1.0237187089117176e-07, 6.68998393245841e-07, 3.201647816153329e-07, 1.9514873881363025e-07, 2.0333568251281136e-06, 1.8988957703562174e-08, 9.180084991313129e-07, 1.740979088115118e-07, 1.3479979007791831e-06, 2.7554250862180814e-07, 1.4161222323801075e-07, 3.225336693121521e-06, 1.0913217721930416e-15, 1.3095861266316499e-15, 1.964379117332005e-15, 1.5358679041105256e-07, 7.901823091798983e-07, 5.834753294446453e-08, 3.3378069179744046e-08, 6.153057631120662e-06, 4.0389240023943096e-08, 3.084781013974813e-07, 4.5833619280870155e-07, 5.458356448443354e-07, 1.5281310681382205e-07, 1.8927582799915486e-07, 3.7051884412427964e-07, 1.9761226343275698e-07, 4.971358131208559e-07, 3.685756342551877e-07, 2.8736264027616143e-07, 2.727751061688283e-07, 2.704075965152773e-07, 1.1104394300679762e-06, 9.53715621950161e-07, 3.258327204400053e-08, 3.08174129921767e-07, 2.206217678520688e-07, 8.206079566037764e-07, 7.91002098822907e-07, 2.9650556734450366e-07, 4.560759279063674e-08, 9.062283013934233e-07, 3.0680297587719014e-07, 4.183365380427489e-07, 2.066838701468987e-07, 5.844606875497468e-07, 2.749960656672929e-06, 4.0262349776031347e-07, 2.496415399521447e-06, 2.785930077605705e-07, 6.817188079916199e-09, 1.2340791257493414e-06, 4.650683842589107e-07, 5.356293941063382e-07, 1.0945914604027009e-06, 3.4219677245059737e-06, 4.3509240309586946e-07, 4.65067337389791e-06, 9.668715021812788e-07, 5.369439397732677e-07, 1.8812020101425057e-07, 8.439383878388651e-07, 2.6043479346576333e-07, 5.342272480689889e-07, 4.017786840079698e-07, 4.0638492510802533e-07, 1.7213534783236704e-08, 2.3141312974102143e-07, 9.98434943759471e-07, 1.2751625380244743e-06, 7.140527837713526e-08, 4.16452551421789e-09, 1.107774970029593e-06, 2.2111367200578185e-07, 3.46238230105126e-08, 2.1723804008510359e-07, 1.0261534179111524e-07, 2.8735600837528035e-07, 1.0854552198081138e-06, 1.879603346574367e-06, 2.2460620228985813e-06, 2.406870288109009e-07, 3.0563637778011604e-07, 3.0673392962849544e-07, 5.640167437783401e-07, 9.431210306852993e-10, 4.3625754502814654e-07, 3.1110885624415843e-07, 6.246753805852633e-07, 2.432522193931869e-06, 1.723064472236933e-07, 2.973702781550732e-06, 1.463705381214491e-06, 1.7425241857096442e-07, 3.592293802691968e-07, 1.4321147621462415e-06, 3.4328642201991956e-07, 6.966629455741906e-07, 5.384733339143431e-06, 2.64812713070163e-07, 3.5135404775567626e-07, 4.723821504300638e-08, 3.1231327075250394e-07, 1.056808547319667e-06, 5.964615964266159e-07, 7.734585506666261e-07, 2.3236861321851656e-07, 2.6520840310355873e-07, 9.150757533231034e-07, 1.1576884876326261e-07, 1.0078800544312621e-08, 8.505720688139759e-07, 8.922058540554665e-07, 9.536657671408834e-07, 8.925968565022724e-08, 5.686143370066465e-07, 2.7633831679648274e-06, 1.2502397034464774e-08, 2.552475323836694e-06, 8.913052169660429e-07, 2.455025428988796e-06, 4.3171567791688616e-07, 3.956215194862482e-07, 9.190673290189742e-07, 2.813960579701228e-07, 4.99661885353259e-07, 7.167067555062982e-07, 3.051303894136763e-06, 2.9255588652720375e-06, 1.1961374714680083e-06, 1.9852564002562572e-06, 4.340085707016016e-07, 1.5047084794623243e-06, 3.328838613960447e-08, 1.0127411034680795e-06, 2.634125849670513e-07, 1.4952715124657855e-07, 2.551161646644216e-07, 3.693304165826513e-06, 1.817813732845142e-06, 9.657869667933318e-07, 5.857872576061123e-07, 1.4773121392147196e-06, 1.4081152890748989e-06, 1.050671085459028e-06, 6.652241274147927e-07, 1.097754527867266e-07, 3.90574459589037e-07, 2.012017602537435e-07, 7.823342801591871e-07, 3.9280862425544276e-07, 7.652813207047306e-08, 2.064525175969559e-06, 4.159953871400986e-07, 8.725074105116021e-07, 1.7502775015760887e-07, 2.6600037796062495e-07, 3.597734421507308e-07, 9.556933763578178e-07, 7.393223282402597e-08, 2.363034791956324e-06, 3.1171235393560897e-07, 1.917046133956828e-07, 3.5184506172905936e-07, 1.3517362773046662e-07, 6.817575065394313e-07, 9.142950414698453e-07, 7.700929261021168e-07, 7.360241834948424e-07, 4.176323903482181e-07, 3.582051563244857e-06, 2.9412404491453533e-07, 5.84445264225548e-07, 5.982696379071436e-07, 1.7370080959691117e-06, 1.099934042820821e-06, 7.397614210206849e-07, 9.31060319976157e-07, 3.9003463928719e-06, 1.1900540559748762e-07, 1.8229472323877054e-06, 4.5596750783457493e-07, 1.2771960577324563e-06, 1.7412473934976612e-07, 1.9631249853352654e-07, 2.21798969481595e-06, 5.545739879365779e-07, 5.327163300149286e-07, 2.9211818902653076e-07, 2.421758732671934e-07, 8.310187819048914e-08, 8.261847930466572e-08, 2.5117067923292164e-07, 1.0364059353821029e-06, 1.3424067033895482e-06, 3.738643884946381e-07, 1.2306608920733733e-06, 1.3123423700423574e-06, 2.1862005726918077e-06, 3.340131273068839e-06, 1.816670049258356e-07, 1.4510672338266635e-06, 4.072222459141136e-07, 5.105154701778064e-07, 1.1860521547105435e-07, 2.625770375336936e-07, 2.953163954140267e-07, 3.546400776515949e-07, 5.016057096311357e-07, 1.914868177533614e-06, 1.7125255164414547e-06, 4.377802027100487e-07, 2.440730093904357e-07, 2.612968315813991e-07, 3.891861266251966e-08, 3.0370960416681908e-09, 1.052339275160267e-06, 9.65775698434148e-07, 2.4558755348048747e-07, 1.972312224737166e-06, 3.7440512784104573e-07, 1.386964931174859e-06, 9.329884899086999e-07, 3.7750390625426105e-07, 5.452544262941588e-07, 5.28849984229695e-08, 3.2319298049401244e-06, 2.0026833945634654e-06, 1.1562419967753423e-06, 1.1849683434507888e-07, 1.8048929284311843e-06, 3.860364147845493e-07, 5.540950308284234e-07, 4.888999922406535e-08, 1.0127695475353132e-06, 2.7024892250323466e-06, 9.611765049954317e-07, 1.330491622248359e-07, 2.5626432014593288e-06, 5.727268946520826e-07, 2.4299797047459816e-06, 3.571770199444561e-07, 2.340780496102577e-06, 3.367279730208271e-08, 4.271086102986486e-07, 1.604144362331251e-06, 7.155682591211106e-07, 3.1898350972651433e-07, 1.0243622697760663e-06, 5.134346858994099e-07, 6.124767424157753e-07, 4.969721641266308e-07, 1.3768351416451678e-06, 4.843883232677594e-07, 7.621004899394108e-07, 9.000700086632642e-08, 3.3984006907992115e-07, 2.861220517149493e-06, 9.758389973887415e-07, 3.3118415418557784e-07, 1.2702784967525933e-06, 6.638240474096127e-07, 2.1272083647706373e-07, 1.2889046822006578e-06, 1.0625081382194531e-07, 4.2959692863476173e-07, 1.8817165416723214e-07, 1.9023001353527952e-08, 4.309142657870531e-06, 2.0277537327610686e-06, 1.912538712759538e-07, 1.04592260857295e-06, 9.518379585207493e-07, 3.2780495859108627e-07, 2.619390115425742e-07, 8.052779987408279e-08, 3.4913948948043726e-07, 1.7054708786815067e-07, 2.5104941750845602e-06, 3.483420376090746e-06, 3.999349115740616e-07, 9.148933063118333e-07, 9.211889538660387e-08, 1.0141056487448769e-06, 2.9077309476426475e-07, 3.345472382666183e-07, 9.235935488273205e-07, 2.067858184462601e-06, 7.049761983424863e-07, 4.0175477692375615e-07, 1.0985168251833994e-07, 5.743794283040589e-08, 1.5523133988940316e-07, 2.974302700718417e-07, 2.626446402684133e-07, 4.940030393764423e-06, 3.0241243515270036e-07, 1.0655734203122475e-07, 8.945437680629508e-07, 1.0497732378718873e-06, 9.786898425942479e-07, 2.3865216022750483e-06, 5.8237345649005864e-08, 2.387096503045758e-07, 2.941239543300992e-07, 9.506122408498786e-08, 1.0195793694388914e-06, 9.571412416387615e-08, 7.443095602088454e-07, 9.58166291486065e-07, 2.5808562418230565e-06, 8.027931311233776e-07, 4.61320157461632e-07, 9.217405939024157e-07, 1.694806894173894e-06, 2.378747032549398e-07, 1.1917589519906973e-07, 9.600764247698333e-07, 1.1028525484083866e-06, 2.273381401190956e-06, 2.53837129441134e-06, 5.218166297380119e-07, 3.2040342135848875e-07, 7.847753915450877e-07, 7.460872062035752e-07, 1.1680685275424e-08, 3.356523699195325e-07, 2.657537833250372e-06, 5.989239363898127e-07, 2.7097288214204217e-06, 1.9261428529129938e-07, 3.0419963949350067e-06, 2.0489118309755896e-06, 1.4985921939076668e-06, 1.0126147521811634e-06, 3.631804440601879e-07, 4.399714505825057e-07, 6.852905437659271e-07, 6.179826455274845e-08, 1.4301411821530436e-06, 3.64585857420259e-07, 1.607274367428287e-06, 2.5335633982302668e-08, 1.3575135090371431e-06, 9.898383499335242e-07, 8.843331844124091e-07, 7.994264211057223e-08, 3.8607788123365626e-08, 1.2367796084187385e-06, 5.810569607493009e-07, 1.4408003856029069e-06, 4.802386480661705e-07, 3.2263747199525743e-07, 1.8153920814063581e-06, 4.512561146808826e-09, 1.9032731562545278e-06, 7.091030786549286e-07, 1.2946096811651355e-07, 3.4705702553363234e-07, 4.814510413382902e-07, 1.7044151590347364e-06, 1.628550769389347e-06, 3.259835906678748e-07, 2.5058151653126564e-06, 4.294978352397957e-06, 1.2331418482482754e-06, 1.375707398980076e-07, 1.5393079053940325e-08, 1.7415444553557243e-07, 5.64966410589211e-07, 5.566756304666613e-07, 2.5879228681404204e-08, 6.802480912611477e-07, 2.4510123777101747e-09, 6.173089383023249e-08, 1.4638653769552905e-07, 1.203630817033092e-06, 1.5723923196683646e-06, 4.942273082546785e-07, 4.8367473496819865e-09, 8.598680272358847e-07, 1.8754010618948598e-06, 2.6677962957868876e-06, 1.619062342948173e-07, 3.6680121835524665e-08, 8.970281946906019e-07, 7.646698907376933e-07, 4.851141532927201e-07, 2.151063244242501e-08, 6.696358638686996e-07, 3.577471673930386e-06, 2.249681980855715e-07, 4.4666444951055436e-08, 1.1287925456177772e-06, 4.786734458552495e-07, 1.686710770678867e-07, 7.473221614181374e-07, 4.066637937503647e-08, 2.8250772573427096e-07, 3.4058002072857238e-06, 2.7957574085984555e-06, 6.219651340698248e-07, 6.395051967821074e-07, 1.873510069939811e-06, 1.6706058768929305e-07, 8.946594793741307e-07, 6.427520171319327e-08, 3.562249539775173e-07, 6.945405645495428e-07, 3.2437193433379987e-07, 2.776734624310324e-06, 6.002885663726027e-07, 2.444185583618682e-07, 2.6262118945893923e-08, 8.208961307293357e-07, 5.590171318208094e-07, 3.105314468278311e-07, 1.2129706426765627e-07, 1.817927620805614e-06, 2.0129461866915997e-07, 1.8602858559536102e-07, 1.977766413225923e-07, 2.6890466582203375e-06, 1.8854839073527461e-07, 3.580003995195076e-06, 6.15693615994033e-07, 1.0366549892897544e-08, 2.5852810437932695e-07, 6.078925513649534e-07, 1.616476321546352e-07, 3.8587339709635644e-07, 4.781304300297331e-08, 1.6401499464661813e-07, 3.6371290111329855e-07, 4.164811464084771e-06, 8.240765690025418e-07, 6.282705168324829e-07, 6.841707111793116e-07, 4.026753815329635e-07, 7.525769256508858e-07, 1.1374877341743853e-06, 1.2999118754992688e-07, 4.236694995660994e-06, 4.002132682350155e-06, 1.013826718203089e-06, 2.8949182221353942e-06, 3.1182097018941e-07, 1.2431347985776911e-06, 9.787692827938615e-07, 3.866958877035095e-06, 2.226365427371789e-06, 1.8758955343153046e-07, 1.5805285174964436e-06, 1.3755155588357482e-06, 3.303051091585346e-06, 6.428792258856416e-08, 1.8348803713512494e-06, 8.970657518396628e-07, 1.501176737400134e-07, 3.036731096628304e-06, 9.22285528976674e-07, 7.187655026492968e-07, 2.0996790352249062e-07, 5.410729569874944e-09, 4.965209910610252e-07, 2.2470805518026827e-07, 6.53970066905807e-07, 2.427964728592035e-07, 4.135631357618903e-07, 1.5582289208453745e-07, 4.806882140595515e-07, 1.0732756053650378e-06, 5.563514740761049e-07, 2.0256733779869838e-07, 9.577166687003112e-07, 3.2481754937762414e-07, 8.757999939033372e-08, 1.150419313475241e-06, 5.294612080945756e-06, 4.5510110975535867e-07, 3.65216740523733e-06, 7.260272040398834e-07, 4.671127009357134e-07, 1.2549163780688184e-07, 2.938544744493809e-07, 1.343489338314698e-06, 3.116143057651015e-07, 1.0263072923941606e-06, 3.736210877130141e-07, 1.4243798043034566e-06, 4.6243872194995335e-07, 6.323415550647955e-07, 3.0571020424853735e-06, 4.790242152588747e-07, 1.621787409937588e-06, 8.679411616683463e-08, 3.283967410992898e-06, 1.3086952460757347e-05, 2.113963899080273e-06, 2.759911781082613e-07, 8.798288240915172e-07, 1.6716303080421078e-07, 6.22501120920387e-07, 1.0952080503032409e-06, 5.763392183518456e-08, 5.280429486543609e-07, 3.965504479881394e-06, 3.86877598785933e-06, 2.2083453920277701e-07, 1.031576130611713e-06, 1.6046130638239192e-06, 3.0416040365920696e-07, 1.1171625499209483e-06, 3.2425011446438195e-07, 8.2750255897697e-07, 1.0417223693430636e-06, 2.1705507804668478e-07, 3.039994710423934e-07, 1.7336547553016853e-06, 9.151145826470399e-08, 1.0441972038421869e-06, 3.2783501685523204e-06, 4.243248126058057e-08, 2.300149070471339e-06, 8.93492117640286e-06, 1.3334318720849153e-06, 6.92959702800471e-07, 6.904591840944568e-07, 2.0525914264299813e-07, 1.029045154851155e-06, 2.7478974347268267e-07, 6.4451346591012916e-06, 8.10810774408059e-09, 3.349022522413878e-08, 9.232605432466892e-08, 6.465957995436514e-07, 1.257640776937824e-06, 3.345465364089497e-06, 2.3998937911204224e-06, 9.796497769880877e-08, 1.3876358117898155e-06, 1.8264807722051278e-06, 2.13023374563301e-06, 7.922204029514722e-07, 2.6211249847290465e-07, 1.6569013165103296e-06, 3.939855725104736e-07, 1.5026461903844148e-07, 1.0430441245537776e-06, 8.675025842435283e-07, 7.278109189355632e-07, 3.385898144804269e-07, 1.272396328999248e-06, 1.425158146443467e-07, 3.0551520148498884e-07, 9.579979387260478e-07, 5.587947764418307e-06, 4.859066714497833e-07, 7.964574313706485e-08, 3.98987298637229e-07, 8.402337607825877e-07, 6.46619088278987e-07, 9.409827254719209e-07, 1.1935861294212493e-06, 4.980923874832185e-07, 7.525641492935024e-07, 4.6119140045012147e-07, 3.7976432190692803e-07, 2.0689516241196467e-06, 2.086504118054949e-06, 6.318207115165291e-08, 4.713411303692488e-08, 6.891721807145281e-06, 6.762867984381252e-08, 2.98323918742481e-07, 6.698208438500926e-07, 1.1466949278361698e-06, 1.6449970034146846e-06, 8.598142612933246e-07, 4.6702620395232196e-07, 8.455629048167202e-07, 2.9728854330725733e-07, 6.356093007185435e-07, 6.832396416677147e-07, 1.54853872600615e-07, 2.1259468427867307e-06, 3.468538090544492e-07, 4.938957770950809e-07, 9.461768729322203e-07, 1.8045704587685253e-06, 2.0278426645206513e-06, 1.751516081617487e-06, 2.3157573540697826e-07, 8.457546224678932e-07, 1.176064586788009e-05, 6.680914651846234e-07, 7.531547281489972e-08, 2.9487711296821336e-07, 1.3215056035863256e-06, 7.913584616174106e-07, 7.781323062292889e-06, 2.2681387101222586e-06, 9.87515089054487e-08, 2.3522822705547445e-06, 3.9384615437567523e-07, 3.122429889906119e-06, 1.8642327170798706e-06, 3.5513149665524743e-07, 7.00826754721031e-08, 9.62811914619972e-07, 1.3642196292840488e-06, 1.65461601206255e-07, 1.7271496249239128e-07, 3.650993211085785e-07, 7.623716492690916e-07, 3.3495346045567746e-08, 1.7761717164363036e-06, 1.8955396973134647e-06, 1.8023985879068235e-06, 3.430567715799793e-06, 4.410490506724604e-06, 1.4645994470499922e-06, 9.019347544280155e-07, 1.255157584864741e-06, 4.502029470168492e-06, 1.2754451511891586e-06, 3.3148360440687277e-06, 3.2776788873101653e-07, 1.0575860133487605e-06, 6.048814403623465e-07, 4.214771644397825e-07, 7.351030909081417e-08, 5.84040177921161e-07, 1.18152854605417e-06, 2.6687953452106153e-06, 3.6171939720554284e-07, 1.4113861003831453e-06, 4.236479698548897e-06, 4.177818885764013e-09, 6.496421700274883e-08, 2.1679239785850723e-06, 4.008114089355152e-08, 1.2238587145144921e-07, 8.886698920936271e-07, 6.8187049973491926e-06, 4.971423967200956e-08, 9.459244005350319e-08, 2.2024481935376922e-07, 8.913572304520564e-07, 1.4747882575594605e-06, 3.0231050444542375e-07, 4.754182559217719e-08, 1.0367240657606833e-06, 2.752150728243103e-07, 2.4232343360475706e-06, 5.395760141969249e-07, 1.0926489919329002e-07, 1.1798335581161078e-07, 1.2307336367028176e-09, 6.018723406453468e-09, 2.3834528814222283e-06, 7.763381268708256e-07, 1.5984003554098877e-07, 2.0292643974877808e-07, 1.495653399220136e-06, 6.267810970849529e-07, 1.0285962740133525e-07, 3.7467125202716373e-06, 8.043311723886186e-06, 7.772609361378799e-07, 6.684257303204452e-07, 1.2578391897256246e-06, 2.791268194285427e-06, 2.667657304750076e-07, 1.7089220419916321e-06, 3.17423851154959e-06, 1.9336298819531997e-07, 1.801398493232242e-07, 4.132001693026283e-08, 1.2741176297366625e-06, 2.3228388407512605e-07, 4.036188606590162e-07, 3.253619468525899e-07, 4.012288397203755e-08, 2.184436298513125e-06, 2.403313755022224e-07, 3.6668774497994023e-07, 1.5902661938330608e-07, 3.95517544594387e-06, 2.8913010195102365e-07, 4.881321588866263e-06, 2.0244946431225108e-07, 4.981219417999406e-07, 5.422316153930349e-07, 4.040645306289708e-06, 2.1945225740840292e-07, 2.4174102465341628e-09, 9.284670953581136e-07, 1.5144964888705674e-06, 2.3212555930201837e-07, 1.2843972102206106e-06, 4.2292463097295577e-07, 3.268965115802405e-08, 7.565289852695618e-07, 2.3604488714831574e-07, 4.913164267430602e-06, 3.6930264256114287e-07, 2.8762890848762083e-06, 3.7208089928392703e-06, 1.2038917514603671e-06, 3.42841783448111e-06, 2.581421991811086e-07, 2.906315329655782e-06, 1.4162375928370488e-06, 1.1060837741308579e-07, 9.275620583814289e-06, 4.254286648404623e-07, 1.82229892813347e-08, 2.6092770585972487e-07, 2.462202690928275e-07, 2.4706552777251493e-06, 9.897334936457117e-07, 2.7099895369460665e-08, 4.2927332853958003e-07, 1.305597863135999e-07, 1.0999305264455365e-07, 4.4436097131010963e-07, 2.0280999056937668e-07, 5.021493964052711e-07, 7.808424988252667e-07, 5.547261030500647e-07, 4.209728566317623e-07, 3.249287695535276e-07, 3.0959008873855186e-07, 8.357575701512349e-07, 3.4184947627016235e-06, 2.47256283935711e-06, 3.179114958155213e-08, 3.273978419367967e-15, 4.1468287699804843e-08, 3.742606870243854e-08, 1.956455935075528e-06, 2.654269745525886e-07, 4.18311271661958e-07, 2.376775802614238e-06, 7.753540802309654e-07, 2.4505914138130317e-06, 6.176093599340531e-07, 2.7101257120481007e-06, 2.946662442074338e-06, 8.698151050493258e-07, 1.6206772496370175e-07, 7.84671673671981e-07, 5.950815331651968e-07, 1.0220438457797314e-07, 9.710604135216996e-07, 8.80812969286977e-07, 7.091969910643541e-07, 4.382803021002282e-07, 1.7131560245157244e-07, 1.2791033558067228e-06, 7.243979293499031e-07, 1.2802834892060513e-06, 2.76567741916965e-06, 3.9057061383785686e-07, 1.1825269409806512e-08, 1.7138009041163996e-07, 2.7190742444811872e-06, 2.7225776969938297e-06, 5.908765434827416e-07, 1.4432746797045298e-06, 1.4297101406906537e-06, 4.793348387828513e-10, 8.57170101641407e-09, 1.5278507454317998e-15, 3.210625722055353e-08, 1.2609598622622206e-07, 1.3517654541109263e-08, 6.24587657481816e-07, 1.0802445973788318e-06, 2.124418039843988e-06, 1.6681433393329165e-07, 1.2162567996208418e-08, 7.889359670073356e-07, 4.79825544067159e-07, 9.309664672542989e-07, 1.1747073606807754e-06, 1.1903562440367951e-07, 4.396629393838044e-08, 5.344309348337552e-07, 2.480969374699614e-07, 4.58123592179946e-07, 3.951331419975112e-08, 1.534944617906987e-08, 8.600303708452823e-09, 9.424193595066899e-07, 6.643568348757936e-07, 8.586960831995159e-08, 3.87536605671962e-07, 1.622325151343293e-07, 7.082851458318563e-08, 1.1191255084878226e-07, 9.586854487846646e-08, 4.1195252553051555e-08, 1.2907568731352637e-07, 1.82965370754527e-06, 2.010739338261277e-07, 9.142526212530402e-07, 8.392580121474183e-07, 6.508563201326596e-07, 1.894067987576038e-07, 3.9101434010380645e-07, 7.459873082802285e-07, 7.836215295167586e-07, 2.6606534168060933e-07, 5.835727101121303e-07, 3.33056502766489e-07, 7.712785718208213e-07, 1.6613324549405855e-07, 1.4234122162978727e-06, 1.5102406798492058e-06, 1.2700558435538953e-06, 1.4362305418437495e-06], \"yaxis\": \"y\"}],\n",
              "                        {\"height\": 600, \"legend\": {\"tracegroupgap\": 0}, \"margin\": {\"t\": 60}, \"template\": {\"data\": {\"bar\": [{\"error_x\": {\"color\": \"#2a3f5f\"}, \"error_y\": {\"color\": \"#2a3f5f\"}, \"marker\": {\"line\": {\"color\": \"#E5ECF6\", \"width\": 0.5}}, \"type\": \"bar\"}], \"barpolar\": [{\"marker\": {\"line\": {\"color\": \"#E5ECF6\", \"width\": 0.5}}, \"type\": \"barpolar\"}], \"carpet\": [{\"aaxis\": {\"endlinecolor\": \"#2a3f5f\", \"gridcolor\": \"white\", \"linecolor\": \"white\", \"minorgridcolor\": \"white\", \"startlinecolor\": \"#2a3f5f\"}, \"baxis\": {\"endlinecolor\": \"#2a3f5f\", \"gridcolor\": \"white\", \"linecolor\": \"white\", \"minorgridcolor\": \"white\", \"startlinecolor\": \"#2a3f5f\"}, \"type\": \"carpet\"}], \"choropleth\": [{\"colorbar\": {\"outlinewidth\": 0, \"ticks\": \"\"}, \"type\": \"choropleth\"}], \"contour\": [{\"colorbar\": {\"outlinewidth\": 0, \"ticks\": \"\"}, \"colorscale\": [[0.0, \"#0d0887\"], [0.1111111111111111, \"#46039f\"], [0.2222222222222222, \"#7201a8\"], [0.3333333333333333, \"#9c179e\"], [0.4444444444444444, \"#bd3786\"], [0.5555555555555556, \"#d8576b\"], [0.6666666666666666, \"#ed7953\"], [0.7777777777777778, \"#fb9f3a\"], [0.8888888888888888, \"#fdca26\"], [1.0, \"#f0f921\"]], \"type\": \"contour\"}], \"contourcarpet\": [{\"colorbar\": {\"outlinewidth\": 0, \"ticks\": \"\"}, \"type\": \"contourcarpet\"}], \"heatmap\": [{\"colorbar\": {\"outlinewidth\": 0, \"ticks\": \"\"}, \"colorscale\": [[0.0, \"#0d0887\"], [0.1111111111111111, \"#46039f\"], [0.2222222222222222, \"#7201a8\"], [0.3333333333333333, \"#9c179e\"], [0.4444444444444444, \"#bd3786\"], [0.5555555555555556, \"#d8576b\"], [0.6666666666666666, \"#ed7953\"], [0.7777777777777778, \"#fb9f3a\"], [0.8888888888888888, \"#fdca26\"], [1.0, \"#f0f921\"]], \"type\": \"heatmap\"}], \"heatmapgl\": [{\"colorbar\": {\"outlinewidth\": 0, \"ticks\": \"\"}, \"colorscale\": [[0.0, \"#0d0887\"], [0.1111111111111111, \"#46039f\"], [0.2222222222222222, \"#7201a8\"], [0.3333333333333333, \"#9c179e\"], [0.4444444444444444, \"#bd3786\"], [0.5555555555555556, \"#d8576b\"], [0.6666666666666666, \"#ed7953\"], [0.7777777777777778, \"#fb9f3a\"], [0.8888888888888888, \"#fdca26\"], [1.0, \"#f0f921\"]], \"type\": \"heatmapgl\"}], \"histogram\": [{\"marker\": {\"colorbar\": {\"outlinewidth\": 0, \"ticks\": \"\"}}, \"type\": \"histogram\"}], \"histogram2d\": [{\"colorbar\": {\"outlinewidth\": 0, \"ticks\": \"\"}, \"colorscale\": [[0.0, \"#0d0887\"], [0.1111111111111111, \"#46039f\"], [0.2222222222222222, \"#7201a8\"], [0.3333333333333333, \"#9c179e\"], [0.4444444444444444, \"#bd3786\"], [0.5555555555555556, \"#d8576b\"], [0.6666666666666666, \"#ed7953\"], [0.7777777777777778, \"#fb9f3a\"], [0.8888888888888888, \"#fdca26\"], [1.0, \"#f0f921\"]], \"type\": \"histogram2d\"}], \"histogram2dcontour\": [{\"colorbar\": {\"outlinewidth\": 0, \"ticks\": \"\"}, \"colorscale\": [[0.0, \"#0d0887\"], [0.1111111111111111, \"#46039f\"], [0.2222222222222222, \"#7201a8\"], [0.3333333333333333, \"#9c179e\"], [0.4444444444444444, \"#bd3786\"], [0.5555555555555556, \"#d8576b\"], [0.6666666666666666, \"#ed7953\"], [0.7777777777777778, \"#fb9f3a\"], [0.8888888888888888, \"#fdca26\"], [1.0, \"#f0f921\"]], \"type\": \"histogram2dcontour\"}], \"mesh3d\": [{\"colorbar\": {\"outlinewidth\": 0, \"ticks\": \"\"}, \"type\": \"mesh3d\"}], \"parcoords\": [{\"line\": {\"colorbar\": {\"outlinewidth\": 0, \"ticks\": \"\"}}, \"type\": \"parcoords\"}], \"scatter\": [{\"marker\": {\"colorbar\": {\"outlinewidth\": 0, \"ticks\": \"\"}}, \"type\": \"scatter\"}], \"scatter3d\": [{\"line\": {\"colorbar\": {\"outlinewidth\": 0, \"ticks\": \"\"}}, \"marker\": {\"colorbar\": {\"outlinewidth\": 0, \"ticks\": \"\"}}, \"type\": \"scatter3d\"}], \"scattercarpet\": [{\"marker\": {\"colorbar\": {\"outlinewidth\": 0, \"ticks\": \"\"}}, \"type\": \"scattercarpet\"}], \"scattergeo\": [{\"marker\": {\"colorbar\": {\"outlinewidth\": 0, \"ticks\": \"\"}}, \"type\": \"scattergeo\"}], \"scattergl\": [{\"marker\": {\"colorbar\": {\"outlinewidth\": 0, \"ticks\": \"\"}}, \"type\": \"scattergl\"}], \"scattermapbox\": [{\"marker\": {\"colorbar\": {\"outlinewidth\": 0, \"ticks\": \"\"}}, \"type\": \"scattermapbox\"}], \"scatterpolar\": [{\"marker\": {\"colorbar\": {\"outlinewidth\": 0, \"ticks\": \"\"}}, \"type\": \"scatterpolar\"}], \"scatterpolargl\": [{\"marker\": {\"colorbar\": {\"outlinewidth\": 0, \"ticks\": \"\"}}, \"type\": \"scatterpolargl\"}], \"scatterternary\": [{\"marker\": {\"colorbar\": {\"outlinewidth\": 0, \"ticks\": \"\"}}, \"type\": \"scatterternary\"}], \"surface\": [{\"colorbar\": {\"outlinewidth\": 0, \"ticks\": \"\"}, \"colorscale\": [[0.0, \"#0d0887\"], [0.1111111111111111, \"#46039f\"], [0.2222222222222222, \"#7201a8\"], [0.3333333333333333, \"#9c179e\"], [0.4444444444444444, \"#bd3786\"], [0.5555555555555556, \"#d8576b\"], [0.6666666666666666, \"#ed7953\"], [0.7777777777777778, \"#fb9f3a\"], [0.8888888888888888, \"#fdca26\"], [1.0, \"#f0f921\"]], \"type\": \"surface\"}], \"table\": [{\"cells\": {\"fill\": {\"color\": \"#EBF0F8\"}, \"line\": {\"color\": \"white\"}}, \"header\": {\"fill\": {\"color\": \"#C8D4E3\"}, \"line\": {\"color\": \"white\"}}, \"type\": \"table\"}]}, \"layout\": {\"annotationdefaults\": {\"arrowcolor\": \"#2a3f5f\", \"arrowhead\": 0, \"arrowwidth\": 1}, \"colorscale\": {\"diverging\": [[0, \"#8e0152\"], [0.1, \"#c51b7d\"], [0.2, \"#de77ae\"], [0.3, \"#f1b6da\"], [0.4, \"#fde0ef\"], [0.5, \"#f7f7f7\"], [0.6, \"#e6f5d0\"], [0.7, \"#b8e186\"], [0.8, \"#7fbc41\"], [0.9, \"#4d9221\"], [1, \"#276419\"]], \"sequential\": [[0.0, \"#0d0887\"], [0.1111111111111111, \"#46039f\"], [0.2222222222222222, \"#7201a8\"], [0.3333333333333333, \"#9c179e\"], [0.4444444444444444, \"#bd3786\"], [0.5555555555555556, \"#d8576b\"], [0.6666666666666666, \"#ed7953\"], [0.7777777777777778, \"#fb9f3a\"], [0.8888888888888888, \"#fdca26\"], [1.0, \"#f0f921\"]], \"sequentialminus\": [[0.0, \"#0d0887\"], [0.1111111111111111, \"#46039f\"], [0.2222222222222222, \"#7201a8\"], [0.3333333333333333, \"#9c179e\"], [0.4444444444444444, \"#bd3786\"], [0.5555555555555556, \"#d8576b\"], [0.6666666666666666, \"#ed7953\"], [0.7777777777777778, \"#fb9f3a\"], [0.8888888888888888, \"#fdca26\"], [1.0, \"#f0f921\"]]}, \"colorway\": [\"#636efa\", \"#EF553B\", \"#00cc96\", \"#ab63fa\", \"#FFA15A\", \"#19d3f3\", \"#FF6692\", \"#B6E880\", \"#FF97FF\", \"#FECB52\"], \"font\": {\"color\": \"#2a3f5f\"}, \"geo\": {\"bgcolor\": \"white\", \"lakecolor\": \"white\", \"landcolor\": \"#E5ECF6\", \"showlakes\": true, \"showland\": true, \"subunitcolor\": \"white\"}, \"hoverlabel\": {\"align\": \"left\"}, \"hovermode\": \"closest\", \"mapbox\": {\"style\": \"light\"}, \"paper_bgcolor\": \"white\", \"plot_bgcolor\": \"#E5ECF6\", \"polar\": {\"angularaxis\": {\"gridcolor\": \"white\", \"linecolor\": \"white\", \"ticks\": \"\"}, \"bgcolor\": \"#E5ECF6\", \"radialaxis\": {\"gridcolor\": \"white\", \"linecolor\": \"white\", \"ticks\": \"\"}}, \"scene\": {\"xaxis\": {\"backgroundcolor\": \"#E5ECF6\", \"gridcolor\": \"white\", \"gridwidth\": 2, \"linecolor\": \"white\", \"showbackground\": true, \"ticks\": \"\", \"zerolinecolor\": \"white\"}, \"yaxis\": {\"backgroundcolor\": \"#E5ECF6\", \"gridcolor\": \"white\", \"gridwidth\": 2, \"linecolor\": \"white\", \"showbackground\": true, \"ticks\": \"\", \"zerolinecolor\": \"white\"}, \"zaxis\": {\"backgroundcolor\": \"#E5ECF6\", \"gridcolor\": \"white\", \"gridwidth\": 2, \"linecolor\": \"white\", \"showbackground\": true, \"ticks\": \"\", \"zerolinecolor\": \"white\"}}, \"shapedefaults\": {\"line\": {\"color\": \"#2a3f5f\"}}, \"ternary\": {\"aaxis\": {\"gridcolor\": \"white\", \"linecolor\": \"white\", \"ticks\": \"\"}, \"baxis\": {\"gridcolor\": \"white\", \"linecolor\": \"white\", \"ticks\": \"\"}, \"bgcolor\": \"#E5ECF6\", \"caxis\": {\"gridcolor\": \"white\", \"linecolor\": \"white\", \"ticks\": \"\"}}, \"title\": {\"x\": 0.05}, \"xaxis\": {\"automargin\": true, \"gridcolor\": \"white\", \"linecolor\": \"white\", \"ticks\": \"\", \"zerolinecolor\": \"white\", \"zerolinewidth\": 2}, \"yaxis\": {\"automargin\": true, \"gridcolor\": \"white\", \"linecolor\": \"white\", \"ticks\": \"\", \"zerolinecolor\": \"white\", \"zerolinewidth\": 2}}}, \"xaxis\": {\"anchor\": \"y\", \"domain\": [0.0, 0.98], \"title\": {\"text\": \"LONGITUDE\"}}, \"yaxis\": {\"anchor\": \"x\", \"domain\": [0.0, 1.0], \"title\": {\"text\": \"RE_Long\"}}},\n",
              "                        {\"responsive\": true}\n",
              "                    ).then(function(){\n",
              "                            \n",
              "var gd = document.getElementById('924cbf92-1a0e-478d-93dd-ef13adb8db5e');\n",
              "var x = new MutationObserver(function (mutations, observer) {{\n",
              "        var display = window.getComputedStyle(gd).display;\n",
              "        if (!display || display === 'none') {{\n",
              "            console.log([gd, 'removed!']);\n",
              "            Plotly.purge(gd);\n",
              "            observer.disconnect();\n",
              "        }}\n",
              "}});\n",
              "\n",
              "// Listen for the removal of the full notebook cells\n",
              "var notebookContainer = gd.closest('#notebook-container');\n",
              "if (notebookContainer) {{\n",
              "    x.observe(notebookContainer, {childList: true});\n",
              "}}\n",
              "\n",
              "// Listen for the clearing of the current output cell\n",
              "var outputEl = gd.closest('.output');\n",
              "if (outputEl) {{\n",
              "    x.observe(outputEl, {childList: true});\n",
              "}}\n",
              "\n",
              "                        })\n",
              "                };\n",
              "                \n",
              "            </script>\n",
              "        </div>\n",
              "</body>\n",
              "</html>"
            ]
          },
          "metadata": {
            "tags": []
          }
        }
      ]
    },
    {
      "cell_type": "code",
      "metadata": {
        "id": "9KZJATw-6Jdi",
        "colab_type": "code",
        "colab": {
          "base_uri": "https://localhost:8080/",
          "height": 617
        },
        "outputId": "33ef85f5-4b27-4a53-9266-4e82432d7152"
      },
      "source": [
        "fig = px.scatter_3d(results, x = 'LONGITUDE', y = 'LATITUDE', z = 'FLOOR', color = \"BUILDINGID\")\n",
        "fig.show()"
      ],
      "execution_count": 42,
      "outputs": [
        {
          "output_type": "display_data",
          "data": {
            "text/html": [
              "<html>\n",
              "<head><meta charset=\"utf-8\" /></head>\n",
              "<body>\n",
              "    <div>\n",
              "            <script src=\"https://cdnjs.cloudflare.com/ajax/libs/mathjax/2.7.5/MathJax.js?config=TeX-AMS-MML_SVG\"></script><script type=\"text/javascript\">if (window.MathJax) {MathJax.Hub.Config({SVG: {font: \"STIX-Web\"}});}</script>\n",
              "                <script type=\"text/javascript\">window.PlotlyConfig = {MathJaxConfig: 'local'};</script>\n",
              "        <script src=\"https://cdn.plot.ly/plotly-latest.min.js\"></script>    \n",
              "            <div id=\"b16eec13-01a4-4d62-b9b5-8bb07617ec0f\" class=\"plotly-graph-div\" style=\"height:600px; width:100%;\"></div>\n",
              "            <script type=\"text/javascript\">\n",
              "                \n",
              "                    window.PLOTLYENV=window.PLOTLYENV || {};\n",
              "                    \n",
              "                if (document.getElementById(\"b16eec13-01a4-4d62-b9b5-8bb07617ec0f\")) {\n",
              "                    Plotly.newPlot(\n",
              "                        'b16eec13-01a4-4d62-b9b5-8bb07617ec0f',\n",
              "                        [{\"hoverlabel\": {\"namelength\": 0}, \"hovertemplate\": \"LONGITUDE=%{x}<br>LATITUDE=%{y}<br>FLOOR=%{z}<br>BUILDINGID=%{marker.color}\", \"legendgroup\": \"\", \"marker\": {\"color\": [1, 2, 2, 2, 0, 2, 2, 2, 2, 2, 2, 2, 2, 2, 2, 2, 1, 2, 2, 2, 1, 0, 2, 2, 1, 1, 2, 2, 0, 0, 0, 1, 1, 1, 1, 1, 1, 1, 1, 1, 1, 1, 1, 1, 1, 1, 1, 2, 2, 2, 0, 0, 0, 0, 0, 0, 0, 0, 0, 0, 0, 0, 0, 0, 0, 0, 0, 0, 0, 0, 0, 0, 0, 0, 0, 0, 0, 0, 0, 0, 0, 0, 0, 0, 0, 1, 0, 0, 0, 0, 0, 0, 0, 0, 0, 0, 0, 1, 0, 0, 0, 0, 0, 0, 0, 0, 0, 0, 0, 0, 0, 0, 0, 0, 0, 0, 0, 0, 0, 0, 0, 0, 0, 0, 0, 0, 0, 0, 0, 0, 0, 0, 1, 1, 1, 0, 0, 0, 0, 0, 0, 0, 0, 0, 0, 0, 0, 0, 0, 0, 0, 0, 0, 0, 0, 0, 0, 0, 0, 0, 0, 1, 1, 0, 0, 0, 0, 0, 0, 0, 0, 0, 0, 0, 0, 0, 0, 0, 0, 0, 0, 0, 0, 0, 0, 0, 0, 0, 0, 0, 0, 0, 0, 0, 0, 0, 0, 0, 0, 0, 0, 0, 0, 0, 0, 0, 0, 0, 0, 0, 0, 0, 0, 0, 0, 0, 0, 0, 0, 0, 0, 0, 0, 0, 0, 0, 0, 0, 0, 0, 0, 0, 0, 1, 1, 1, 1, 1, 1, 1, 1, 1, 1, 1, 1, 0, 0, 0, 0, 0, 0, 0, 0, 0, 0, 0, 0, 0, 0, 0, 0, 0, 0, 0, 0, 0, 0, 0, 0, 0, 0, 0, 0, 0, 0, 0, 0, 0, 0, 0, 0, 0, 0, 0, 0, 0, 0, 0, 0, 0, 0, 0, 0, 0, 0, 1, 1, 1, 1, 1, 1, 1, 1, 1, 1, 1, 1, 1, 1, 1, 1, 0, 0, 0, 0, 0, 0, 0, 0, 0, 0, 0, 0, 0, 0, 0, 0, 0, 0, 0, 0, 0, 2, 2, 2, 2, 2, 2, 2, 2, 2, 2, 1, 1, 1, 1, 0, 0, 0, 0, 0, 0, 0, 0, 0, 0, 0, 0, 1, 1, 1, 1, 1, 1, 1, 1, 0, 0, 0, 0, 0, 0, 0, 1, 0, 0, 0, 0, 0, 0, 0, 0, 0, 0, 0, 0, 0, 0, 0, 0, 0, 0, 0, 0, 0, 0, 0, 0, 0, 0, 0, 0, 0, 0, 0, 1, 0, 0, 0, 0, 0, 1, 0, 0, 0, 0, 0, 0, 0, 0, 0, 0, 0, 0, 0, 0, 1, 0, 0, 0, 0, 0, 0, 0, 0, 0, 1, 0, 0, 1, 1, 0, 0, 0, 0, 0, 1, 0, 0, 0, 0, 1, 0, 1, 0, 0, 0, 1, 1, 1, 0, 0, 0, 0, 0, 0, 0, 0, 0, 0, 0, 0, 0, 0, 0, 0, 0, 0, 0, 1, 0, 0, 0, 0, 0, 1, 0, 0, 0, 0, 0, 0, 0, 0, 0, 0, 0, 0, 1, 0, 0, 0, 0, 0, 0, 0, 0, 0, 0, 0, 0, 0, 0, 0, 1, 1, 0, 0, 0, 0, 0, 0, 0, 0, 0, 0, 1, 0, 1, 0, 0, 0, 1, 0, 0, 0, 0, 0, 0, 0, 1, 1, 0, 1, 0, 0, 0, 0, 0, 1, 0, 1, 0, 0, 0, 0, 0, 1, 0, 0, 1, 0, 1, 1, 0, 0, 0, 1, 0, 0, 1, 0, 0, 0, 0, 0, 1, 0, 0, 0, 1, 0, 0, 0, 0, 0, 1, 0, 1, 0, 1, 0, 0, 0, 0, 0, 0, 0, 0, 0, 1, 0, 1, 0, 0, 0, 0, 0, 0, 1, 0, 0, 0, 1, 0, 0, 0, 1, 0, 1, 0, 0, 0, 0, 1, 0, 0, 0, 0, 0, 0, 1, 1, 0, 0, 0, 0, 0, 0, 1, 0, 1, 0, 0, 0, 0, 0, 1, 0, 0, 0, 0, 1, 0, 1, 0, 0, 0, 0, 1, 0, 1, 0, 1, 0, 0, 0, 1, 0, 1, 0, 1, 1, 0, 0, 1, 1, 0, 1, 1, 1, 1, 0, 1, 1, 0, 1, 0, 1, 0, 1, 1, 1, 1, 0, 1, 0, 0, 1, 0, 1, 1, 1, 1, 1, 1, 1, 1, 1, 1, 1, 1, 1, 1, 1, 1, 2, 1, 1, 1, 1, 1, 1, 1, 1, 2, 1, 1, 1, 1, 1, 1, 1, 1, 1, 1, 1, 1, 1, 1, 1, 1, 1, 1, 1, 1, 2, 1, 1, 2, 2, 1, 2, 1, 1, 1, 1, 1, 0, 1, 0, 1, 1, 1, 1, 1, 1, 1, 1, 1, 1, 1, 1, 1, 2, 1, 2, 1, 1, 1, 1, 2, 2, 2, 1, 1, 1, 2, 1, 2, 1, 1, 1, 1, 1, 1, 1, 1, 2, 1, 1, 1, 1, 1, 1, 2, 1, 1, 2, 1, 1, 1, 1, 2, 2, 2, 1, 2, 1, 1, 1, 1, 1, 2, 2, 2, 1, 1, 2, 2, 1, 1, 2, 1, 2, 1, 2, 2, 1, 1, 2, 2, 2, 2, 1, 2, 2, 2, 2, 1, 1, 1, 2, 2, 2, 1, 1, 2, 2, 1, 1, 1, 2, 2, 2, 2, 2, 1, 2, 2, 2, 2, 2, 2, 2, 2, 1, 2, 2, 1, 2, 2, 2, 2, 2, 2, 2, 2, 2, 2, 2, 2, 2, 2, 2, 2, 2, 2, 2, 2, 2, 2, 2, 2, 2, 2, 2, 2, 2, 1, 2, 2, 2, 2, 2, 1, 1, 2, 2, 2, 2, 1, 1, 2, 2, 2, 1, 2, 2, 2, 2, 1, 1, 2, 2, 2, 2, 2, 2, 2, 2, 2, 2, 2, 2, 2, 2, 1, 2, 2, 2, 2, 2, 2, 2, 2, 2, 2, 2, 2, 2, 2, 1, 2, 2, 2, 2, 1, 2, 1, 2, 2, 2, 2, 2, 2, 2, 2, 2, 2, 2, 2, 1, 2, 2, 2, 1, 2, 2, 2, 2, 2, 2, 2, 2, 2, 2, 2, 2, 2, 2, 2, 2, 2, 2, 2, 2, 2, 2, 2, 2, 2, 1, 2, 2, 2, 2, 2, 2, 2, 2, 2, 2, 2, 2, 1, 2, 2, 2, 2, 2, 2, 2, 2, 2, 2, 2, 2, 2, 2, 2, 2, 2, 0, 0, 0, 0, 0, 0, 0, 1, 1, 1, 1, 1, 1, 1, 1, 1, 1, 1, 1, 1, 1, 1, 1, 1, 1, 1, 1, 1, 1, 1, 1, 1, 1, 1, 1, 2, 2, 2, 2, 2, 2, 2, 2, 2, 2, 2, 2, 2, 2, 2, 2, 2, 2, 2, 2, 2, 2, 2, 2, 2, 2, 2, 2, 2, 2, 0, 0, 0], \"coloraxis\": \"coloraxis\", \"symbol\": \"circle\"}, \"mode\": \"markers\", \"name\": \"\", \"scene\": \"scene\", \"showlegend\": false, \"type\": \"scatter3d\", \"x\": [4266916.859584933, 4266906.847074615, 4266921.2046859795, 4266923.43593334, 4266859.651871479, 4266925.318342777, 4266924.819051359, 4266862.69229154, 4266859.2720845835, 4266922.442882164, 4266859.047340149, 4266922.219367284, 4266924.521041927, 4266859.896585082, 4266910.935977967, 4266922.82208238, 4266869.936686237, 4266853.780747725, 4266863.722022158, 4266924.367773317, 4266862.11667971, 4266942.585955377, 4266852.687630312, 4266852.548164959, 4266853.870371258, 4266855.017973474, 4266920.394417318, 4266908.616531523, 4266853.041210004, 4266867.091009417, 4266941.911650477, 4266911.19326186, 4266916.193034109, 4266938.819442561, 4266941.879929616, 4266920.045953363, 4266869.107699722, 4266849.110556468, 4266849.094711931, 4266849.097204272, 4266924.193284077, 4266940.359682328, 4266909.75029261, 4266910.70300865, 4266909.204844218, 4266936.697314892, 4266869.933535884, 4266922.210857994, 4266921.270403629, 4266919.092976865, 4266851.0602323115, 4266882.726334605, 4266854.015983826, 4266902.55895802, 4266929.730305963, 4266942.345843278, 4266939.133733279, 4266927.481143829, 4266923.4572426425, 4266942.72627606, 4266923.004269982, 4266844.928885555, 4266851.368227555, 4266851.647185849, 4266850.410486882, 4266854.064174685, 4266851.462299001, 4266894.694487982, 4266865.990567874, 4266861.110584229, 4266864.8722045785, 4266861.048451891, 4266865.761592688, 4266865.177250113, 4266863.28794777, 4266863.580353576, 4266853.485304205, 4266853.485304205, 4266852.595316233, 4266865.467745853, 4266919.885495172, 4266923.337229646, 4266927.89840063, 4266920.812919967, 4266920.976863474, 4266891.150195473, 4266921.771679262, 4266921.727808867, 4266922.593675405, 4266923.668350656, 4266924.109363664, 4266935.052210009, 4266938.77604555, 4266926.367008218, 4266936.713925759, 4266931.236404079, 4266930.015879577, 4266913.784270656, 4266919.046422754, 4266844.96977773, 4266863.161941549, 4266866.583565286, 4266889.5917721335, 4266851.743307145, 4266942.391376675, 4266924.954958888, 4266926.010773467, 4266931.69507715, 4266931.398159814, 4266934.35283134, 4266937.474786316, 4266936.603690939, 4266936.136826879, 4266886.360232319, 4266882.205284022, 4266869.878673553, 4266927.779862906, 4266930.488955075, 4266931.333720742, 4266931.4811537, 4266936.037643314, 4266936.067189454, 4266942.53764149, 4266942.742898213, 4266932.500189768, 4266935.001578286, 4266931.133349239, 4266934.663791734, 4266938.261253219, 4266928.395926363, 4266933.662470573, 4266935.243458839, 4266913.784270655, 4266931.381026648, 4266936.183694625, 4266918.793741617, 4266923.497664608, 4266930.118272882, 4266938.782076085, 4266942.509665305, 4266943.163597619, 4266942.273459759, 4266934.516490579, 4266931.226327922, 4266923.291427251, 4266919.588939924, 4266918.443982973, 4266906.099296768, 4266896.828599158, 4266888.649754463, 4266921.738916894, 4266928.651782879, 4266929.209252787, 4266941.740912861, 4266935.003851694, 4266937.381926568, 4266933.142645217, 4266931.70068148, 4266931.658562453, 4266921.134241805, 4266920.99873674, 4266891.199086163, 4266890.574105068, 4266903.087339101, 4266875.708679105, 4266863.819907592, 4266865.913816339, 4266856.799630138, 4266860.026033852, 4266918.333834467, 4266920.051565678, 4266919.420288696, 4266918.55834558, 4266926.351607946, 4266925.664545515, 4266930.138139496, 4266934.714060976, 4266938.735893684, 4266936.242064179, 4266851.837702006, 4266939.646475961, 4266849.521125966, 4266936.261201934, 4266848.089086986, 4266939.783563484, 4266866.100927784, 4266939.593199382, 4266942.430328178, 4266884.875102613, 4266885.459655861, 4266916.321601759, 4266903.479978212, 4266917.688495772, 4266919.180948926, 4266919.631998266, 4266867.18139628, 4266865.030851307, 4266854.193124687, 4266848.527005801, 4266843.79375314, 4266843.739220377, 4266850.658540205, 4266862.601085268, 4266863.285974202, 4266923.02356614, 4266856.682129956, 4266842.158004302, 4266845.396994127, 4266844.428572577, 4266882.716177962, 4266905.614250948, 4266905.120585211, 4266921.253191053, 4266919.694401729, 4266927.2692073, 4266937.741905469, 4266934.331215352, 4266920.044686929, 4266924.434686214, 4266940.263714675, 4266928.517390591, 4266929.113301831, 4266929.295967082, 4266934.688397353, 4266920.715220946, 4266931.967800452, 4266936.182266312, 4266942.780218188, 4266926.013060757, 4266932.247906254, 4266940.0503013795, 4266941.420239703, 4266922.167220725, 4266864.966624699, 4266855.354489376, 4266854.011723513, 4266853.86124028, 4266891.351333957, 4266862.435581247, 4266856.164478324, 4266856.0203373, 4266852.43262441, 4266890.238812288, 4266890.665715325, 4266889.24562136, 4266865.400243841, 4266865.707392542, 4266873.882554935, 4266894.0656959405, 4266918.925840385, 4266918.277529928, 4266923.341519835, 4266845.423897569, 4266847.228804117, 4266848.403891272, 4266857.1063810885, 4266866.590816036, 4266865.923309084, 4266863.413834046, 4266863.259133669, 4266863.736171791, 4266865.078529848, 4266860.563844662, 4266851.141420436, 4266848.787254553, 4266851.425625626, 4266852.556326562, 4266851.444041786, 4266846.764744914, 4266882.715058653, 4266904.020977969, 4266905.047282231, 4266919.2871218845, 4266922.343672405, 4266920.85746007, 4266918.933539038, 4266928.778441119, 4266927.06013519, 4266932.676776249, 4266937.472900932, 4266934.4481790215, 4266935.97632749, 4266938.759728844, 4266918.999318046, 4266903.991485236, 4266904.051617865, 4266902.591354665, 4266902.997144775, 4266905.610797214, 4266924.213257283, 4266921.344428415, 4266893.984933353, 4266882.72060999, 4266886.794322133, 4266936.899198982, 4266930.744691795, 4266942.507703844, 4266943.056397681, 4266929.870705325, 4266947.651671783, 4266947.651671782, 4266947.809404286, 4266926.660315365, 4266926.0722753145, 4266907.741963096, 4266907.7290541055, 4266913.792834308, 4266906.725818573, 4266922.3215999855, 4266922.840968456, 4266945.033148332, 4266932.611835026, 4266933.550023711, 4266932.30276294, 4266931.925998454, 4266933.778431451, 4266934.665816698, 4266936.812705527, 4266942.023470783, 4266929.8972603865, 4266930.129740343, 4266928.88440012, 4266922.859938126, 4266923.888805503, 4266921.611564007, 4266922.75217024, 4266921.603558807, 4266919.391068355, 4266918.62002987, 4266918.513327562, 4266925.169009301, 4266923.817202553, 4266904.359297949, 4266909.001392641, 4266906.156635532, 4266919.051582885, 4266910.451337035, 4266923.245522887, 4266921.67145761, 4266927.564176773, 4266915.596465833, 4266908.185121188, 4266911.247868348, 4266938.935914083, 4266890.552272813, 4266927.552117739, 4266930.268539508, 4266928.604448329, 4266939.122260781, 4266933.121100304, 4266937.466400077, 4266933.11131656, 4266929.097759048, 4266932.336104362, 4266921.195936024, 4266881.930323668, 4266849.791903952, 4266849.810393504, 4266867.754290875, 4266868.079153603, 4266867.622343323, 4266868.488664497, 4266869.906284958, 4266868.918054882, 4266869.263108178, 4266868.951432214, 4266858.860747047, 4266862.249261341, 4266863.812887094, 4266856.727869841, 4266856.786436355, 4266856.933527112, 4266856.635845083, 4266907.702025721, 4266856.0907152025, 4266855.556723993, 4266856.894666641, 4266866.712593574, 4266856.224486301, 4266889.871833971, 4266900.584788938, 4266903.67184314, 4266904.413312116, 4266896.766683797, 4266900.907218235, 4266926.569264614, 4266905.599807455, 4266881.020952368, 4266904.056517762, 4266918.658941547, 4266868.146322082, 4266928.43520461, 4266919.683144108, 4266865.423176158, 4266930.438230328, 4266918.845992743, 4266855.014511162, 4266931.338884598, 4266918.944970735, 4266931.213961299, 4266920.751019515, 4266942.573365557, 4266926.292933037, 4266847.974278137, 4266869.8786735535, 4266869.922185127, 4266931.970810735, 4266848.516985956, 4266933.739819763, 4266933.690536642, 4266942.534678302, 4266853.27513808, 4266846.973998285, 4266935.864443936, 4266937.740631237, 4266889.7420907905, 4266855.503233799, 4266938.035798764, 4266861.534845929, 4266932.86551654, 4266934.918698319, 4266936.74046742, 4266847.6674806345, 4266936.90746673, 4266919.0580685, 4266849.274908719, 4266877.634245343, 4266935.389668844, 4266926.903822465, 4266933.312583239, 4266854.149957221, 4266851.432538729, 4266919.698791665, 4266850.787128529, 4266856.227359249, 4266931.66971277, 4266908.416225546, 4266855.970022877, 4266919.36736211, 4266869.467060582, 4266933.250005453, 4266926.324804359, 4266865.645844673, 4266863.831049636, 4266865.282573395, 4266921.495733024, 4266851.288097877, 4266924.052926912, 4266936.02213327, 4266936.46919998, 4266866.963462312, 4266852.014119949, 4266931.323001446, 4266937.103314503, 4266939.072721288, 4266865.330133874, 4266920.075130548, 4266940.147219825, 4266941.546772976, 4266853.805274025, 4266880.434372993, 4266858.488518391, 4266934.591613938, 4266850.3138302, 4266855.7558872085, 4266881.623904782, 4266865.177972754, 4266918.525477405, 4266930.729181037, 4266939.347099219, 4266854.5790229095, 4266867.579997073, 4266930.307176348, 4266854.538831334, 4266922.918752117, 4266933.393510256, 4266867.322535647, 4266933.899398646, 4266849.0154025825, 4266942.513485718, 4266854.735737255, 4266858.744521857, 4266854.1830986915, 4266919.210008455, 4266931.097338744, 4266902.19646187, 4266935.549461103, 4266939.722853631, 4266861.917430044, 4266850.438033868, 4266905.516836927, 4266860.129959954, 4266942.508678973, 4266860.716169219, 4266861.751884053, 4266900.947022436, 4266858.270140933, 4266849.901373961, 4266903.45239868, 4266854.382476813, 4266848.462726326, 4266855.216461819, 4266848.920183523, 4266933.933496737, 4266938.797830038, 4266849.128082287, 4266865.7803420285, 4266851.510502216, 4266860.955036047, 4266849.49494307, 4266855.147651695, 4266938.06690226, 4266855.308237457, 4266849.207650466, 4266915.611869225, 4266887.5055214325, 4266852.732234059, 4266849.108018014, 4266849.740497213, 4266849.102827875, 4266939.057474313, 4266849.241911802, 4266848.4739299, 4266854.282612998, 4266897.156314969, 4266930.569980491, 4266874.403802166, 4266844.639944716, 4266901.570093393, 4266942.201490179, 4266930.009861694, 4266902.703972636, 4266873.292008451, 4266850.131281075, 4266869.644639023, 4266925.356459476, 4266864.972447958, 4266925.045000502, 4266869.402433868, 4266851.318363123, 4266900.157019565, 4266867.90351825, 4266859.0258140545, 4266869.114340153, 4266919.227914669, 4266930.843325151, 4266866.071791295, 4266862.404457841, 4266882.729189798, 4266876.787823274, 4266903.467719456, 4266854.061008728, 4266854.8155883225, 4266920.461831162, 4266924.949036876, 4266865.144179207, 4266911.70986471, 4266853.996309339, 4266932.4557862915, 4266849.701514168, 4266853.896016359, 4266924.928033137, 4266852.502821396, 4266852.716992358, 4266937.852873662, 4266929.517186799, 4266861.8800279135, 4266912.197368015, 4266849.188276514, 4266939.713224402, 4266869.1024876265, 4266932.183006464, 4266862.353108246, 4266864.901567754, 4266860.54901778, 4266934.690031184, 4266915.676253934, 4266849.630394063, 4266849.75364032, 4266852.297036128, 4266927.875806927, 4266843.613457076, 4266935.739225892, 4266903.467719456, 4266848.066504569, 4266916.8018606715, 4266915.685615579, 4266927.311848741, 4266910.835558927, 4266852.929740745, 4266927.272348954, 4266848.024735187, 4266862.246006047, 4266933.87355458, 4266844.506140162, 4266932.822023164, 4266930.455885666, 4266855.021344697, 4266854.6612390075, 4266921.525220753, 4266894.282759802, 4266937.350785277, 4266887.208848811, 4266843.230168516, 4266903.18002842, 4266935.2806955315, 4266872.211493662, 4266933.357003665, 4266935.895592155, 4266904.901241158, 4266879.813393694, 4266938.350716704, 4266850.329999236, 4266947.724490585, 4266902.613258919, 4266872.211493662, 4266935.445115956, 4266910.058410145, 4266847.852780635, 4266936.603739747, 4266874.159104415, 4266852.886339218, 4266920.631335298, 4266922.448504, 4266926.788585282, 4266918.446700148, 4266937.736652568, 4266847.973166914, 4266865.17905852, 4266855.101106346, 4266865.067104883, 4266942.658267042, 4266946.938529088, 4266859.541815154, 4266854.910223791, 4266932.136009185, 4266938.101067386, 4266920.251300546, 4266842.440358092, 4266851.871027985, 4266935.974153835, 4266905.111620959, 4266864.078271933, 4266849.711249084, 4266940.17010834, 4266931.154006505, 4266865.293847927, 4266857.933127883, 4266855.335800028, 4266910.830309549, 4266857.287443947, 4266868.386688696, 4266936.973369352, 4266886.783395389, 4266908.302702604, 4266918.5222863, 4266849.657999163, 4266856.655813376, 4266920.712433322, 4266862.498924502, 4266889.257116344, 4266869.104937285, 4266925.803489129, 4266926.313966025, 4266862.255891665, 4266848.5342461, 4266934.139163344, 4266907.695062996, 4266935.328309143, 4266850.405879722, 4266886.651239054, 4266908.387224858, 4266869.930932136, 4266939.56080212, 4266938.503064724, 4266849.131663781, 4266887.208848811, 4266938.542351417, 4266928.166151208, 4266863.058179349, 4266851.900972019, 4266922.499665548, 4266852.556557002, 4266869.111226713, 4266910.4853659645, 4266882.712050901, 4266935.832639993, 4266929.790412521, 4266862.5397528075, 4266865.877889374, 4266867.675061486, 4266855.10349979, 4266852.682923334, 4266931.432490543, 4266854.089844859, 4266850.949991764, 4266844.382488142, 4266843.731938764, 4266906.006922981, 4266848.672810414, 4266863.850312819, 4266876.547136089, 4266910.765116295, 4266865.43498456, 4266853.824215109, 4266927.965427355, 4266874.420305116, 4266868.3524123775, 4266876.251539333, 4266875.57058683, 4266932.110757783, 4266908.465988274, 4266922.753647339, 4266855.082111373, 4266869.931981407, 4266927.355139473, 4266914.0886480175, 4266926.759795333, 4266851.470609976, 4266896.975064343, 4266922.431312523, 4266852.2416550005, 4266940.882656317, 4266852.518561268, 4266876.060392019, 4266924.6175326705, 4266853.886169657, 4266938.462331776, 4266887.693010548, 4266876.168756565, 4266913.100229494, 4266911.913393497, 4266880.111182521, 4266871.996760363, 4266909.046212257, 4266902.383370344, 4266877.066429148, 4266911.1963663725, 4266911.758781917, 4266928.0374811385, 4266911.530262661, 4266932.265743195, 4266877.066429148, 4266923.89349571, 4266900.958837425, 4266856.075945908, 4266873.977068932, 4266929.51841024, 4266856.22056727, 4266864.923701278, 4266859.48976162, 4266927.587563134, 4266859.646233423, 4266869.113154079, 4266909.543888669, 4266915.697560015, 4266900.272331201, 4266914.362794702, 4266936.334602691, 4266913.213140738, 4266936.403491304, 4266849.1016093055, 4266873.296453334, 4266926.658557285, 4266849.788661021, 4266869.560203918, 4266914.215758999, 4266875.577910843, 4266927.10445334, 4266875.293268766, 4266853.287005333, 4266853.978837712, 4266884.442829484, 4266853.875143763, 4266921.286751531, 4266856.188339045, 4266859.627948129, 4266857.346531273, 4266852.716392956, 4266862.0215944005, 4266855.201211098, 4266859.54816439, 4266921.621038621, 4266858.069684419, 4266909.726583553, 4266851.167769743, 4266873.279579664, 4266921.384085009, 4266946.938529088, 4266859.386172996, 4266893.630394442, 4266921.82117817, 4266873.271135929, 4266915.889417576, 4266926.744789039, 4266923.507072837, 4266876.074431743, 4266890.716760316, 4266867.624741832, 4266853.933106841, 4266908.038909224, 4266926.227098563, 4266862.79383956, 4266858.392501442, 4266853.9369898, 4266920.248437404, 4266909.016393496, 4266869.107920829, 4266865.754528696, 4266919.7728094, 4266942.65959605, 4266863.402063018, 4266858.545339853, 4266862.008103976, 4266924.261997044, 4266868.1260434305, 4266876.549190077, 4266925.239559915, 4266895.5658962475, 4266868.746430951, 4266872.991386612, 4266862.864906519, 4266869.103677255, 4266870.85882192, 4266919.685987413, 4266931.79461736, 4266862.762560747, 4266869.108149717, 4266923.743949873, 4266918.793234398, 4266866.936542792, 4266855.879510833, 4266928.588195693, 4266849.121611248, 4266922.531800345, 4266849.121797769, 4266924.977076695, 4266924.498022345, 4266915.6039466, 4266872.5589924585, 4266926.216774861, 4266857.552549038, 4266862.935515023, 4266924.827203694, 4266866.335582051, 4266922.813139269, 4266920.54518741, 4266922.386809789, 4266861.61515493, 4266909.512522729, 4266903.116015644, 4266929.053298309, 4266924.192047635, 4266923.7142946655, 4266860.577760133, 4266922.4544286905, 4266914.391142912, 4266869.950604459, 4266921.970616779, 4266942.664704184, 4266926.543295836, 4266914.7391119115, 4266906.972615788, 4266922.411572419, 4266925.454717904, 4266867.001119687, 4266922.361469373, 4266913.100054107, 4266924.169811482, 4266915.588246717, 4266923.215257624, 4266923.4184925025, 4266921.276481418, 4266868.618522406, 4266921.802815232, 4266922.774060736, 4266898.456810066, 4266917.531661126, 4266926.85060028, 4266878.64495829, 4266922.562837174, 4266914.518353352, 4266908.397494732, 4266923.483778886, 4266922.130387678, 4266922.862070273, 4266920.137343649, 4266922.624745089, 4266891.418288523, 4266913.949450803, 4266921.860122994, 4266907.012058027, 4266921.643966753, 4266873.224412353, 4266915.672886828, 4266922.112106482, 4266921.336065086, 4266864.533407141, 4266917.806404486, 4266905.222652322, 4266923.7146295365, 4266921.861673814, 4266920.374443852, 4266861.241988487, 4266919.645245906, 4266850.409683831, 4266868.383260406, 4266923.625617769, 4266908.260338103, 4266913.0026618205, 4266919.778938741, 4266909.831543248, 4266922.2283897, 4266867.571554577, 4266919.243814581, 4266940.710586399, 4266932.123293292, 4266915.845189986, 4266859.206469151, 4266861.200006781, 4266925.901743652, 4266937.54176319, 4266931.639430022, 4266908.833930115, 4266911.194863321, 4266892.149280467, 4266926.569568878, 4266874.634243827, 4266907.196602273, 4266917.313274687, 4266922.106467693, 4266925.355953992, 4266935.848189676, 4266921.265859783, 4266921.659683204, 4266859.193513704, 4266913.53613917, 4266904.817649633, 4266921.713661868, 4266921.659683204, 4266851.189696796, 4266910.12289065, 4266920.410713894, 4266905.883811437, 4266921.350488853, 4266922.186816754, 4266921.6105959155, 4266907.74138229, 4266872.780393809, 4266922.930460874, 4266922.599829867, 4266921.321837839, 4266916.164944852, 4266859.645783819, 4266921.762586038, 4266924.903438855, 4266922.896298519, 4266921.681741855, 4266907.720506915, 4266905.1913792435, 4266921.348518188, 4266873.021166326, 4266910.37496738, 4266875.943963454, 4266856.118586295, 4266860.894953201, 4266861.061010912, 4266921.89664114, 4266859.585068543, 4266924.589598106, 4266857.107764818, 4266860.676608945, 4266867.578302654, 4266921.4023424955, 4266859.913295651, 4266860.87872544, 4266867.776548763, 4266849.588745687, 4266909.976966009, 4266921.604124356, 4266915.618141138, 4266859.3222880345, 4266924.269049469, 4266859.316823806, 4266857.836079969, 4266921.920760768, 4266927.889676807, 4266921.8395961635, 4266909.976966009, 4266858.686584847, 4266857.6611520955, 4266922.591332502, 4266888.320033917, 4266909.976966009, 4266857.674047132, 4266853.137290968, 4266873.406138375, 4266905.605559073, 4266852.51426624, 4266922.385149222, 4266855.1029052995, 4266917.584447809, 4266905.240264216, 4266850.8315688195, 4266922.379568552, 4266858.621885936, 4266922.290083389, 4266922.293408683, 4266856.09297004, 4266920.185930187, 4266911.036300552, 4266860.254070035, 4266869.583150053, 4266856.69337009, 4266922.989345483, 4266921.841535271, 4266922.534122902, 4266922.856735838, 4266863.538467655, 4266921.878229088, 4266922.176435875, 4266924.977040597, 4266924.186593322, 4266876.01749771, 4266878.476328878, 4266869.918419504, 4266930.574920853, 4266921.572497079, 4266910.435571106, 4266914.898636579, 4266919.915470174, 4266925.289538806, 4266930.1407269025, 4266920.549902791, 4266912.524917101, 4266915.239176301, 4266871.633620828, 4266911.054241859, 4266919.915990833, 4266908.149875423, 4266920.279291354, 4266923.858969181, 4266922.015823127, 4266939.062845695, 4266846.452648459, 4266935.821752217, 4266861.173025696, 4266866.372993477, 4266848.9709947035, 4266937.144342978, 4266912.879496879, 4266938.094438183, 4266890.622199917, 4266876.550284229, 4266891.824193351, 4266918.824867008, 4266918.432922244, 4266926.212158915, 4266930.407227859, 4266918.906192923, 4266942.653558249, 4266942.649706123, 4266946.913368735, 4266869.106233761, 4266869.104833114, 4266869.1114283, 4266909.861748557, 4266928.350251034, 4266937.0307933185, 4266942.657129012, 4266942.667751191, 4266928.363108821, 4266924.665609757, 4266941.468312442, 4266939.589238523, 4266889.151861096, 4266869.933516792, 4266855.843970579, 4266906.302770607, 4266921.546622294, 4266922.637329565, 4266921.810037419, 4266922.621900137, 4266860.5851148255, 4266863.917755118, 4266856.790955432, 4266853.563766945, 4266850.445138804, 4266849.345078236, 4266856.030869328, 4266856.275109339, 4266856.108538845, 4266856.25088692, 4266864.722908658, 4266856.109766729, 4266852.432225909, 4266854.268344189, 4266854.958733703, 4266864.441442992, 4266907.233479542, 4266919.642626875, 4266923.652571702, 4266923.548723244, 4266923.913521847, 4266921.308596481, 4266918.89712202, 4266904.353772633, 4266909.823774825, 4266852.677817137, 4266853.5733040925, 4266852.435474172], \"y\": [2336871.8767676884, 2336706.436116477, 2336701.070077511, 2336689.159670036, 2336972.8011279353, 2336643.4123206967, 2336691.8327983827, 2336629.786783707, 2336643.9519526227, 2336672.1360264155, 2336635.291174313, 2336698.5299839643, 2336703.769487975, 2336625.420126552, 2336704.023545501, 2336679.564286397, 2336879.9192027054, 2336704.782495495, 2336704.3196195695, 2336690.937130336, 2336877.461048895, 2336952.2086892314, 2336704.789388669, 2336704.790337607, 2336872.8120425455, 2336873.72113566, 2336702.4116229424, 2336707.90732675, 2337006.1311834455, 2336979.8359891437, 2337013.091333616, 2336872.311827732, 2336876.982920518, 2336878.168849652, 2336878.111373955, 2336756.952641192, 2336762.136747334, 2336761.411386651, 2336757.6217561075, 2336758.48490513, 2336758.0376379057, 2336762.061398389, 2336872.8442528914, 2336874.7638922725, 2336875.7943963422, 2336883.7580044563, 2336878.908616785, 2336689.4311413714, 2336640.652770461, 2336638.6044866177, 2337008.283452786, 2336983.7545662015, 2336962.8225908075, 2336983.0240090084, 2336966.09292259, 2336952.5534734665, 2336954.8005539514, 2336967.781738244, 2336971.3066839105, 2336952.2463740255, 2336972.192431671, 2337013.216870566, 2337007.367828173, 2337008.4154952797, 2337008.779271826, 2337005.0664357906, 2337006.8853059043, 2336983.3760134485, 2336979.3329643896, 2336996.7612549206, 2336990.2630565464, 2336998.9340099096, 2336974.67166081, 2336974.5958132176, 2336974.8537852326, 2336973.4414285095, 2336962.887486072, 2336962.887486072, 2336962.026282347, 2336979.9333509756, 2336975.5639308323, 2336976.136056097, 2336966.8377506514, 2336989.538637855, 2336990.1710685464, 2336791.1139057353, 2336971.4896083903, 2336971.4899328873, 2336972.0651433333, 2336970.369811818, 2336969.3272562334, 2336958.2196750324, 2336955.4543234874, 2336999.910635116, 2336956.6192737143, 2336961.8921589344, 2336963.649001914, 2336888.33471455, 2336982.368366449, 2337013.1883563357, 2336994.2840579436, 2336991.301519445, 2336981.30354473, 2336961.4436229556, 2336952.3917441773, 2336998.466394094, 2336999.906803751, 2337005.438514856, 2337004.440420323, 2337007.4864828815, 2337009.684349444, 2337009.2168225115, 2337009.1652792827, 2336979.5985041154, 2336983.161778542, 2336983.6394593962, 2336964.9638871364, 2336963.7586729075, 2336962.343033591, 2336962.06320978, 2336958.5251715695, 2336957.5116577293, 2336952.4353899513, 2336952.23156191, 2336960.3478339557, 2336959.1581905177, 2336962.831583213, 2336958.5262049465, 2336955.80238345, 2337002.252128603, 2336959.7695311387, 2336958.4134188043, 2336888.33471455, 2336875.9569142535, 2336870.6226589927, 2336989.597622436, 2336997.339070505, 2337003.7758000945, 2337010.2492888337, 2337014.1363125267, 2337014.723161141, 2337013.925967621, 2337007.540100982, 2337005.0491487873, 2336996.9548890004, 2336992.6944734743, 2336984.463081599, 2336984.2726240135, 2336982.563554508, 2336981.790108502, 2336973.410235385, 2336966.5008944366, 2336966.1320328936, 2336953.070060306, 2336959.5452546175, 2336957.388089558, 2336961.4061020105, 2336961.476993098, 2336961.900977404, 2336972.4166466775, 2336975.866847518, 2336793.1978423703, 2336792.2441748194, 2336983.254516295, 2336984.9578732075, 2336972.586100551, 2336976.163495998, 2336973.3918987634, 2336968.670797811, 2336989.559028201, 2336991.040304921, 2336988.934286779, 2336984.0200139927, 2337000.309839243, 2336999.6605183342, 2337003.806799555, 2337007.1226246925, 2337010.561458061, 2337008.6276752073, 2336960.1395810414, 2337011.9847030477, 2336958.231052109, 2337009.118329378, 2336957.4696265846, 2337011.9332068483, 2336976.6040351186, 2337010.8717215396, 2337014.2551915552, 2336984.414997556, 2336981.162408505, 2336980.2951505226, 2336983.6226584143, 2336979.667957238, 2336981.9937380967, 2336986.835368128, 2336979.4424377894, 2336992.0484406496, 2337005.3949845564, 2337009.8581196275, 2337013.7650442044, 2337014.317043385, 2337007.8937258944, 2336972.4740909706, 2336974.334275267, 2336972.8156231544, 2336964.8348875674, 2336952.645552496, 2336954.8127239924, 2336954.1731107906, 2336983.0409539724, 2336984.121800146, 2336984.0942495093, 2336977.7220321777, 2336984.031452625, 2337000.7155593312, 2337009.5900249863, 2337007.366444874, 2336980.14475852, 2336969.9497627085, 2337012.007670317, 2336965.5172793344, 2336964.2477050596, 2336964.310116455, 2336959.6846615532, 2336978.8836887176, 2336961.917835653, 2336957.0131033924, 2336952.1828451715, 2336966.988576352, 2336960.6674617, 2336954.908861006, 2336953.3290634733, 2336976.0057142493, 2336821.954239466, 2336822.0191616, 2336822.029116827, 2336822.028318411, 2336814.9188225777, 2336817.5878072195, 2336819.7736515384, 2336820.840714243, 2336816.4234117838, 2336826.7610774687, 2336829.9542591963, 2336831.076993494, 2336975.5397402, 2336975.2292361935, 2336983.2452593464, 2336982.677577926, 2336991.4941652925, 2336990.868954489, 2336992.0684871646, 2336955.9035687195, 2336956.9158581435, 2336957.8094706708, 2336975.710269812, 2336977.048233453, 2336976.058354166, 2336975.694148862, 2336974.870904169, 2336984.0159578836, 2336994.1281213416, 2336999.3526800866, 2337008.075704826, 2337010.3461082717, 2337008.0172746647, 2337007.001782942, 2337007.7838927847, 2337011.437845997, 2336982.799817377, 2336983.4550332823, 2336983.949918881, 2336988.0852176207, 2336981.2405317067, 2336989.3433760805, 2336981.040303989, 2337002.589946924, 2337000.8713178155, 2337004.4322027154, 2337009.4495892804, 2337007.113310675, 2337008.0263136667, 2337010.4513712865, 2336981.7962633297, 2336984.367486371, 2336984.062303751, 2336983.2625643564, 2336983.196483589, 2336983.96173606, 2336995.1197904497, 2336974.657643882, 2336983.4651611517, 2336983.2357601803, 2336981.352149055, 2336956.878027073, 2336875.1484786817, 2336873.595039744, 2336875.026982845, 2336873.803439766, 2336866.6430026744, 2336866.643002675, 2336887.6865380723, 2336877.9125859053, 2336880.695100513, 2336879.631419994, 2336879.0153383706, 2336870.3752245535, 2336760.6835409175, 2336765.6074421066, 2336761.612671611, 2336768.543297405, 2336960.646432023, 2336960.708130335, 2336961.737594421, 2336962.3177285334, 2336959.167903187, 2336958.424697846, 2336958.4263171023, 2336952.778776328, 2336963.5277870046, 2336964.1948762774, 2336964.598780271, 2336971.14722128, 2336971.348051488, 2336975.390730747, 2336972.208533137, 2336979.1632142654, 2336982.0201525497, 2336989.4892128166, 2336988.2225895273, 2336999.2352424217, 2336997.300381318, 2336642.7030318775, 2336619.883791242, 2336622.058243873, 2336624.8120445553, 2336621.815174027, 2336656.1094700433, 2336692.1025453466, 2336705.127299683, 2336706.463444358, 2336707.7612112258, 2336769.646690655, 2336763.530318336, 2336794.572927257, 2336872.2356458935, 2337003.9087954406, 2337002.443207274, 2337011.4389831875, 2337006.8125401866, 2336956.5110256523, 2336961.2122638267, 2336964.1581710153, 2336961.1346955546, 2336972.8564069914, 2336983.47328522, 2337008.660815548, 2337007.823363285, 2336874.3110931613, 2336876.539647111, 2336873.4730881024, 2336880.337097107, 2336877.2607988794, 2336877.245954047, 2336879.216204217, 2336883.3848845856, 2336973.2369494126, 2336974.407824944, 2336977.2537696147, 2336974.6442524153, 2336966.964625353, 2336970.5373625294, 2336973.541441803, 2336877.7160871723, 2336973.830329403, 2336976.1761931763, 2336975.024100213, 2336977.110550423, 2336974.8869552524, 2336982.8938884363, 2336983.172165631, 2336982.674708782, 2336983.2717584786, 2336982.8992818813, 2336982.600848006, 2336965.977723421, 2336984.0587774124, 2336983.962040725, 2336984.3381808246, 2336982.5896212766, 2336983.166279615, 2336964.4850129774, 2336977.096887729, 2336986.7714247582, 2336963.2383857435, 2336993.0840018583, 2337003.440445244, 2336961.6243188465, 2336985.0467316667, 2336962.5144602093, 2336992.747643427, 2336952.395832896, 2336999.8441551467, 2337011.3058557995, 2336982.294550242, 2336876.31865503, 2336961.234819771, 2337009.438523399, 2337006.1123126335, 2337006.264542236, 2336952.435638968, 2336878.071021709, 2337011.444808106, 2336958.558196617, 2337010.464228913, 2336983.4062433112, 2337003.655761234, 2336956.041152361, 2336970.13770648, 2337005.3068042416, 2336959.621751239, 2336957.1697043655, 2337010.611280818, 2337008.5021655937, 2336974.795300534, 2337008.5320296125, 2336819.1046707006, 2337007.9301644457, 2336966.4921960947, 2336961.0508387852, 2336963.265962706, 2337007.046265985, 2336979.068830988, 2337006.7108494705, 2336965.147300868, 2336962.7278223946, 2336880.9623243604, 2337003.068673585, 2336977.7005576226, 2336882.6989729167, 2336873.321199623, 2336966.308572427, 2336989.2476396738, 2336995.3776223697, 2336987.089021046, 2336995.5770452213, 2336880.5431879717, 2336969.672112103, 2336958.689697537, 2336956.8016041596, 2336985.533805061, 2336876.0752723506, 2337003.6023662174, 2336871.735410199, 2336955.8177677603, 2336974.9459610395, 2336976.425061566, 2336873.235988151, 2336766.364833171, 2336877.637075786, 2336984.2153368285, 2336999.1066489653, 2337007.5363842337, 2337008.492249583, 2336965.006894183, 2336983.238141148, 2336990.9720945344, 2336991.5934712947, 2337004.835670792, 2336954.9356119223, 2336964.020410223, 2336985.1053749165, 2336962.9674165156, 2336963.2405866357, 2336979.6201837137, 2337007.1938749305, 2336989.7798919375, 2336960.649216281, 2337009.770907167, 2336761.002211573, 2337004.83662241, 2337000.809578607, 2336963.8370074905, 2336976.9047824345, 2336962.6360743814, 2336865.71311777, 2337006.7119966885, 2336956.2585965656, 2336984.4839955242, 2336959.0840310864, 2336984.780076796, 2336999.404476525, 2336952.4761045524, 2336999.081905022, 2336974.7980655394, 2336983.848046978, 2337001.3187084887, 2336958.51825691, 2336810.631724756, 2337005.0175793553, 2336958.0841858983, 2336963.6290453183, 2336958.4441139745, 2337006.9318992323, 2336956.276101156, 2337009.0527268723, 2336977.062445022, 2336960.5404647067, 2336970.2922791126, 2337009.02018581, 2336963.6806357084, 2337010.7183649633, 2336964.509337976, 2337009.3871265682, 2336818.35245907, 2336815.1830866844, 2336961.791105925, 2337010.2670848444, 2336958.7782530435, 2337010.3977292688, 2337010.7936350787, 2336958.6844983795, 2337010.186075611, 2336962.968470774, 2336983.3160479623, 2336962.261628332, 2336819.3018552507, 2337013.7771221586, 2336827.2353160675, 2337013.8516628663, 2336964.199121321, 2336983.15457517, 2336821.9151819968, 2336958.94910869, 2336983.0834739096, 2336967.2101521296, 2336994.7165579787, 2336970.4791770987, 2336982.5087932516, 2336960.704524138, 2336826.619496092, 2336821.934199751, 2336965.7673609755, 2336763.882461629, 2336975.1368251313, 2337004.1020264537, 2336991.3648598115, 2336973.9066339806, 2336983.935594818, 2336818.735505977, 2336983.9554634145, 2336763.2284772657, 2337001.9127321527, 2336987.31321052, 2336967.9710228574, 2336975.6331155305, 2336983.196198269, 2336822.0293184207, 2336960.7384764524, 2337008.785512292, 2336758.4174935347, 2336998.5005594664, 2336758.356374613, 2336821.4843763635, 2336957.145196389, 2337002.585817354, 2336995.5379474284, 2336821.8902393985, 2337009.7692752746, 2336955.447825504, 2336761.038604816, 2337004.892450748, 2336995.653441859, 2336988.0597823868, 2336999.7104617176, 2337006.7759438865, 2336815.34718639, 2337009.2495223205, 2337008.9082684154, 2337006.8020753004, 2336878.41416275, 2337014.300453526, 2337008.6516903783, 2336983.9554634145, 2337010.668384782, 2336981.465065404, 2336817.4438442816, 2336965.689669458, 2336754.1720799757, 2337006.8767382437, 2336879.4088917403, 2337010.6069113, 2336977.0103559187, 2336960.380271946, 2337013.0666167084, 2337005.6437609117, 2337003.382286925, 2336964.787028257, 2337005.208482301, 2336987.6600552895, 2336795.678166344, 2337009.400967551, 2336774.617469934, 2336954.0152826947, 2336983.592643526, 2337008.6354558184, 2336978.9750872077, 2337006.1146774143, 2336957.986191896, 2336848.572605022, 2336984.9170973115, 2337009.993367197, 2337008.275452028, 2336875.4331944436, 2336984.730499286, 2336978.9750872077, 2336958.142738735, 2336766.1293648235, 2337010.19082207, 2336752.7609315803, 2336983.21817467, 2337005.919022836, 2336975.5632799203, 2336994.8858444146, 2336755.311913278, 2336981.779431245, 2336956.750885888, 2336957.1265354315, 2336989.994121133, 2337004.8883570554, 2336990.66582741, 2336759.782197599, 2336771.5876370003, 2336999.6268772944, 2337004.9445722746, 2336962.810355473, 2336955.93234649, 2336982.4737507273, 2336952.8092354345, 2336885.9186486173, 2336958.708728746, 2336848.062719326, 2336984.759616182, 2336959.6435200837, 2336954.4896861576, 2336963.023771358, 2336985.2669863086, 2336887.7494002245, 2337004.674516959, 2336984.2286388692, 2337002.7632127805, 2336988.226755803, 2336760.6568196923, 2336979.6537642265, 2336875.6740909177, 2336991.5845569414, 2337009.576031784, 2337003.1217380925, 2336975.6944347876, 2336760.319001479, 2336981.890017749, 2336762.0221650135, 2336999.410513375, 2336877.253764041, 2336974.1689272155, 2337010.6915917187, 2337007.493298716, 2336876.875997689, 2337007.4308366864, 2336763.98072784, 2336981.3714310885, 2336875.9758634064, 2336876.825311766, 2337011.284539532, 2337010.669756659, 2336764.9977944535, 2336774.6174699343, 2337010.300909393, 2336886.4485876514, 2336763.01676708, 2336765.914114742, 2336880.514168647, 2337006.8420008263, 2336762.756406791, 2336878.9431708464, 2336982.6133834347, 2336884.4455963275, 2336964.4134344053, 2336821.6866410812, 2336976.1214801096, 2336873.738944977, 2336822.0287078563, 2336820.95201028, 2336875.616059502, 2336963.4284580196, 2336874.834464242, 2336954.207471213, 2336954.0861217533, 2336821.1044247053, 2336958.7853159164, 2336762.967032509, 2336820.525675117, 2336876.2839919305, 2336820.5590517838, 2336821.9892767784, 2336881.608199572, 2336821.3499440732, 2336760.663094467, 2336821.4073280767, 2336821.8816402378, 2336881.0542489304, 2336874.148063667, 2336770.615370479, 2336822.028883968, 2336878.3364931657, 2336875.3132260167, 2336704.530124643, 2336876.166529091, 2336874.705548242, 2336879.3451392394, 2336872.1149787367, 2336875.9102627123, 2336759.269323282, 2336878.4661426037, 2336819.1643511113, 2336671.2578233974, 2336821.988942168, 2336768.085105609, 2336866.3650831887, 2336820.5295380894, 2336820.795459666, 2336820.536507977, 2336870.823056454, 2336876.1881635627, 2336879.115830776, 2336761.0035390495, 2336818.304101242, 2336820.729652565, 2336885.3099746415, 2336878.2579881027, 2336820.877062152, 2336752.541749235, 2336818.304101242, 2336878.3400309603, 2336829.4797491063, 2336820.8941378575, 2336707.2829014673, 2336752.053119902, 2336821.4993688334, 2336702.7840869273, 2336669.3923061457, 2336755.3097831397, 2336691.0419685924, 2336763.1353722205, 2336755.490290416, 2336817.456997936, 2336874.2232679254, 2336816.3418115224, 2336956.7890879605, 2336772.7302092053, 2336956.509573808, 2336758.5568545824, 2336821.915176071, 2336762.576995157, 2336760.7231165282, 2336819.3137468067, 2336843.392130242, 2336821.884515363, 2336762.8477274133, 2336828.817086293, 2336766.950922028, 2336876.959513235, 2336830.2475402793, 2336821.5581714157, 2336703.9835388996, 2336822.0168309384, 2336688.6695303735, 2336820.8890706515, 2336820.9684586255, 2336819.634059115, 2336822.021045051, 2336678.0190449827, 2336684.093370119, 2336667.862771822, 2336820.215637871, 2336765.9117354783, 2336821.4730414753, 2336650.425287265, 2336771.5876370003, 2336654.0025303084, 2336834.529074887, 2336762.3552692104, 2336821.9154719575, 2336818.408386152, 2336763.4339279984, 2336760.8535873503, 2336819.2708531935, 2336826.4306956325, 2336622.116579267, 2336822.030387175, 2336756.2977111014, 2336764.6287319954, 2336822.8538511517, 2336816.3835430774, 2336821.538885854, 2336631.6469108933, 2336762.112076694, 2336762.618920566, 2336621.025191734, 2336756.8561572507, 2336760.359743652, 2336821.9604076524, 2336821.9794131676, 2336630.10644599, 2336676.2189517925, 2336621.07402535, 2336820.546815084, 2336695.0772768296, 2336815.040466757, 2336772.9018246876, 2336818.163159195, 2336819.2724122507, 2336761.8366971016, 2336626.1536606266, 2336704.523290151, 2336705.8206958445, 2336817.4524205513, 2336762.1421633526, 2336698.796037965, 2336704.293699136, 2336761.096717434, 2336820.825036031, 2336703.7436707397, 2336762.8446637336, 2336696.538142735, 2336763.8731745463, 2336698.944874307, 2336697.7362290737, 2336756.426736156, 2336822.0375213907, 2336697.67461649, 2336696.121286993, 2336624.971344668, 2336689.0144602465, 2336764.9504410876, 2336677.027546702, 2336677.8554106127, 2336680.4206374846, 2336624.926962618, 2336755.531310523, 2336823.5203371723, 2336753.7111293613, 2336674.079847563, 2336649.9567116317, 2336624.269126658, 2336766.6275046985, 2336820.466284762, 2336628.123359376, 2336667.48558965, 2336760.2945870305, 2336755.844469904, 2336816.4104690007, 2336707.2844803175, 2336670.1686557373, 2336663.8019090653, 2336630.5131992726, 2336658.2974755797, 2336815.0768878325, 2336661.100946548, 2336704.2484607017, 2336658.40419403, 2336655.0320842704, 2336702.674509413, 2336627.9559412664, 2336649.160265011, 2336646.124850919, 2336827.8525834116, 2336633.074771505, 2336701.1226158002, 2336760.5246987287, 2336693.5520360866, 2336697.979511892, 2336649.2598578543, 2336697.9773342884, 2336625.1832624367, 2336669.4705162197, 2336701.5285620075, 2336625.3419961836, 2336689.3071435136, 2336620.3158583976, 2336654.2559766406, 2336707.3767714617, 2336687.7961908286, 2336699.420341204, 2336625.389955623, 2336622.371397444, 2336661.881505547, 2336661.498380311, 2336621.294000564, 2336707.3109412007, 2336633.9966748473, 2336637.7815079032, 2336622.3804139625, 2336704.649119881, 2336629.5018110718, 2336631.381439787, 2336703.035169537, 2336633.460758052, 2336708.416015663, 2336754.259712528, 2336623.3465318456, 2336625.0600842, 2336645.941379942, 2336707.155451457, 2336622.8091198946, 2336765.8644362604, 2336751.4259694037, 2336705.775394085, 2336672.6464438685, 2336705.4814750426, 2336702.409019004, 2336759.023446446, 2336754.750968424, 2336623.5477746953, 2336625.237603069, 2336628.960293712, 2336755.8443384315, 2336705.5993819144, 2336622.2102983743, 2336625.374327852, 2336689.2271714867, 2336764.934477911, 2336761.387260617, 2336633.669339974, 2336689.838479243, 2336627.6645089374, 2336625.408683542, 2336623.1182222636, 2336697.5404484463, 2336689.838479243, 2336635.046690835, 2336624.9393291394, 2336634.833530915, 2336619.4472265267, 2336637.9493801193, 2336687.445202919, 2336682.622998951, 2336879.6092535276, 2336625.2359787175, 2336643.288804714, 2336626.667873129, 2336696.4857708616, 2336624.5822249586, 2336690.9833971052, 2336649.551359181, 2336701.70426272, 2336637.878093279, 2336663.8754848023, 2336621.71068915, 2336623.6212781183, 2336693.645361326, 2336707.043389021, 2336874.6171471104, 2336625.7268836135, 2336693.307402876, 2336703.8890850027, 2336641.1017584223, 2336882.6142132063, 2336681.666471137, 2336876.2379347123, 2336697.008581218, 2336624.206518287, 2336622.272537789, 2336652.4771515448, 2336625.1791706146, 2336704.302523276, 2336629.5037075737, 2336703.5678285137, 2336621.4036054076, 2336681.9255585163, 2336704.2509938236, 2336644.651899786, 2336877.8146820464, 2336644.2870009257, 2336678.239184267, 2336703.929165918, 2336871.967844672, 2336696.395364977, 2336621.4036054076, 2336626.8349318057, 2336682.5810051747, 2336696.4382026033, 2336703.129060664, 2336621.4036054076, 2336684.000317533, 2336704.786543758, 2336624.356884587, 2336623.820220991, 2336704.790491459, 2336675.4312374475, 2336704.774014679, 2336625.3820958086, 2336624.343082588, 2336704.108324754, 2336667.1895409166, 2336690.638038723, 2336638.9014049172, 2336653.6000848687, 2336690.747226388, 2336626.2068093847, 2336623.862562644, 2336641.165554228, 2336881.070410467, 2336696.5589339705, 2336626.5404875996, 2336653.326923521, 2336633.363548383, 2336636.6889202846, 2336625.8420845014, 2336652.0976990503, 2336633.4002269013, 2336655.4093265976, 2336671.1790167456, 2336625.750262486, 2336708.1239361446, 2336880.237229084, 2336677.0712198294, 2336663.8502931637, 2336624.5825096588, 2336621.3992468542, 2336672.1356405113, 2336621.95085701, 2336677.3741448214, 2336701.5468287147, 2336624.933133752, 2336620.7949810983, 2336698.5535665387, 2336620.1865965207, 2336624.4008558486, 2336619.906647444, 2336622.3175027133, 2336621.0458884058, 2336626.0083733597, 2337010.759239355, 2337011.919266478, 2337007.941542602, 2336997.044304488, 2336977.206943051, 2336957.862932901, 2336956.50218531, 2336880.5198318483, 2336878.2718571313, 2336851.5777972154, 2336820.177137355, 2336806.145995948, 2336757.487415617, 2336757.4674154976, 2336758.1583046936, 2336754.4725972028, 2336756.5904499954, 2336761.0125451707, 2336761.450571823, 2336769.8908518925, 2336762.248213334, 2336761.512724245, 2336762.8568175836, 2336754.4082731702, 2336760.636706652, 2336760.4493089137, 2336761.0420729183, 2336759.251335447, 2336879.4711385835, 2336878.2876941683, 2336873.8590014502, 2336880.6764248232, 2336864.4954458545, 2336878.909031495, 2336877.2092475668, 2336706.7187190233, 2336674.4151593368, 2336649.57581302, 2336630.0225060806, 2336632.1522261924, 2336630.5568588767, 2336625.324903331, 2336627.3209980014, 2336635.834795173, 2336626.386672059, 2336626.9765927773, 2336634.0575050195, 2336660.670468859, 2336662.2686524657, 2336654.0039455304, 2336684.5518261716, 2336690.675268012, 2336698.9314253777, 2336703.8924698494, 2336704.7880452326, 2336704.967211328, 2336705.425661366, 2336704.153737078, 2336702.3763066353, 2336684.3192858337, 2336684.7826084485, 2336641.170379003, 2336627.742793869, 2336621.834767416, 2336624.096551384, 2336962.1179413823, 2336961.668767667, 2336962.0459060944], \"z\": [3, 4, 4, 4, 2, 2, 3, 3, 2, 0, 2, 0, 0, 2, 0, 1, 3, 4, 1, 1, 3, 0, 4, 4, 1, 1, 1, 1, 2, 2, 1, 2, 2, 2, 2, 2, 3, 3, 3, 3, 3, 3, 3, 3, 3, 3, 3, 3, 3, 3, 0, 1, 0, 0, 0, 0, 0, 0, 0, 1, 1, 1, 0, 0, 0, 0, 0, 1, 0, 0, 0, 0, 0, 0, 0, 0, 0, 0, 0, 0, 0, 0, 0, 0, 0, 0, 1, 1, 1, 1, 1, 1, 1, 1, 1, 1, 1, 1, 1, 1, 1, 1, 0, 0, 0, 0, 0, 0, 0, 0, 0, 0, 0, 0, 1, 1, 1, 1, 1, 1, 1, 1, 1, 1, 1, 1, 1, 1, 1, 1, 1, 1, 1, 1, 1, 1, 1, 1, 1, 1, 1, 1, 1, 1, 1, 1, 1, 1, 1, 0, 0, 0, 0, 0, 2, 2, 2, 2, 2, 2, 2, 0, 0, 2, 2, 2, 2, 2, 2, 1, 1, 1, 1, 1, 1, 1, 1, 1, 1, 2, 1, 2, 1, 2, 1, 2, 1, 1, 2, 0, 1, 2, 1, 1, 1, 3, 3, 3, 3, 3, 3, 3, 3, 3, 1, 3, 3, 3, 3, 3, 3, 3, 3, 3, 3, 3, 3, 1, 1, 3, 1, 1, 1, 1, 3, 1, 1, 1, 3, 3, 3, 3, 3, 1, 1, 1, 1, 2, 2, 2, 2, 2, 2, 2, 2, 1, 1, 1, 1, 1, 1, 1, 1, 2, 2, 2, 2, 2, 2, 2, 2, 2, 2, 2, 2, 2, 2, 2, 2, 2, 2, 2, 2, 2, 2, 2, 2, 2, 2, 2, 2, 2, 2, 2, 2, 2, 2, 2, 2, 1, 1, 1, 1, 0, 1, 1, 1, 1, 1, 1, 1, 1, 1, 1, 1, 1, 1, 1, 1, 1, 1, 1, 1, 1, 1, 1, 1, 1, 1, 1, 1, 1, 1, 1, 1, 1, 1, 1, 1, 1, 1, 1, 2, 1, 1, 1, 1, 1, 1, 1, 1, 1, 0, 0, 0, 0, 1, 1, 1, 1, 1, 1, 1, 1, 1, 1, 1, 1, 1, 1, 1, 1, 1, 1, 1, 1, 2, 2, 2, 2, 2, 2, 2, 0, 2, 2, 2, 2, 2, 1, 1, 1, 1, 1, 1, 1, 1, 1, 2, 1, 1, 1, 2, 1, 1, 2, 1, 1, 3, 1, 2, 1, 3, 1, 1, 1, 1, 1, 3, 2, 1, 1, 1, 1, 3, 0, 1, 2, 1, 3, 2, 2, 2, 2, 3, 2, 1, 2, 2, 2, 2, 2, 2, 2, 2, 2, 1, 2, 2, 1, 1, 3, 2, 1, 2, 2, 1, 2, 1, 3, 2, 1, 2, 1, 3, 2, 2, 1, 0, 1, 1, 2, 2, 2, 2, 1, 1, 2, 2, 2, 2, 1, 2, 2, 2, 2, 1, 2, 0, 1, 3, 1, 2, 2, 2, 2, 2, 1, 3, 2, 2, 0, 2, 1, 1, 2, 1, 1, 1, 1, 1, 1, 1, 0, 3, 1, 2, 0, 2, 1, 0, 0, 2, 1, 2, 2, 2, 1, 1, 1, 2, 1, 1, 2, 0, 3, 1, 1, 2, 2, 0, 3, 1, 1, 1, 3, 1, 0, 1, 1, 2, 1, 1, 1, 3, 2, 1, 1, 1, 1, 2, 1, 1, 3, 3, 1, 0, 1, 3, 1, 1, 3, 1, 1, 3, 1, 1, 0, 1, 3, 1, 3, 2, 3, 2, 3, 2, 2, 1, 3, 1, 2, 3, 2, 1, 3, 2, 1, 2, 1, 1, 1, 2, 1, 1, 3, 3, 2, 3, 3, 1, 3, 0, 2, 3, 3, 3, 3, 3, 3, 3, 3, 0, 1, 2, 3, 3, 0, 0, 1, 1, 0, 3, 3, 2, 2, 3, 3, 3, 1, 0, 2, 1, 0, 1, 2, 2, 3, 3, 1, 2, 3, 0, 3, 2, 2, 0, 1, 1, 3, 3, 0, 1, 0, 1, 2, 3, 0, 2, 0, 0, 1, 2, 1, 0, 3, 2, 1, 2, 1, 0, 1, 0, 2, 2, 1, 0, 2, 1, 0, 1, 1, 3, 1, 1, 2, 1, 0, 2, 2, 1, 1, 1, 1, 2, 1, 2, 2, 3, 2, 0, 2, 3, 2, 2, 3, 1, 0, 2, 1, 3, 1, 0, 1, 1, 1, 1, 1, 1, 1, 1, 1, 0, 1, 2, 1, 2, 0, 1, 2, 0, 0, 1, 1, 1, 2, 1, 0, 1, 1, 0, 2, 1, 1, 3, 1, 1, 2, 1, 1, 1, 2, 1, 2, 3, 2, 2, 2, 1, 0, 1, 2, 1, 3, 2, 1, 2, 1, 3, 2, 2, 2, 2, 1, 2, 1, 1, 2, 1, 2, 1, 1, 2, 1, 2, 2, 2, 2, 1, 1, 2, 3, 1, 2, 3, 2, 2, 2, 1, 1, 2, 2, 2, 2, 1, 3, 3, 1, 1, 2, 2, 1, 2, 1, 3, 1, 2, 3, 3, 2, 2, 2, 2, 2, 1, 1, 2, 1, 3, 4, 3, 2, 1, 2, 1, 1, 1, 1, 2, 2, 1, 3, 2, 1, 3, 1, 4, 1, 2, 3, 2, 2, 1, 4, 2, 3, 2, 2, 1, 2, 3, 2, 1, 1, 1, 2, 4, 2, 1, 1, 1, 1, 1, 2, 1, 1, 2, 4, 1, 0, 1, 4, 4, 1, 1, 1, 4, 1, 3, 1, 1, 1, 4, 2, 1, 1, 4, 2, 1, 1, 4, 1, 1, 2, 1, 3, 0, 4, 2, 2, 1, 1, 4, 2, 1, 0, 2, 2, 0, 2, 2, 1, 2, 2, 1, 4, 2, 2, 1, 2, 2, 0, 0, 2, 2, 0, 1, 1, 2, 2, 3, 1, 4, 1, 2, 2, 2, 1, 0, 3, 2, 2, 2, 1, 3, 2, 3, 3, 1, 1, 3, 2, 1, 0, 4, 2, 2, 1, 2, 1, 4, 2, 2, 0, 2, 2, 3, 4, 2, 0, 1, 2, 3, 2, 4, 1, 3, 1, 2, 2, 4, 1, 0, 2, 4, 4, 2, 1, 4, 1, 4, 1, 0, 4, 1, 1, 1, 1, 4, 0, 0, 1, 2, 4, 1, 1, 0, 0, 1, 0, 1, 0, 0, 1, 1, 1, 0, 1, 1, 1, 0, 1, 0, 1, 1, 1, 1, 1, 1, 1, 1, 1, 1, 1, 2, 1, 2, 2, 2, 1, 2, 2, 2, 2, 2, 2, 2, 2, 2, 2, 2, 2, 2, 3, 3, 3, 3, 3, 3, 3, 3, 3, 3, 3, 3, 3, 3, 3, 4, 4, 4, 4, 4, 3, 3, 3, 3, 3, 3, 3, 3, 3, 3, 3, 3, 3, 3, 3, 3, 3, 3, 3, 3, 3, 3, 3, 3, 3, 0, 0, 0]}],\n",
              "                        {\"coloraxis\": {\"colorbar\": {\"title\": {\"text\": \"BUILDINGID\"}}, \"colorscale\": [[0.0, \"#0d0887\"], [0.1111111111111111, \"#46039f\"], [0.2222222222222222, \"#7201a8\"], [0.3333333333333333, \"#9c179e\"], [0.4444444444444444, \"#bd3786\"], [0.5555555555555556, \"#d8576b\"], [0.6666666666666666, \"#ed7953\"], [0.7777777777777778, \"#fb9f3a\"], [0.8888888888888888, \"#fdca26\"], [1.0, \"#f0f921\"]]}, \"height\": 600, \"legend\": {\"tracegroupgap\": 0}, \"margin\": {\"t\": 60}, \"scene\": {\"domain\": {\"x\": [0.0, 0.98], \"y\": [0.0, 1.0]}, \"xaxis\": {\"title\": {\"text\": \"LONGITUDE\"}}, \"yaxis\": {\"title\": {\"text\": \"LATITUDE\"}}, \"zaxis\": {\"title\": {\"text\": \"FLOOR\"}}}, \"template\": {\"data\": {\"bar\": [{\"error_x\": {\"color\": \"#2a3f5f\"}, \"error_y\": {\"color\": \"#2a3f5f\"}, \"marker\": {\"line\": {\"color\": \"#E5ECF6\", \"width\": 0.5}}, \"type\": \"bar\"}], \"barpolar\": [{\"marker\": {\"line\": {\"color\": \"#E5ECF6\", \"width\": 0.5}}, \"type\": \"barpolar\"}], \"carpet\": [{\"aaxis\": {\"endlinecolor\": \"#2a3f5f\", \"gridcolor\": \"white\", \"linecolor\": \"white\", \"minorgridcolor\": \"white\", \"startlinecolor\": \"#2a3f5f\"}, \"baxis\": {\"endlinecolor\": \"#2a3f5f\", \"gridcolor\": \"white\", \"linecolor\": \"white\", \"minorgridcolor\": \"white\", \"startlinecolor\": \"#2a3f5f\"}, \"type\": \"carpet\"}], \"choropleth\": [{\"colorbar\": {\"outlinewidth\": 0, \"ticks\": \"\"}, \"type\": \"choropleth\"}], \"contour\": [{\"colorbar\": {\"outlinewidth\": 0, \"ticks\": \"\"}, \"colorscale\": [[0.0, \"#0d0887\"], [0.1111111111111111, \"#46039f\"], [0.2222222222222222, \"#7201a8\"], [0.3333333333333333, \"#9c179e\"], [0.4444444444444444, \"#bd3786\"], [0.5555555555555556, \"#d8576b\"], [0.6666666666666666, \"#ed7953\"], [0.7777777777777778, \"#fb9f3a\"], [0.8888888888888888, \"#fdca26\"], [1.0, \"#f0f921\"]], \"type\": \"contour\"}], \"contourcarpet\": [{\"colorbar\": {\"outlinewidth\": 0, \"ticks\": \"\"}, \"type\": \"contourcarpet\"}], \"heatmap\": [{\"colorbar\": {\"outlinewidth\": 0, \"ticks\": \"\"}, \"colorscale\": [[0.0, \"#0d0887\"], [0.1111111111111111, \"#46039f\"], [0.2222222222222222, \"#7201a8\"], [0.3333333333333333, \"#9c179e\"], [0.4444444444444444, \"#bd3786\"], [0.5555555555555556, \"#d8576b\"], [0.6666666666666666, \"#ed7953\"], [0.7777777777777778, \"#fb9f3a\"], [0.8888888888888888, \"#fdca26\"], [1.0, \"#f0f921\"]], \"type\": \"heatmap\"}], \"heatmapgl\": [{\"colorbar\": {\"outlinewidth\": 0, \"ticks\": \"\"}, \"colorscale\": [[0.0, \"#0d0887\"], [0.1111111111111111, \"#46039f\"], [0.2222222222222222, \"#7201a8\"], [0.3333333333333333, \"#9c179e\"], [0.4444444444444444, \"#bd3786\"], [0.5555555555555556, \"#d8576b\"], [0.6666666666666666, \"#ed7953\"], [0.7777777777777778, \"#fb9f3a\"], [0.8888888888888888, \"#fdca26\"], [1.0, \"#f0f921\"]], \"type\": \"heatmapgl\"}], \"histogram\": [{\"marker\": {\"colorbar\": {\"outlinewidth\": 0, \"ticks\": \"\"}}, \"type\": \"histogram\"}], \"histogram2d\": [{\"colorbar\": {\"outlinewidth\": 0, \"ticks\": \"\"}, \"colorscale\": [[0.0, \"#0d0887\"], [0.1111111111111111, \"#46039f\"], [0.2222222222222222, \"#7201a8\"], [0.3333333333333333, \"#9c179e\"], [0.4444444444444444, \"#bd3786\"], [0.5555555555555556, \"#d8576b\"], [0.6666666666666666, \"#ed7953\"], [0.7777777777777778, \"#fb9f3a\"], [0.8888888888888888, \"#fdca26\"], [1.0, \"#f0f921\"]], \"type\": \"histogram2d\"}], \"histogram2dcontour\": [{\"colorbar\": {\"outlinewidth\": 0, \"ticks\": \"\"}, \"colorscale\": [[0.0, \"#0d0887\"], [0.1111111111111111, \"#46039f\"], [0.2222222222222222, \"#7201a8\"], [0.3333333333333333, \"#9c179e\"], [0.4444444444444444, \"#bd3786\"], [0.5555555555555556, \"#d8576b\"], [0.6666666666666666, \"#ed7953\"], [0.7777777777777778, \"#fb9f3a\"], [0.8888888888888888, \"#fdca26\"], [1.0, \"#f0f921\"]], \"type\": \"histogram2dcontour\"}], \"mesh3d\": [{\"colorbar\": {\"outlinewidth\": 0, \"ticks\": \"\"}, \"type\": \"mesh3d\"}], \"parcoords\": [{\"line\": {\"colorbar\": {\"outlinewidth\": 0, \"ticks\": \"\"}}, \"type\": \"parcoords\"}], \"scatter\": [{\"marker\": {\"colorbar\": {\"outlinewidth\": 0, \"ticks\": \"\"}}, \"type\": \"scatter\"}], \"scatter3d\": [{\"line\": {\"colorbar\": {\"outlinewidth\": 0, \"ticks\": \"\"}}, \"marker\": {\"colorbar\": {\"outlinewidth\": 0, \"ticks\": \"\"}}, \"type\": \"scatter3d\"}], \"scattercarpet\": [{\"marker\": {\"colorbar\": {\"outlinewidth\": 0, \"ticks\": \"\"}}, \"type\": \"scattercarpet\"}], \"scattergeo\": [{\"marker\": {\"colorbar\": {\"outlinewidth\": 0, \"ticks\": \"\"}}, \"type\": \"scattergeo\"}], \"scattergl\": [{\"marker\": {\"colorbar\": {\"outlinewidth\": 0, \"ticks\": \"\"}}, \"type\": \"scattergl\"}], \"scattermapbox\": [{\"marker\": {\"colorbar\": {\"outlinewidth\": 0, \"ticks\": \"\"}}, \"type\": \"scattermapbox\"}], \"scatterpolar\": [{\"marker\": {\"colorbar\": {\"outlinewidth\": 0, \"ticks\": \"\"}}, \"type\": \"scatterpolar\"}], \"scatterpolargl\": [{\"marker\": {\"colorbar\": {\"outlinewidth\": 0, \"ticks\": \"\"}}, \"type\": \"scatterpolargl\"}], \"scatterternary\": [{\"marker\": {\"colorbar\": {\"outlinewidth\": 0, \"ticks\": \"\"}}, \"type\": \"scatterternary\"}], \"surface\": [{\"colorbar\": {\"outlinewidth\": 0, \"ticks\": \"\"}, \"colorscale\": [[0.0, \"#0d0887\"], [0.1111111111111111, \"#46039f\"], [0.2222222222222222, \"#7201a8\"], [0.3333333333333333, \"#9c179e\"], [0.4444444444444444, \"#bd3786\"], [0.5555555555555556, \"#d8576b\"], [0.6666666666666666, \"#ed7953\"], [0.7777777777777778, \"#fb9f3a\"], [0.8888888888888888, \"#fdca26\"], [1.0, \"#f0f921\"]], \"type\": \"surface\"}], \"table\": [{\"cells\": {\"fill\": {\"color\": \"#EBF0F8\"}, \"line\": {\"color\": \"white\"}}, \"header\": {\"fill\": {\"color\": \"#C8D4E3\"}, \"line\": {\"color\": \"white\"}}, \"type\": \"table\"}]}, \"layout\": {\"annotationdefaults\": {\"arrowcolor\": \"#2a3f5f\", \"arrowhead\": 0, \"arrowwidth\": 1}, \"colorscale\": {\"diverging\": [[0, \"#8e0152\"], [0.1, \"#c51b7d\"], [0.2, \"#de77ae\"], [0.3, \"#f1b6da\"], [0.4, \"#fde0ef\"], [0.5, \"#f7f7f7\"], [0.6, \"#e6f5d0\"], [0.7, \"#b8e186\"], [0.8, \"#7fbc41\"], [0.9, \"#4d9221\"], [1, \"#276419\"]], \"sequential\": [[0.0, \"#0d0887\"], [0.1111111111111111, \"#46039f\"], [0.2222222222222222, \"#7201a8\"], [0.3333333333333333, \"#9c179e\"], [0.4444444444444444, \"#bd3786\"], [0.5555555555555556, \"#d8576b\"], [0.6666666666666666, \"#ed7953\"], [0.7777777777777778, \"#fb9f3a\"], [0.8888888888888888, \"#fdca26\"], [1.0, \"#f0f921\"]], \"sequentialminus\": [[0.0, \"#0d0887\"], [0.1111111111111111, \"#46039f\"], [0.2222222222222222, \"#7201a8\"], [0.3333333333333333, \"#9c179e\"], [0.4444444444444444, \"#bd3786\"], [0.5555555555555556, \"#d8576b\"], [0.6666666666666666, \"#ed7953\"], [0.7777777777777778, \"#fb9f3a\"], [0.8888888888888888, \"#fdca26\"], [1.0, \"#f0f921\"]]}, \"colorway\": [\"#636efa\", \"#EF553B\", \"#00cc96\", \"#ab63fa\", \"#FFA15A\", \"#19d3f3\", \"#FF6692\", \"#B6E880\", \"#FF97FF\", \"#FECB52\"], \"font\": {\"color\": \"#2a3f5f\"}, \"geo\": {\"bgcolor\": \"white\", \"lakecolor\": \"white\", \"landcolor\": \"#E5ECF6\", \"showlakes\": true, \"showland\": true, \"subunitcolor\": \"white\"}, \"hoverlabel\": {\"align\": \"left\"}, \"hovermode\": \"closest\", \"mapbox\": {\"style\": \"light\"}, \"paper_bgcolor\": \"white\", \"plot_bgcolor\": \"#E5ECF6\", \"polar\": {\"angularaxis\": {\"gridcolor\": \"white\", \"linecolor\": \"white\", \"ticks\": \"\"}, \"bgcolor\": \"#E5ECF6\", \"radialaxis\": {\"gridcolor\": \"white\", \"linecolor\": \"white\", \"ticks\": \"\"}}, \"scene\": {\"xaxis\": {\"backgroundcolor\": \"#E5ECF6\", \"gridcolor\": \"white\", \"gridwidth\": 2, \"linecolor\": \"white\", \"showbackground\": true, \"ticks\": \"\", \"zerolinecolor\": \"white\"}, \"yaxis\": {\"backgroundcolor\": \"#E5ECF6\", \"gridcolor\": \"white\", \"gridwidth\": 2, \"linecolor\": \"white\", \"showbackground\": true, \"ticks\": \"\", \"zerolinecolor\": \"white\"}, \"zaxis\": {\"backgroundcolor\": \"#E5ECF6\", \"gridcolor\": \"white\", \"gridwidth\": 2, \"linecolor\": \"white\", \"showbackground\": true, \"ticks\": \"\", \"zerolinecolor\": \"white\"}}, \"shapedefaults\": {\"line\": {\"color\": \"#2a3f5f\"}}, \"ternary\": {\"aaxis\": {\"gridcolor\": \"white\", \"linecolor\": \"white\", \"ticks\": \"\"}, \"baxis\": {\"gridcolor\": \"white\", \"linecolor\": \"white\", \"ticks\": \"\"}, \"bgcolor\": \"#E5ECF6\", \"caxis\": {\"gridcolor\": \"white\", \"linecolor\": \"white\", \"ticks\": \"\"}}, \"title\": {\"x\": 0.05}, \"xaxis\": {\"automargin\": true, \"gridcolor\": \"white\", \"linecolor\": \"white\", \"ticks\": \"\", \"zerolinecolor\": \"white\", \"zerolinewidth\": 2}, \"yaxis\": {\"automargin\": true, \"gridcolor\": \"white\", \"linecolor\": \"white\", \"ticks\": \"\", \"zerolinecolor\": \"white\", \"zerolinewidth\": 2}}}},\n",
              "                        {\"responsive\": true}\n",
              "                    ).then(function(){\n",
              "                            \n",
              "var gd = document.getElementById('b16eec13-01a4-4d62-b9b5-8bb07617ec0f');\n",
              "var x = new MutationObserver(function (mutations, observer) {{\n",
              "        var display = window.getComputedStyle(gd).display;\n",
              "        if (!display || display === 'none') {{\n",
              "            console.log([gd, 'removed!']);\n",
              "            Plotly.purge(gd);\n",
              "            observer.disconnect();\n",
              "        }}\n",
              "}});\n",
              "\n",
              "// Listen for the removal of the full notebook cells\n",
              "var notebookContainer = gd.closest('#notebook-container');\n",
              "if (notebookContainer) {{\n",
              "    x.observe(notebookContainer, {childList: true});\n",
              "}}\n",
              "\n",
              "// Listen for the clearing of the current output cell\n",
              "var outputEl = gd.closest('.output');\n",
              "if (outputEl) {{\n",
              "    x.observe(outputEl, {childList: true});\n",
              "}}\n",
              "\n",
              "                        })\n",
              "                };\n",
              "                \n",
              "            </script>\n",
              "        </div>\n",
              "</body>\n",
              "</html>"
            ]
          },
          "metadata": {
            "tags": []
          }
        }
      ]
    }
  ]
}